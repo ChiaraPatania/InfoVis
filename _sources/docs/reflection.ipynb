{
 "cells": [
  {
   "cell_type": "markdown",
   "metadata": {},
   "source": [
    "# Reflection\n",
    "\n",
    "## Peer feedback\n",
    "During peer feedback sessions on June 20, 2024 and June 25, 2024, we received peer feedback from two other groups, and from our TA as well. They advised us to improve the following things in our datastory: \n",
    "Provide a clearer description of the difference between decriminalization and legalization of drugs and of the drug laws in Portugal and Oregon. \n",
    "Add more visualizations. (For the draft deadline, the website was not complete yet, so for some of the arguments the visualizations were missing.)\n",
    "Add a slider to the interactive map to make the interactive visualization more user-friendly, instead of a drop-down menu with the different years.\n",
    "Portugal and Oregon should be pointed out more clearly in the visualizations\n",
    "After the peer review we discussed the feedback with our group. We all agreed that the feedback points were valid and have improved the feedback points in our datastory.\n",
    "\n",
    "\n",
    "## Self-reflection\n",
    "For some visualizations we could not find data of Portugal before 2001. As such, we compared the available data of Portugal to the mean of Europe, so we could visualize whether Portugal is doing better than Europe with its current decriminalizing drug policy.  As a result, we could not compare the situation before and after the decriminalization of drugs. This makes the data less relevant because the full effect of decriminalization is not completely visible in the visualization. If we had more time for the project, we would have searched for databases that do contain information about Portugal before and after decriminalization. Furthermore, we could have made more visualizations of Oregon to compare the results of the different implementations of Oregon and Portugal. However, the data on the government websites was mostly unavailable for us. As such, we could not access the data for this data story, but given the opportunity, we would have liked to do so to make our datastory more complete.\n"
   ]
  }
 ],
 "metadata": {
  "language_info": {
   "name": "python"
  }
 },
 "nbformat": 4,
 "nbformat_minor": 2
}
