{
 "cells": [
  {
   "cell_type": "markdown",
   "metadata": {},
   "source": [
    "# Work distribution\n",
    "\n",
    "## Amanda\n",
    "\n",
    "## Chiara\n",
    "\n",
    "## Linde\n",
    "\n",
    "## Vivienne"
   ]
  }
 ],
 "metadata": {
  "language_info": {
   "name": "python"
  }
 },
 "nbformat": 4,
 "nbformat_minor": 2
}
