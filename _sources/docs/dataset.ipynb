{
 "cells": [
  {
   "cell_type": "markdown",
   "metadata": {},
   "source": [
    "# Dataset and preprocessing\n",
    "### Where did we find the data?\n",
    "\n",
    "\n",
    "## Cleaning\n",
    "\n",
    "## Variable descriptions\n",
    "\n",
    "\n",
    "## Aggregations"
   ]
  }
 ],
 "metadata": {
  "language_info": {
   "name": "python"
  }
 },
 "nbformat": 4,
 "nbformat_minor": 2
}
