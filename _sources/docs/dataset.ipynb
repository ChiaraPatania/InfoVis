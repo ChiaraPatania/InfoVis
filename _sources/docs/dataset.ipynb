{
 "cells": [
  {
   "cell_type": "markdown",
   "metadata": {},
   "source": [
    "# Dataset and preprocessing\n",
    "When everyone agreed on the decriminalization of drugs as the central theme for our data story, we decided that each member should find multiple datasets relevant to the subject. The two perspectives were quite clear for this topic, but the specific arguments we would cover were less defined. During our first team meeting, we discussed all the relevant datasets and explored which variables could provide sufficient correlations related to drug decriminalization. Through these discussions, we also clarified which arguments would support both perspectives.\n",
    "<br>\n",
    "<br>\n",
    "Given that Portugal and Oregon were our main regions of interest, since both governments have implemented drug decriminalization, we had a clear focus on what data could be relevant and a framework for deciding which datasets to include.\n",
    "<br>\n",
    "<br>\n",
    "One of the challenges we faced was the lack of data from Portugal before the decriminalization. This limited our ability to compare the situation before and after decriminalization directly. Therefore, we decided to collect data from various countries and compare them based on similarities in overall culture or in their approaches to drug policy.\n",
    "<br>\n",
    "<br>\n",
    "In the case of Oregon there was more pre-legalization data  available, probably because  it was a more recent policy change. Therefore we were able to make direct comparisons before and after decriminalization. Yet, we decided to even compare the different states to determine whether the observed trends were specific to drug legalization or part of a broader pattern.\n",
    "<br>\n",
    "<br>\n",
    "The datasets we found came from many different sources. However, since we consistently analyzed data by year or by country, combining and comparing these datasets was feasible and justified. By integrating multiple datasets from different sources, we were able to fill gaps and create a more comprehensive analysis. This approach not only provided a richer perspective but also ensured that our conclusions were based on robust and diverse data points.\n",
    "To facilitate the use of data for visualizations, we stored all datasets in CSV format. Most datasets were already available as CSV files, but a few had to be converted from formats such as XLSX. \n",
    "\n"
   ]
  }
 ],
 "metadata": {
  "language_info": {
   "name": "python"
  }
 },
 "nbformat": 4,
 "nbformat_minor": 2
}
