{
 "cells": [
  {
   "cell_type": "markdown",
   "metadata": {},
   "source": [
    "# Work distribution\n",
    "\n",
    "## Amanda\n",
    "Amanda contributed to create the outline of the data story. This includes coming up with the arguments of the story and deciding what variables were needed for the arguments. She also created the data visualization for the argument that drug decriminalization alleviates the burden on the criminal justice system. Furthermore, she helped to write the storyline.\n",
    "\n",
    "\n",
    "## Chiara\n",
    "Chiara took the responsibility for creating the Jupyter Book. She also participated in creating the graphs, specifically the graph showing drug related crimes in Portugal vs. mean of Europe, and the interactive map showing death rates per state, and helping with debugging and styling of other graphs. Additionally, she handled the presentation and feedback, and helped write the rest of the storyline.\n",
    "\n",
    "## Linde\n",
    "Linde worked on finding relevant datasets to support the arguments. She also created a database for us to get an overview of all available datasets. Additionally, she created graphs and helped write the storyline.\n",
    "\n",
    "## Vivienne\n",
    "Vivienne first worked on the structure and arguments of the datastory. Then she participated in creating graphs. Furthermore she wrote the introduction and helped with the rest of the storyline. "
   ]
  }
 ],
 "metadata": {
  "language_info": {
   "codemirror_mode": {
    "name": "ipython",
    "version": 3
   },
   "file_extension": ".py",
   "mimetype": "text/x-python",
   "name": "python",
   "nbconvert_exporter": "python",
   "pygments_lexer": "ipython3",
   "version": "3.10.14"
  }
 },
 "nbformat": 4,
 "nbformat_minor": 2
}