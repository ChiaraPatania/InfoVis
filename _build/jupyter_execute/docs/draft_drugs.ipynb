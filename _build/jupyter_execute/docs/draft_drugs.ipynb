{
 "cells": [
  {
   "cell_type": "markdown",
   "id": "44c6bf2b-62e7-4da5-a60b-b8a7253b05cd",
   "metadata": {},
   "source": [
    "# Introduction\n"
   ]
  },
  {
   "cell_type": "code",
   "execution_count": 1,
   "id": "68054ab1-0439-4028-9fb9-b6ae713c8f85",
   "metadata": {
    "jupyter": {
     "source_hidden": true
    },
    "tags": [
     "hide-input"
    ]
   },
   "outputs": [
    {
     "data": {
      "text/html": [
       "<img src=\"https://toronto.ctvnews.ca/content/dam/ctvnews/en/images/2022/8/5/opioid-1-6015385-1659696091659.jpg\" width=\"600\" height=\"300\"/>"
      ],
      "text/plain": [
       "<IPython.core.display.Image object>"
      ]
     },
     "metadata": {},
     "output_type": "display_data"
    },
    {
     "name": "stdout",
     "output_type": "stream",
     "text": [
      "© The Canadian Press / Chad Hipolito\n"
     ]
    }
   ],
   "source": [
    "# Load image from link\n",
    "url = 'https://toronto.ctvnews.ca/content/dam/ctvnews/en/images/2022/8/5/opioid-1-6015385-1659696091659.jpg'\n",
    "\n",
    "# Display image from URL with smaller size and subtitle\n",
    "from IPython.display import Image, display\n",
    "\n",
    "# Set the desired image width and height\n",
    "width = 600\n",
    "height = 300\n",
    "\n",
    "# Set the subtitle text\n",
    "subtitle = \"© The Canadian Press / Chad Hipolito\"\n",
    "\n",
    "# Create an Image instance with the URL\n",
    "image = Image(url=url, width=width, height=height)\n",
    "\n",
    "# Display the image and subtitle\n",
    "display(image)\n",
    "print(subtitle)"
   ]
  },
  {
   "cell_type": "markdown",
   "id": "8036bacc",
   "metadata": {},
   "source": [
    "For over two decades, drug decriminalization has sparked intense debate and policy experimentation around the world due to the complex interplay of moral, social, economic, and health considerations (Jesseman & Payer, 2018). Often confused with legalization, decriminalization represents a distinct approach to drug policy. Decriminalization means reducing or eliminating criminal penalties for drug possession and personal use, shifting the focus from punishment to treatment and harm reduction, without making the production and sale of drugs lawful (Greenwald, 2009; Félix & Portugal, 2017). In contrast, legalization involves making not only drug possession and personal use lawful but also the production and sale of certain drugs under regulated conditions, similar to how alcohol and tobacco are treated in many jurisdictions (Félix & Portugal, 2017). \n",
    "<br><br>\n",
    "Advocates for decriminalization argue it can reduce crime, improve public health by providing better access to treatment, and alleviate the burden on the criminal justice system. They believe treating drug use as a public health issue rather than a criminal one can reduce stigma and encourage individuals to seek help. Additionally, they assert that decriminalization could reduce the incidence of drug overdoses and deaths by promoting safer use practices and increasing the quality of substances, reducing harm from adulterated drugs. Opponents, however, fear it could lead to increased drug use, higher healthcare costs, and the risk of normalizing drug consumption, particularly among young people (Ferraiolo, 2014; Miech et al., 2015).\n",
    "<br><br>\n",
    "This datastory will delve into these contrasting viewpoints, utilizing data visualizations to present a comprehensive narrative. Data from Portugal and Oregon will be examined due to their pioneering roles in drug policy reform, with Portugal decriminalizing drugs in 2001 and Oregon decriminalizing small amounts of all drugs in 2021. Both regions shifted focus from punitive measures to public health and harm reduction, offering valuable insights into alternative strategies (Greenwald, 2009; Gerstner, 2021). Their experiences provide crucial data for understanding the impacts and potential benefits of drug decriminalization. By examining the social, economic, and health-related data from the country Portugal and the US state Oregon, we aim to provide a balanced and informative discussion on the future of drug decriminalization.\n",
    "\n",
    "\n",
    "## Team information\n",
    "Amanda Jansen, <br>\n",
    "Vivienne Jansen, <br>\n",
    "Chiara Patania,  <br>\n",
    "Linde van Saane\n",
    "\n",
    "L5 - Don't do drugs\n",
    "\n",
    "Informatie Visualisatie, June 28 2024, University of Amsterdam"
   ]
  }
 ],
 "metadata": {
  "kernelspec": {
   "display_name": "Python 3 (ipykernel)",
   "language": "python",
   "name": "python3"
  },
  "language_info": {
   "codemirror_mode": {
    "name": "ipython",
    "version": 3
   },
   "file_extension": ".py",
   "mimetype": "text/x-python",
   "name": "python",
   "nbconvert_exporter": "python",
   "pygments_lexer": "ipython3",
   "version": "3.10.14"
  }
 },
 "nbformat": 4,
 "nbformat_minor": 5
}