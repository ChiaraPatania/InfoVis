{
 "cells": [
  {
   "cell_type": "markdown",
   "id": "44c6bf2b-62e7-4da5-a60b-b8a7253b05cd",
   "metadata": {},
   "source": [
    "# Decriminalization of drugs \n",
    "Informatie Visualisatie, June 18 2024, University of Amsterdam\n",
    "\n",
    "## Team information\n",
    "### Team members\n",
    "Amanda Jansen,\n",
    "Vivienne Jansen,\n",
    "Chiara Patania & \n",
    "Linde van Saane\n",
    "\n",
    "### Group Number\n",
    "L5\n",
    "\n",
    "### Team Name \n",
    "Don't do drugs"
   ]
  },
  {
   "cell_type": "code",
   "execution_count": 44,
   "id": "68054ab1-0439-4028-9fb9-b6ae713c8f85",
   "metadata": {
    "jupyter": {
     "source_hidden": true
    }
   },
   "outputs": [
    {
     "data": {
      "text/html": [
       "<img src=\"https://toronto.ctvnews.ca/content/dam/ctvnews/en/images/2022/8/5/opioid-1-6015385-1659696091659.jpg\" width=\"600\" height=\"300\"/>"
      ],
      "text/plain": [
       "<IPython.core.display.Image object>"
      ]
     },
     "metadata": {},
     "output_type": "display_data"
    },
    {
     "name": "stdout",
     "output_type": "stream",
     "text": [
      "© The Canadian Press / Chad Hipolito\n"
     ]
    }
   ],
   "source": [
    "# Load image from link\n",
    "url = 'https://toronto.ctvnews.ca/content/dam/ctvnews/en/images/2022/8/5/opioid-1-6015385-1659696091659.jpg'\n",
    "\n",
    "# Display image from URL with smaller size and subtitle\n",
    "from IPython.display import Image, display\n",
    "\n",
    "# Set the desired image width and height\n",
    "width = 600\n",
    "height = 300\n",
    "\n",
    "# Set the subtitle text\n",
    "subtitle = \"© The Canadian Press / Chad Hipolito\"\n",
    "\n",
    "# Create an Image instance with the URL\n",
    "image = Image(url=url, width=width, height=height)\n",
    "\n",
    "# Display the image and subtitle\n",
    "display(image)\n",
    "print(subtitle)"
   ]
  },
  {
   "cell_type": "markdown",
   "id": "5b4a2250-da5e-4787-9ae2-156e60d331cd",
   "metadata": {},
   "source": [
    "# Introduction\n",
    "The legislation of drugs has been an issue for decades, with strong arguments on both sides of the debate. One perspective argues that drugs should be legalized to stop drug criminalization. Supporters of this view believe that the current approach to drug prohibition has failed, leading to a lot of social and economic problems. They argue that legalization could reduce crime rates, alleviate the burden on the criminal justice system, and redirect resources to more effective public health strategies. Furthermore, they suggest that regulation could ensure the safety and quality of substances, reducing the harm caused by adulterated or unsafe drugs. \n",
    "Conversely, the other perspective holds that drugs should not be legalized due to the potential for increased addiction and health issues. Critics of legalization argue that making drugs more accessible could lead to higher rates of substance abuse and addiction, resulting in significant public health challenges. They emphasize the potential for increased healthcare costs, the negative impact on families and communities, and the risk of normalizing drug use, particularly among young people. \n",
    "\n",
    "In 2001 Portugal's decision to decriminalize drugs marked a critical moment in global drug policy. Rather than punishing individuals caught with small amounts of drugs, Portugal opted to treat drug use as a public health issue. This shift redirected resources from law enforcement towards prevention, treatment, and harm reduction services. \n",
    "Similarly, Oregon's historic move in 2021 to decriminalize the possession of small amounts of all drugs, alongside the legalization of psilocybin mushrooms for therapeutic use, has drawn international attention. Oregon's initiative aims to prioritize addiction treatment and recovery programs over criminal penalties. It reflects a growing acknowledgment in the United States that punitive drug policies have not effectively addressed addiction and related issues, instead perpetuating cycles of incarceration and social harm.\n",
    "\n",
    "Both Portugal and Oregon exemplify different approaches to addressing drug-related challenges through decriminalization and legalization, respectively. Their experiences contribute valuable insights into the ongoing global discourse on drug policy reform, highlighting alternative strategies that prioritize public health and harm reduction over punitive measures.\n",
    "\n",
    "During this project we will delve into these contrasting viewpoints, utilizing data visualization to present a comprehensive narrative. By examining the social, economic, and health-related data from the country Portugal and the US state Oregon, we aim to provide a balanced and informative discussion on the future of drug legislation."
   ]
  },
  {
   "cell_type": "markdown",
   "id": "80e48916-fbc1-4b98-ab1b-b13c5570ab71",
   "metadata": {},
   "source": [
    "# Dataset and Preprocessing"
   ]
  },
  {
   "cell_type": "markdown",
   "id": "28ab8fc7-52b0-4580-bd19-ccf2d2d0cf13",
   "metadata": {},
   "source": [
    "## Perspective 1 - Drugs should be legalized to stop drug criminalization\n",
    "### First argument: Reduction in crime rates\n",
    "#### Argument: Legalization reduces drug-related crime.\n",
    "The first dataset focusses on drug related crimes and can be found with the following link: https://www.unodc.org/unodc/en/data-and-analysis/wdr2022_annex.html\n",
    "<br>\n",
    "The variables in this dataset are: 'Region', 'SubRegion', 'Country/Territory', 'Type of offence', 'Year', 'Drugs', 'Total', 'Males', 'Females', 'Unknown/Other/Third/Intersex', 'Adults', 'Juveniles', 'Specify year'. For the analyses and data visualisation we have filtered the data to the region Europe, dropped the NaN rows and only focussed on the variables 'Country/Territory', 'Year' and 'Total'. "
   ]
  },
  {
   "cell_type": "code",
   "execution_count": 45,
   "id": "57e227c3",
   "metadata": {},
   "outputs": [
    {
     "name": "stderr",
     "output_type": "stream",
     "text": [
      "/opt/anaconda3/lib/python3.8/site-packages/pandas/core/frame.py:4441: SettingWithCopyWarning:\n",
      "\n",
      "\n",
      "A value is trying to be set on a copy of a slice from a DataFrame\n",
      "\n",
      "See the caveats in the documentation: https://pandas.pydata.org/pandas-docs/stable/user_guide/indexing.html#returning-a-view-versus-a-copy\n",
      "\n"
     ]
    },
    {
     "data": {
      "text/html": [
       "\n",
       "        <iframe\n",
       "            width=\"100%\"\n",
       "            height=\"650\"\n",
       "            src=\"http://127.0.0.1:8050/\"\n",
       "            frameborder=\"0\"\n",
       "            allowfullscreen\n",
       "        ></iframe>\n",
       "        "
      ],
      "text/plain": [
       "<IPython.lib.display.IFrame at 0x7fad7c9461c0>"
      ]
     },
     "metadata": {},
     "output_type": "display_data"
    }
   ],
   "source": [
    "import pandas as pd\n",
    "import numpy as np\n",
    "import dash\n",
    "from dash import dcc, html\n",
    "from dash.dependencies import Input, Output\n",
    "import plotly.graph_objs as go\n",
    "import plotly.express as px\n",
    "\n",
    "# makeing a dataframe with the data of two separate datasets of the amount of crimes per country, per year. \n",
    "# Most values align, but some are missing in one dataset and not in the other\n",
    "# To make the dataframe as complete as possible, we'll combine the two datasets\n",
    "\n",
    "crimes_1 = pd.read_csv(\"DLOs_europe_1.csv\")\n",
    "crimes_2 = pd.read_csv(\"DLOs_europe_2.csv\")\n",
    "\n",
    "crimes_df1 = pd.DataFrame(crimes_1)\n",
    "crimes_df2 = pd.DataFrame(crimes_2)\n",
    "\n",
    "years = ['2022','2021','2020','2019','2018','2017','2016','2015','2014','2013','2012','2011','2010','2009','2008','2007']\n",
    "\n",
    "# Function to compare values from the two dataframes and return a combined value\n",
    "def compare_values(self_value, other_value):\n",
    "\n",
    "    # if both are Nan, keep Nan in the dataset\n",
    "    if pd.isna(self_value) and pd.isna(other_value):\n",
    "        return np.nan\n",
    "\n",
    "    # if one value is NaN, keep the value of the other dataset\n",
    "    elif pd.isna(self_value):\n",
    "        return other_value\n",
    "    elif pd.isna(other_value):\n",
    "        return self_value\n",
    "    \n",
    "    # if values are the same\n",
    "    elif self_value == other_value:\n",
    "        return self_value\n",
    "\n",
    "    # if values are different, keep the mean\n",
    "    else:\n",
    "        return (self_value + other_value) / 2\n",
    "\n",
    "# Create a new dictionary to store the combined data from the two dataframes\n",
    "combined_crimes = {'Country': crimes_df1['Country']}\n",
    "\n",
    "# Loop through each year to process the data for that year\n",
    "for year in years:\n",
    "\n",
    "    # Check if the year exists in both dataframes\n",
    "    if year in crimes_df1.columns and year in crimes_df2.columns:\n",
    "        \n",
    "        # For each row, apply a the compare_values() function to compare and combine the values from both dataframes\n",
    "        combined_crimes[year] = crimes_df1.apply(\n",
    "            lambda row: compare_values(\n",
    "\n",
    "                # Value from the first dataframe\n",
    "                row[year], \n",
    "\n",
    "                # Corresponding value from the second dataframe\n",
    "                crimes_df2.loc[crimes_df2['Country'] == row['Country'], year].values[0]\n",
    "\n",
    "                # Use np.nan if the country is not in the second dataframe\n",
    "                if row['Country'] in crimes_df2['Country'].values else np.nan \n",
    "\n",
    "            ), axis=1\n",
    "        )\n",
    "        \n",
    "    # If the year exists only in the first dataframe, use those values\n",
    "    elif year in crimes_df1.columns:\n",
    "        combined_crimes[year] = crimes_df1[year]\n",
    "\n",
    "    # Same for the second dataframe\n",
    "    elif year in crimes_df2.columns:\n",
    "        combined_crimes[year] = crimes_df2[year]\n",
    "\n",
    "    # If the year exists in neither dataframe, use np.nan\n",
    "    else:\n",
    "        combined_crimes[year] = np.nan\n",
    "\n",
    "# Convert the dictionary to a DataFrame\n",
    "crimes_combined_df = pd.DataFrame(combined_crimes)\n",
    "\n",
    "\n",
    "# Making a dataframe for amount of crimes per 1000 inhabitants\n",
    "\n",
    "inhabitants = pd.read_csv(\"Population_europe.csv\")\n",
    "inhabitants_df = inhabitants[['Country Name'] + years]\n",
    "inhabitants_df.rename(columns={'Country Name': 'Country'}, inplace=True)\n",
    "\n",
    "# Function to calculate the number of crimes per 1000 inhabitants\n",
    "def calc_per_100_inhabitants(row, year):\n",
    "    if pd.isna(row[f'{year}']):\n",
    "        return np.nan\n",
    "    else:\n",
    "        return round(row[f'{year}'] / (inhabitants_df.at[row.name, f'{year}'] / 1000), 3)\n",
    "\n",
    "# Create a new DataFrame with the crime data per 1000 inhabitants\n",
    "per_inhabitants_df = crimes_combined_df.copy()\n",
    "\n",
    "for year in years:\n",
    "    if year in crimes_combined_df.columns and year in inhabitants_df.columns:\n",
    "        per_inhabitants_df[year] = crimes_combined_df.apply(lambda row: calc_per_100_inhabitants(row, year), axis=1)\n",
    "\n",
    "per_inhabitants_df.reset_index(drop=True, inplace=True)\n",
    "\n",
    "# make interactive barplot\n",
    "\n",
    "app1 = dash.Dash(__name__)\n",
    "\n",
    "# html layout of the Dash application\n",
    "app1.layout = html.Div([\n",
    "    html.H1(\"Comparison of the amount of drug crimes per year in portugal and other countries\"),\n",
    "\n",
    "    html.Label(\"Select countries (Portugal is always included):\"),\n",
    "    dcc.Dropdown(\n",
    "        id='country-selector',\n",
    "        options=[{'label': i, 'value': i} for i in crimes_combined_df['Country'].unique() if i != 'Portugal'],\n",
    "        value=['France', 'Spain'], \n",
    "        multi=True\n",
    "    ),\n",
    "\n",
    "    html.Label(\"Selecteer Jaren:\"),\n",
    "    dcc.Dropdown(\n",
    "        id='year-selector',\n",
    "        options=[{'label': i, 'value': i} for i in crimes_combined_df.columns if i != 'Country'],\n",
    "        value=['2021', '2017','2012', '2007'], \n",
    "        multi=True\n",
    "    ),\n",
    "    html.Label(\"Select Scale:\"),\n",
    "    dcc.Dropdown(\n",
    "        id='scale-selector',\n",
    "        options=[\n",
    "            {'label': 'Linear', 'value': 'linear'},\n",
    "            {'label': 'Logarithmic', 'value': 'log'}\n",
    "        ],\n",
    "        value='log', \n",
    "    ),\n",
    "    html.Label(\"Select unit:\"),\n",
    "    dcc.Dropdown(\n",
    "        id='data-selector',\n",
    "        options=[\n",
    "            {'label': 'Totaal amount of cases', 'value': 'total'},\n",
    "            {'label': 'cases/1000 inhabitants', 'value': 'per_inhabitants'}\n",
    "        ],\n",
    "        value='total', \n",
    "    ),\n",
    "    dcc.Graph(id='bar-plot'),\n",
    "    html.Div(id='missing-data-warning', style={'color': 'red', 'margin-top': '20px'})\n",
    "], style={'backgroundColor': 'lightgrey', 'padding': '20px'})\n",
    "\n",
    "# Define the callback to update the graph and warning text\n",
    "@app1.callback(\n",
    "    [Output('bar-plot', 'figure'), Output('missing-data-warning', 'children')],\n",
    "    [Input('country-selector', 'value'),\n",
    "     Input('year-selector', 'value'),\n",
    "     Input('scale-selector', 'value'),\n",
    "     Input('data-selector', 'value')]\n",
    ")\n",
    "\n",
    "def update_graph(selected_countries, selected_years, selected_scale, selected_data):\n",
    "    selected_countries.append('Portugal') \n",
    "\n",
    "    # Choose the correct dataset based on the selected data type\n",
    "    filtered_df = per_inhabitants_df if selected_data == 'per_inhabitants' else crimes_combined_df\n",
    "\n",
    "    # Filter the dataframe based on the selected countries and years\n",
    "    filtered_df = filtered_df[filtered_df['Country'].isin(selected_countries)].copy()\n",
    "    filtered_df = filtered_df.melt(id_vars=['Country'], value_vars=selected_years, var_name='Year', value_name='Cases')\n",
    "    \n",
    "    # make sure Portugal is always the first country in the plots\n",
    "    country_order = ['Portugal'] + sorted([c for c in selected_countries if c != 'Portugal'])\n",
    "    \n",
    "    bars = []\n",
    "    missing_data_info = []\n",
    "    warning_text = \"\"\n",
    "\n",
    "    # Loop through each country to create bar plots and track missing data\n",
    "    for country in country_order:\n",
    "        country_data = filtered_df[filtered_df['Country'] == country]\n",
    "        bars.append(go.Bar(\n",
    "            x=country_data[pd.notna(country_data['Cases'])]['Year'],\n",
    "            y=country_data[pd.notna(country_data['Cases'])]['Cases'],\n",
    "            name=country\n",
    "        ))\n",
    "\n",
    "        nan_data = country_data[pd.isna(country_data['Cases'])]\n",
    "        if not nan_data.empty:\n",
    "            missing_data_info.append(f\"{country} ({', '.join(nan_data['Year'])})\")\n",
    "    \n",
    "    fig = go.Figure(data=bars)\n",
    "    fig.update_layout(\n",
    "        paper_bgcolor='lightgrey',\n",
    "        plot_bgcolor='white', \n",
    "        font=dict(color='black'),  \n",
    "        yaxis_type=selected_scale,\n",
    "        title= \"Amount of drug crimes per year for the selected years and countries\",\n",
    "        xaxis_title=\"Year\", \n",
    "        yaxis_title= \"Number of Crimes\" if selected_data == 'total' else \"Crimes per 1000 Inhabitants\"\n",
    "    )\n",
    "\n",
    "    # Generate the warning text for missing data\n",
    "    warning_text = \"\"\n",
    "    if missing_data_info:\n",
    "        warning_text = \"Please note that the following countries/years contain missing data: \" + \"; \".join(missing_data_info)\n",
    "    \n",
    "    return fig, warning_text\n",
    "\n",
    "# Run the Dash application\n",
    "if __name__ == '__main__':\n",
    "    app1.run_server(debug=True)"
   ]
  },
  {
   "cell_type": "code",
   "execution_count": 71,
   "id": "c484376d-602a-4c70-876f-6f46d9a2cdcb",
   "metadata": {
    "jupyter": {
     "source_hidden": true
    }
   },
   "outputs": [
    {
     "data": {
      "image/png": "[encoded data removed]",
      "text/plain": [
       "<Figure size 1800x720 with 1 Axes>"
      ]
     },
     "metadata": {
      "needs_background": "light"
     },
     "output_type": "display_data"
    },
    {
     "name": "stdout",
     "output_type": "stream",
     "text": [
      "Figure 1: Drug-Related crimes in Portugal vs. Mean of Europe, from 2014 until 2020\n"
     ]
    }
   ],
   "source": [
    "import pandas as pd\n",
    "import matplotlib.pyplot as plt\n",
    "\n",
    "# Read the CSV file\n",
    "df = pd.read_csv(\"9_Misdaden.csv\")\n",
    "\n",
    "# Filter for Europe\n",
    "europe_df = df[df['Region'] == 'Europe']\n",
    "\n",
    "# Group by Country/Territory and Year, and sum the Total crimes\n",
    "grouped_df = europe_df.groupby(['Country/Territory', 'Year']).agg({'Total': 'sum'}).reset_index()\n",
    "\n",
    "# Filter for Portugal\n",
    "portugal_df = grouped_df[grouped_df['Country/Territory'] == 'Portugal']\n",
    "\n",
    "# Calculate the mean for Europe (excluding Portugal)\n",
    "europe_mean_df = grouped_df[grouped_df['Country/Territory'] != 'Portugal'].groupby('Year').agg({'Total': 'mean'}).reset_index()\n",
    "europe_mean_df.rename(columns={'Total': 'Mean of Europe'}, inplace=True)\n",
    "\n",
    "# Merge Portugal data with Europe mean data\n",
    "merged_df = pd.merge(portugal_df, europe_mean_df, on='Year', how='left')\n",
    "\n",
    "# Plotting\n",
    "fig, ax = plt.subplots(figsize=(25, 10))\n",
    "# fig.patch.set_facecolor('#FDE1F0')  # Light pink background for the entire figure\n",
    "# fig.patch.set_edgecolor('#FDE1F0')\n",
    "# ax.set_facecolor('#FDE1F0')  # Light pink background for the plot area\n",
    "\n",
    "# Remove axes spines (borders)\n",
    "for spine in ax.spines.values():\n",
    "    spine.set_visible(False)  # Hide all spines (borders)\n",
    "\n",
    "\n",
    "ax.plot(merged_df['Year'].values, merged_df['Total'].values, label='Portugal', marker='o', color='#66c2a5')  # Pastel green\n",
    "ax.plot(merged_df['Year'].values, merged_df['Mean of Europe'].values, label='Mean of Europe', marker='o', linestyle='--', color='#8da0cb')  # Pastel blue\n",
    "\n",
    "ax.set_xlabel('Year')\n",
    "ax.set_ylabel('Total Drug-Related Crimes')\n",
    "ax.set_title('Drug-Related Crimes in Portugal vs. Mean of Europe')\n",
    "\n",
    "# Set the legend\n",
    "ax.legend()\n",
    "\n",
    "# Enable the grid\n",
    "ax.grid(True)\n",
    "\n",
    "# Show the plot\n",
    "plt.show()\n",
    "\n",
    "# Set the subtitle text\n",
    "subtitle = \"Figure 1: Drug-Related crimes in Portugal vs. Mean of Europe, from 2014 until 2020\"\n",
    "print(subtitle)\n",
    "\n"
   ]
  },
  {
   "cell_type": "markdown",
   "id": "61779ac2-ca4d-431d-b3a2-39fe4db2d813",
   "metadata": {},
   "source": [
    "The second dataset used regarding reduction in crime rates can be found with the following link: https://dataunodc.un.org/\n",
    "<br>\n",
    "The variables in this dataset are: 'Country', '2021', '2020','2019', '2018', '2017', '2016', '2015', '2014', '2013', '2012', '2011', '2010', '2009', '2008', '2007'. \n",
    "<br>\n",
    "For the analysis and data visualisation the NaN rows were deleted and the column names renamed for easier acces."
   ]
  },
  {
   "cell_type": "markdown",
   "id": "f2b2b681-c72f-4d4e-b93b-d047f11349fc",
   "metadata": {},
   "source": [
    "### Second argument: Public health and safety\n",
    "#### Argument: Regulation ensures the safety and quality of substances, reducing harm from adulterated drugs.\n",
    "DRAFT\n",
    "<br>\n",
    "Supporting Data: Purity of drug, Portugal versus mean of other European countries. \n",
    "<br>\n",
    "Data Variables: 'Country', 'Year', 'Drugtype'. And then the values will contain the purity of the drug.\n",
    "<br>\n",
    "Data visualisation: bar plot with Portugal values in blue and the European mean values in orange (or a couple of countries in different colours), on the x-axis there will be the different types of drugs and on the y-axis the purity of the drug. "
   ]
  },
  {
   "cell_type": "code",
   "execution_count": null,
   "id": "ba43b3d4",
   "metadata": {},
   "outputs": [],
   "source": []
  },
  {
   "cell_type": "markdown",
   "id": "89fe84d7-7737-4d2d-98c6-e6dfbed95ea4",
   "metadata": {},
   "source": [
    "### Third argument: Burden on criminal justice system\n",
    "#### Argument: Legalization alleviates the burden on the criminal justice system and redirects resources to public health.\n",
    "DRAFT\n",
    "<br>\n",
    "Supporting Data: Decrease in prisoners sentenced for drug related offences. While the European average has gradually risen over the past twenty years (from 14 to 18%), the proportion of people sentenced for drug offences in Portuguese prisons has fallen dramatically to 15.7% in 2019 — now below the European average. The data set can be found on https://wp.unil.ch/space/space-i/annual-reports/ \n",
    "<br>\n",
    "Data Variables: x\n",
    "<br>\n",
    "Data visualisation: Line graph"
   ]
  },
  {
   "cell_type": "code",
   "execution_count": 68,
   "id": "563a9f75",
   "metadata": {},
   "outputs": [
    {
     "data": {
      "image/png": "[encoded data removed]",
      "text/plain": [
       "<Figure size 1800x720 with 1 Axes>"
      ]
     },
     "metadata": {
      "needs_background": "light"
     },
     "output_type": "display_data"
    }
   ],
   "source": [
    "import matplotlib.pyplot as plt\n",
    "from matplotlib.ticker import PercentFormatter\n",
    "import pandas as pd\n",
    "\n",
    "# Read the CSV file\n",
    "drug_offences_df = pd.read_csv('drug_offences.csv')\n",
    "\n",
    "# Interpolate missing values\n",
    "drug_offences_df = drug_offences_df.interpolate()\n",
    "\n",
    "# Plotting\n",
    "plt.figure(figsize=(25, 10))\n",
    "plt.plot(drug_offences_df['Year'].values, drug_offences_df['Percentage of prisoners sentenced for drug offences in Portugal'].values, label='Portugal', marker='o', color='#66c2a5')  # Pastel green\n",
    "plt.plot(drug_offences_df['Year'].values, drug_offences_df['Mean Europe'].values, label='Mean of Europe', marker='o', linestyle='--', color='#8da0cb')  # Pastel blue\n",
    "\n",
    "plt.title('Percentage of prisoners convicted for drug-related crimes')\n",
    "plt.xlabel('Year')\n",
    "plt.gca().yaxis.set_major_formatter(PercentFormatter())\n",
    "plt.legend()\n",
    "\n",
    "# Remove axis lines (spines)\n",
    "plt.gca().spines['top'].set_visible(False)\n",
    "plt.gca().spines['right'].set_visible(False)\n",
    "plt.gca().spines['bottom'].set_visible(False)\n",
    "plt.gca().spines['left'].set_visible(False)\n",
    "\n",
    "# Hide ticks\n",
    "plt.tick_params(axis='both', which='both', bottom=False, top=False, left=False, right=False)\n",
    "\n",
    "# Show the plot\n",
    "plt.grid(True)\n",
    "plt.show()\n"
   ]
  },
  {
   "cell_type": "markdown",
   "id": "ed50c15a-9dd2-4ed0-ba3d-28069d85fd7e",
   "metadata": {},
   "source": [
    "## Second Perspective - Drugs should not be legalized because of the potential for increased addiction and health issues\n",
    "### First argument: Increase in addiction rates\n",
    "#### Argument: Legalization leads to higher rates of substance abuse and addiction.\n",
    "DRAFT \n",
    "<br>\n",
    "Supporting Data: Correlation between drug legalization and addiction rates.\n",
    "<br>\n",
    "Data Variables: Addiction rates (before and after legalization), rates of treatment admissions for addiction, types of substances used.\n",
    "<br>\n",
    "Data visualisation: For example a (interactive) thematic map of US states with addiction rates. Another visualisation containing a line or bar chartshowing the addiction rates before and after legalization. "
   ]
  },
  {
   "cell_type": "markdown",
   "id": "0209f814-7021-4d13-8dce-eb65b81e9706",
   "metadata": {},
   "source": [
    "### Second argument: Public health \n",
    "#### Argument: increase in druguse and deaths related to drugs\n",
    "In 2021, Oregon passed a law decriminalizing all drugs. Opponents of this law now argue that as a result, deaths due to overdose have spiked in recent years. This trend is depicted in the graph below.\n",
    "Supporting Data: Deathrate over the years per state. This dataset can be found through the following link: https://www.cdc.gov/nchs/pressroom/sosmap/drug_poisoning_mortality/drug_poisoning.htm \n",
    "<br>\n",
    "Data variables: 'Location', 'Death rate', 'Deaths'.\n",
    "<br>\n",
    "For the analysis and datavisualisation we have only focussed on a couple of states (Colorado, Georgia, Kansas, Minnesota, Montana, Oregon and Washington) and their death rate over the years. \n",
    "<br> Another option for visualisation we might add is a map with all the different states and their death rate and death numbers, for a more complete picture. "
   ]
  },
  {
   "cell_type": "code",
   "execution_count": null,
   "id": "ee0a1e08-e43a-4afa-be3e-33e166abebf9",
   "metadata": {
    "jupyter": {
     "source_hidden": true
    }
   },
   "outputs": [
    {
     "name": "stderr",
     "output_type": "stream",
     "text": [
      "/usr/local/lib/python3.11/site-packages/numpy/lib/function_base.py:2889: RuntimeWarning: Degrees of freedom <= 0 for slice\n",
      "  c = cov(x, y, rowvar, dtype=dtype)\n",
      "/usr/local/lib/python3.11/site-packages/numpy/lib/function_base.py:2748: RuntimeWarning: divide by zero encountered in divide\n",
      "  c *= np.true_divide(1, fact)\n",
      "/usr/local/lib/python3.11/site-packages/numpy/lib/function_base.py:2748: RuntimeWarning: invalid value encountered in multiply\n",
      "  c *= np.true_divide(1, fact)\n"
     ]
    },
    {
     "data": {
      "image/png": "[encoded data removed]",
      "text/plain": [
       "<Figure size 1500x800 with 1 Axes>"
      ]
     },
     "metadata": {},
     "output_type": "display_data"
    },
    {
     "name": "stdout",
     "output_type": "stream",
     "text": [
      "Figure 3: Deathrate of drug overdose mortality for the states Colorado, Georgia, Kansas, Minnesota, Montana, Oregon and Washington.\n"
     ]
    }
   ],
   "source": [
    "import pandas as pd\n",
    "from pandas import *\n",
    "import matplotlib.pyplot as plt\n",
    "import seaborn as sns\n",
    "\n",
    "statesdata = pd.read_csv(\"statesdata.csv\")\n",
    "\n",
    "statesdata = statesdata[[\"YEAR\",\"STATE\",\"RATE\"]]\n",
    "\n",
    "pivot_df = statesdata.pivot_table(index='YEAR', columns='STATE', values='RATE')\n",
    "or_correlations = pivot_df.corrwith(pivot_df['OR']).drop('OR')\n",
    "\n",
    "# states selected for hight correlation and matching rates\n",
    "desired_states = ['OR','CO','GA', 'KS','MN','MT','WA']\n",
    "statesdata = statesdata[statesdata['STATE'].isin(desired_states)]\n",
    "\n",
    "plt.figure(figsize=(15, 8))\n",
    "sns.lineplot(data=statesdata, x='YEAR', y='RATE', hue='STATE', palette='tab10', marker='o')\n",
    "plt.axvline(x=2021, color='red', linestyle='--', label='2021')\n",
    "plt.xlabel('Year')\n",
    "plt.ylabel('Death rate')\n",
    "plt.title('Deathrate over the years per state', fontsize=20)\n",
    "plt.legend(fontsize=0.2)\n",
    "plt.legend(bbox_to_anchor=(1,1))\n",
    "plt.grid(True)\n",
    "plt.show()\n",
    "\n",
    "# Set the subtitle text\n",
    "subtitle = \"Figure 3: Deathrate of drug overdose mortality for the states Colorado, Georgia, Kansas, Minnesota, Montana, Oregon and Washington.\"\n",
    "print(subtitle)"
   ]
  },
  {
   "cell_type": "code",
   "execution_count": 43,
   "id": "247a4125",
   "metadata": {},
   "outputs": [
    {
     "data": {
      "application/vnd.plotly.v1+json": {
       "config": {
        "plotlyServerURL": "https://plot.ly"
       },
       "data": [
        {
         "colorscale": [
          [
           0,
           "#30123b"
          ],
          [
           0.07142857142857142,
           "#4145ab"
          ],
          [
           0.14285714285714285,
           "#4675ed"
          ],
          [
           0.21428571428571427,
           "#39a2fc"
          ],
          [
           0.2857142857142857,
           "#1bcfd4"
          ],
          [
           0.35714285714285715,
           "#24eca6"
          ],
          [
           0.42857142857142855,
           "#61fc6c"
          ],
          [
           0.5,
           "#a4fc3b"
          ],
          [
           0.5714285714285714,
           "#d1e834"
          ],
          [
           0.6428571428571429,
           "#f3c63a"
          ],
          [
           0.7142857142857143,
           "#fe9b2d"
          ],
          [
           0.7857142857142857,
           "#f36315"
          ],
          [
           0.8571428571428571,
           "#d93806"
          ],
          [
           0.9285714285714286,
           "#b11901"
          ],
          [
           1,
           "#7a0402"
          ]
         ],
         "hoverinfo": "location+z+text",
         "hovertext": [
          "AL",
          "AK",
          "AZ",
          "AR",
          "CA",
          "CO",
          "CT",
          "DE",
          "FL",
          "GA",
          "HI",
          "ID",
          "IL",
          "IN",
          "IA",
          "KS",
          "KY",
          "LA",
          "ME",
          "MD",
          "MA",
          "MI",
          "MN",
          "MS",
          "MO",
          "MT",
          "NE",
          "NV",
          "NH",
          "NJ",
          "NM",
          "NY",
          "NC",
          "ND",
          "OH",
          "OK",
          "OR",
          "PA",
          "RI",
          "SC",
          "SD",
          "TN",
          "TX",
          "UT",
          "VT",
          "VA",
          "WA",
          "WV",
          "WI",
          "WY"
         ],
         "locationmode": "USA-states",
         "locations": [
          "AL",
          "AK",
          "AZ",
          "AR",
          "CA",
          "CO",
          "CT",
          "DE",
          "FL",
          "GA",
          "HI",
          "ID",
          "IL",
          "IN",
          "IA",
          "KS",
          "KY",
          "LA",
          "ME",
          "MD",
          "MA",
          "MI",
          "MN",
          "MS",
          "MO",
          "MT",
          "NE",
          "NV",
          "NH",
          "NJ",
          "NM",
          "NY",
          "NC",
          "ND",
          "OH",
          "OK",
          "OR",
          "PA",
          "RI",
          "SC",
          "SD",
          "TN",
          "TX",
          "UT",
          "VT",
          "VA",
          "WA",
          "WV",
          "WI",
          "WY"
         ],
         "name": "1999",
         "type": "choropleth",
         "visible": true,
         "z": [
          3.9,
          7.5,
          10.6,
          4.4,
          8.1,
          8,
          9,
          6.4,
          6.4,
          3.5,
          6.5,
          5.3,
          6.7,
          3.2,
          1.9,
          3.4,
          4.9,
          4.3,
          5.3,
          11.4,
          7.5,
          4.6,
          2.8,
          3.2,
          5,
          4.6,
          2.3,
          11.5,
          4.3,
          6.5,
          15,
          5,
          4.6,
          0,
          4.2,
          5.4,
          6.1,
          8.1,
          5.5,
          3.7,
          0,
          6.1,
          5.4,
          10.6,
          4.7,
          5,
          9.3,
          4.1,
          4,
          4.1
         ],
         "zmax": 90.9,
         "zmin": 0
        },
        {
         "colorscale": [
          [
           0,
           "#30123b"
          ],
          [
           0.07142857142857142,
           "#4145ab"
          ],
          [
           0.14285714285714285,
           "#4675ed"
          ],
          [
           0.21428571428571427,
           "#39a2fc"
          ],
          [
           0.2857142857142857,
           "#1bcfd4"
          ],
          [
           0.35714285714285715,
           "#24eca6"
          ],
          [
           0.42857142857142855,
           "#61fc6c"
          ],
          [
           0.5,
           "#a4fc3b"
          ],
          [
           0.5714285714285714,
           "#d1e834"
          ],
          [
           0.6428571428571429,
           "#f3c63a"
          ],
          [
           0.7142857142857143,
           "#fe9b2d"
          ],
          [
           0.7857142857142857,
           "#f36315"
          ],
          [
           0.8571428571428571,
           "#d93806"
          ],
          [
           0.9285714285714286,
           "#b11901"
          ],
          [
           1,
           "#7a0402"
          ]
         ],
         "hoverinfo": "location+z+text",
         "hovertext": [
          "AL",
          "AK",
          "AZ",
          "AR",
          "CA",
          "CO",
          "CT",
          "DE",
          "FL",
          "GA",
          "HI",
          "ID",
          "IL",
          "IN",
          "IA",
          "KS",
          "KY",
          "LA",
          "ME",
          "MD",
          "MA",
          "MI",
          "MN",
          "MS",
          "MO",
          "MT",
          "NE",
          "NV",
          "NH",
          "NJ",
          "NM",
          "NY",
          "NC",
          "ND",
          "OH",
          "OK",
          "OR",
          "PA",
          "RI",
          "SC",
          "SD",
          "TN",
          "TX",
          "UT",
          "VT",
          "VA",
          "WA",
          "WV",
          "WI",
          "WY"
         ],
         "locationmode": "USA-states",
         "locations": [
          "AL",
          "AK",
          "AZ",
          "AR",
          "CA",
          "CO",
          "CT",
          "DE",
          "FL",
          "GA",
          "HI",
          "ID",
          "IL",
          "IN",
          "IA",
          "KS",
          "KY",
          "LA",
          "ME",
          "MD",
          "MA",
          "MI",
          "MN",
          "MS",
          "MO",
          "MT",
          "NE",
          "NV",
          "NH",
          "NJ",
          "NM",
          "NY",
          "NC",
          "ND",
          "OH",
          "OK",
          "OR",
          "PA",
          "RI",
          "SC",
          "SD",
          "TN",
          "TX",
          "UT",
          "VT",
          "VA",
          "WA",
          "WV",
          "WI",
          "WY"
         ],
         "name": "2005",
         "type": "choropleth",
         "visible": false,
         "z": [
          6.3,
          11.4,
          14.1,
          10.1,
          9,
          12.7,
          8.5,
          7.5,
          13.5,
          8.2,
          9.4,
          8.1,
          8.4,
          9.8,
          4.8,
          9.1,
          15.3,
          14.7,
          12.4,
          11.4,
          12,
          9.8,
          5.4,
          8.8,
          10.7,
          10.1,
          5,
          18.7,
          10.7,
          9.4,
          20.1,
          4.8,
          11.4,
          0,
          10.9,
          13.8,
          10.4,
          13.2,
          14.3,
          9.9,
          5.5,
          14.5,
          8.5,
          19.3,
          8.5,
          7.5,
          13,
          10.5,
          9.3,
          4.9
         ],
         "zmax": 90.9,
         "zmin": 0
        },
        {
         "colorscale": [
          [
           0,
           "#30123b"
          ],
          [
           0.07142857142857142,
           "#4145ab"
          ],
          [
           0.14285714285714285,
           "#4675ed"
          ],
          [
           0.21428571428571427,
           "#39a2fc"
          ],
          [
           0.2857142857142857,
           "#1bcfd4"
          ],
          [
           0.35714285714285715,
           "#24eca6"
          ],
          [
           0.42857142857142855,
           "#61fc6c"
          ],
          [
           0.5,
           "#a4fc3b"
          ],
          [
           0.5714285714285714,
           "#d1e834"
          ],
          [
           0.6428571428571429,
           "#f3c63a"
          ],
          [
           0.7142857142857143,
           "#fe9b2d"
          ],
          [
           0.7857142857142857,
           "#f36315"
          ],
          [
           0.8571428571428571,
           "#d93806"
          ],
          [
           0.9285714285714286,
           "#b11901"
          ],
          [
           1,
           "#7a0402"
          ]
         ],
         "hoverinfo": "location+z+text",
         "hovertext": [
          "AL",
          "AK",
          "AZ",
          "AR",
          "CA",
          "CO",
          "CT",
          "DE",
          "FL",
          "GA",
          "HI",
          "ID",
          "IL",
          "IN",
          "IA",
          "KS",
          "KY",
          "LA",
          "ME",
          "MD",
          "MA",
          "MI",
          "MN",
          "MS",
          "MO",
          "MT",
          "NE",
          "NV",
          "NH",
          "NJ",
          "NM",
          "NY",
          "NC",
          "ND",
          "OH",
          "OK",
          "OR",
          "PA",
          "RI",
          "SC",
          "SD",
          "TN",
          "TX",
          "UT",
          "VT",
          "VA",
          "WA",
          "WV",
          "WI",
          "WY"
         ],
         "locationmode": "USA-states",
         "locations": [
          "AL",
          "AK",
          "AZ",
          "AR",
          "CA",
          "CO",
          "CT",
          "DE",
          "FL",
          "GA",
          "HI",
          "ID",
          "IL",
          "IN",
          "IA",
          "KS",
          "KY",
          "LA",
          "ME",
          "MD",
          "MA",
          "MI",
          "MN",
          "MS",
          "MO",
          "MT",
          "NE",
          "NV",
          "NH",
          "NJ",
          "NM",
          "NY",
          "NC",
          "ND",
          "OH",
          "OK",
          "OR",
          "PA",
          "RI",
          "SC",
          "SD",
          "TN",
          "TX",
          "UT",
          "VT",
          "VA",
          "WA",
          "WV",
          "WI",
          "WY"
         ],
         "name": "2014",
         "type": "choropleth",
         "visible": false,
         "z": [
          15.2,
          16.8,
          12.6,
          18.2,
          11.1,
          16.3,
          17.6,
          20.9,
          13.2,
          11.9,
          10.9,
          13.7,
          13.1,
          18.2,
          8.8,
          11.7,
          24.7,
          16.9,
          16.8,
          17.4,
          19,
          18,
          9.6,
          11.6,
          18.2,
          12.4,
          7.2,
          18.4,
          26.2,
          14,
          27.3,
          11.3,
          13.8,
          6.3,
          24.6,
          20.3,
          12.8,
          21.9,
          23.4,
          14.4,
          7.8,
          19.5,
          9.7,
          22.4,
          13.9,
          11.7,
          13.3,
          35.5,
          15.1,
          19.4
         ],
         "zmax": 90.9,
         "zmin": 0
        },
        {
         "colorscale": [
          [
           0,
           "#30123b"
          ],
          [
           0.07142857142857142,
           "#4145ab"
          ],
          [
           0.14285714285714285,
           "#4675ed"
          ],
          [
           0.21428571428571427,
           "#39a2fc"
          ],
          [
           0.2857142857142857,
           "#1bcfd4"
          ],
          [
           0.35714285714285715,
           "#24eca6"
          ],
          [
           0.42857142857142855,
           "#61fc6c"
          ],
          [
           0.5,
           "#a4fc3b"
          ],
          [
           0.5714285714285714,
           "#d1e834"
          ],
          [
           0.6428571428571429,
           "#f3c63a"
          ],
          [
           0.7142857142857143,
           "#fe9b2d"
          ],
          [
           0.7857142857142857,
           "#f36315"
          ],
          [
           0.8571428571428571,
           "#d93806"
          ],
          [
           0.9285714285714286,
           "#b11901"
          ],
          [
           1,
           "#7a0402"
          ]
         ],
         "hoverinfo": "location+z+text",
         "hovertext": [
          "AL",
          "AK",
          "AZ",
          "AR",
          "CA",
          "CO",
          "CT",
          "DE",
          "FL",
          "GA",
          "HI",
          "ID",
          "IL",
          "IN",
          "IA",
          "KS",
          "KY",
          "LA",
          "ME",
          "MD",
          "MA",
          "MI",
          "MN",
          "MS",
          "MO",
          "MT",
          "NE",
          "NV",
          "NH",
          "NJ",
          "NM",
          "NY",
          "NC",
          "ND",
          "OH",
          "OK",
          "OR",
          "PA",
          "RI",
          "SC",
          "SD",
          "TN",
          "TX",
          "UT",
          "VT",
          "VA",
          "WA",
          "WV",
          "WI",
          "WY"
         ],
         "locationmode": "USA-states",
         "locations": [
          "AL",
          "AK",
          "AZ",
          "AR",
          "CA",
          "CO",
          "CT",
          "DE",
          "FL",
          "GA",
          "HI",
          "ID",
          "IL",
          "IN",
          "IA",
          "KS",
          "KY",
          "LA",
          "ME",
          "MD",
          "MA",
          "MI",
          "MN",
          "MS",
          "MO",
          "MT",
          "NE",
          "NV",
          "NH",
          "NJ",
          "NM",
          "NY",
          "NC",
          "ND",
          "OH",
          "OK",
          "OR",
          "PA",
          "RI",
          "SC",
          "SD",
          "TN",
          "TX",
          "UT",
          "VT",
          "VA",
          "WA",
          "WV",
          "WI",
          "WY"
         ],
         "name": "2015",
         "type": "choropleth",
         "visible": false,
         "z": [
          15.7,
          16,
          19,
          13.8,
          11.3,
          15.4,
          22.1,
          22,
          16.2,
          12.7,
          11.3,
          14.2,
          14.1,
          19.5,
          10.3,
          11.8,
          29.9,
          19,
          21.2,
          20.9,
          25.7,
          20.4,
          10.6,
          12.3,
          17.9,
          13.8,
          6.9,
          20.4,
          34.3,
          16.3,
          25.3,
          13.6,
          15.8,
          8.6,
          29.9,
          19,
          12,
          26.3,
          28.2,
          15.7,
          8.4,
          22.2,
          9.4,
          23.4,
          16.7,
          12.4,
          14.7,
          41.5,
          15.5,
          16.4
         ],
         "zmax": 90.9,
         "zmin": 0
        },
        {
         "colorscale": [
          [
           0,
           "#30123b"
          ],
          [
           0.07142857142857142,
           "#4145ab"
          ],
          [
           0.14285714285714285,
           "#4675ed"
          ],
          [
           0.21428571428571427,
           "#39a2fc"
          ],
          [
           0.2857142857142857,
           "#1bcfd4"
          ],
          [
           0.35714285714285715,
           "#24eca6"
          ],
          [
           0.42857142857142855,
           "#61fc6c"
          ],
          [
           0.5,
           "#a4fc3b"
          ],
          [
           0.5714285714285714,
           "#d1e834"
          ],
          [
           0.6428571428571429,
           "#f3c63a"
          ],
          [
           0.7142857142857143,
           "#fe9b2d"
          ],
          [
           0.7857142857142857,
           "#f36315"
          ],
          [
           0.8571428571428571,
           "#d93806"
          ],
          [
           0.9285714285714286,
           "#b11901"
          ],
          [
           1,
           "#7a0402"
          ]
         ],
         "hoverinfo": "location+z+text",
         "hovertext": [
          "AL",
          "AK",
          "AZ",
          "AR",
          "CA",
          "CO",
          "CT",
          "DE",
          "FL",
          "GA",
          "HI",
          "ID",
          "IL",
          "IN",
          "IA",
          "KS",
          "KY",
          "LA",
          "ME",
          "MD",
          "MA",
          "MI",
          "MN",
          "MS",
          "MO",
          "MT",
          "NE",
          "NV",
          "NH",
          "NJ",
          "NM",
          "NY",
          "NC",
          "ND",
          "OH",
          "OK",
          "OR",
          "PA",
          "RI",
          "SC",
          "SD",
          "TN",
          "TX",
          "UT",
          "VT",
          "VA",
          "WA",
          "WV",
          "WI",
          "WY"
         ],
         "locationmode": "USA-states",
         "locations": [
          "AL",
          "AK",
          "AZ",
          "AR",
          "CA",
          "CO",
          "CT",
          "DE",
          "FL",
          "GA",
          "HI",
          "ID",
          "IL",
          "IN",
          "IA",
          "KS",
          "KY",
          "LA",
          "ME",
          "MD",
          "MA",
          "MI",
          "MN",
          "MS",
          "MO",
          "MT",
          "NE",
          "NV",
          "NH",
          "NJ",
          "NM",
          "NY",
          "NC",
          "ND",
          "OH",
          "OK",
          "OR",
          "PA",
          "RI",
          "SC",
          "SD",
          "TN",
          "TX",
          "UT",
          "VT",
          "VA",
          "WA",
          "WV",
          "WI",
          "WY"
         ],
         "name": "2016",
         "type": "choropleth",
         "visible": false,
         "z": [
          16.2,
          16.8,
          20.3,
          14,
          11.2,
          16.6,
          27.4,
          30.8,
          23.7,
          13.3,
          12.8,
          15.2,
          18.9,
          24,
          10.6,
          11.1,
          33.5,
          21.8,
          28.7,
          33.2,
          33,
          24.4,
          12.5,
          12.1,
          23.6,
          11.7,
          6.4,
          21.7,
          39,
          23.2,
          25.2,
          18,
          19.7,
          10.6,
          39.1,
          21.5,
          11.9,
          37.9,
          30.8,
          18.1,
          8.4,
          24.5,
          10.1,
          22.4,
          22.2,
          16.7,
          14.5,
          52,
          19.3,
          17.6
         ],
         "zmax": 90.9,
         "zmin": 0
        },
        {
         "colorscale": [
          [
           0,
           "#30123b"
          ],
          [
           0.07142857142857142,
           "#4145ab"
          ],
          [
           0.14285714285714285,
           "#4675ed"
          ],
          [
           0.21428571428571427,
           "#39a2fc"
          ],
          [
           0.2857142857142857,
           "#1bcfd4"
          ],
          [
           0.35714285714285715,
           "#24eca6"
          ],
          [
           0.42857142857142855,
           "#61fc6c"
          ],
          [
           0.5,
           "#a4fc3b"
          ],
          [
           0.5714285714285714,
           "#d1e834"
          ],
          [
           0.6428571428571429,
           "#f3c63a"
          ],
          [
           0.7142857142857143,
           "#fe9b2d"
          ],
          [
           0.7857142857142857,
           "#f36315"
          ],
          [
           0.8571428571428571,
           "#d93806"
          ],
          [
           0.9285714285714286,
           "#b11901"
          ],
          [
           1,
           "#7a0402"
          ]
         ],
         "hoverinfo": "location+z+text",
         "hovertext": [
          "AL",
          "AK",
          "AZ",
          "AR",
          "CA",
          "CO",
          "CT",
          "DE",
          "FL",
          "GA",
          "HI",
          "ID",
          "IL",
          "IN",
          "IA",
          "KS",
          "KY",
          "LA",
          "ME",
          "MD",
          "MA",
          "MI",
          "MN",
          "MS",
          "MO",
          "MT",
          "NE",
          "NV",
          "NH",
          "NJ",
          "NM",
          "NY",
          "NC",
          "ND",
          "OH",
          "OK",
          "OR",
          "PA",
          "RI",
          "SC",
          "SD",
          "TN",
          "TX",
          "UT",
          "VT",
          "VA",
          "WA",
          "WV",
          "WI",
          "WY"
         ],
         "locationmode": "USA-states",
         "locations": [
          "AL",
          "AK",
          "AZ",
          "AR",
          "CA",
          "CO",
          "CT",
          "DE",
          "FL",
          "GA",
          "HI",
          "ID",
          "IL",
          "IN",
          "IA",
          "KS",
          "KY",
          "LA",
          "ME",
          "MD",
          "MA",
          "MI",
          "MN",
          "MS",
          "MO",
          "MT",
          "NE",
          "NV",
          "NH",
          "NJ",
          "NM",
          "NY",
          "NC",
          "ND",
          "OH",
          "OK",
          "OR",
          "PA",
          "RI",
          "SC",
          "SD",
          "TN",
          "TX",
          "UT",
          "VT",
          "VA",
          "WA",
          "WV",
          "WI",
          "WY"
         ],
         "name": "2017",
         "type": "choropleth",
         "visible": false,
         "z": [
          18,
          20.2,
          22.2,
          15.5,
          11.7,
          17.6,
          30.9,
          37,
          25.1,
          14.7,
          13.8,
          14.4,
          21.6,
          29.4,
          11.5,
          11.8,
          37.2,
          24.5,
          34.4,
          36.3,
          31.8,
          27.8,
          13.3,
          12.2,
          23.4,
          11.7,
          8.1,
          21.6,
          37,
          30,
          24.8,
          19.4,
          24.1,
          9.2,
          46.3,
          20.1,
          12.4,
          44.3,
          31,
          20.5,
          8.5,
          26.6,
          10.5,
          22.3,
          23.2,
          17.9,
          15.2,
          57.8,
          21.2,
          12.2
         ],
         "zmax": 90.9,
         "zmin": 0
        },
        {
         "colorscale": [
          [
           0,
           "#30123b"
          ],
          [
           0.07142857142857142,
           "#4145ab"
          ],
          [
           0.14285714285714285,
           "#4675ed"
          ],
          [
           0.21428571428571427,
           "#39a2fc"
          ],
          [
           0.2857142857142857,
           "#1bcfd4"
          ],
          [
           0.35714285714285715,
           "#24eca6"
          ],
          [
           0.42857142857142855,
           "#61fc6c"
          ],
          [
           0.5,
           "#a4fc3b"
          ],
          [
           0.5714285714285714,
           "#d1e834"
          ],
          [
           0.6428571428571429,
           "#f3c63a"
          ],
          [
           0.7142857142857143,
           "#fe9b2d"
          ],
          [
           0.7857142857142857,
           "#f36315"
          ],
          [
           0.8571428571428571,
           "#d93806"
          ],
          [
           0.9285714285714286,
           "#b11901"
          ],
          [
           1,
           "#7a0402"
          ]
         ],
         "hoverinfo": "location+z+text",
         "hovertext": [
          "AL",
          "AK",
          "AZ",
          "AR",
          "CA",
          "CO",
          "CT",
          "DE",
          "FL",
          "GA",
          "HI",
          "ID",
          "IL",
          "IN",
          "IA",
          "KS",
          "KY",
          "LA",
          "ME",
          "MD",
          "MA",
          "MI",
          "MN",
          "MS",
          "MO",
          "MT",
          "NE",
          "NV",
          "NH",
          "NJ",
          "NM",
          "NY",
          "NC",
          "ND",
          "OH",
          "OK",
          "OR",
          "PA",
          "RI",
          "SC",
          "SD",
          "TN",
          "TX",
          "UT",
          "VT",
          "VA",
          "WA",
          "WV",
          "WI",
          "WY"
         ],
         "locationmode": "USA-states",
         "locations": [
          "AL",
          "AK",
          "AZ",
          "AR",
          "CA",
          "CO",
          "CT",
          "DE",
          "FL",
          "GA",
          "HI",
          "ID",
          "IL",
          "IN",
          "IA",
          "KS",
          "KY",
          "LA",
          "ME",
          "MD",
          "MA",
          "MI",
          "MN",
          "MS",
          "MO",
          "MT",
          "NE",
          "NV",
          "NH",
          "NJ",
          "NM",
          "NY",
          "NC",
          "ND",
          "OH",
          "OK",
          "OR",
          "PA",
          "RI",
          "SC",
          "SD",
          "TN",
          "TX",
          "UT",
          "VT",
          "VA",
          "WA",
          "WV",
          "WI",
          "WY"
         ],
         "name": "2018",
         "type": "choropleth",
         "visible": false,
         "z": [
          16.6,
          14.6,
          23.8,
          15.7,
          12.8,
          16.8,
          30.7,
          43.8,
          22.8,
          13.2,
          14.3,
          14.6,
          21.3,
          25.6,
          9.6,
          12.4,
          30.9,
          25.4,
          27.9,
          37.2,
          32.8,
          26.6,
          11.5,
          10.8,
          27.5,
          12.2,
          7.4,
          21.2,
          35.8,
          33.1,
          26.7,
          18.4,
          22.4,
          10.2,
          35.9,
          18.4,
          12.6,
          36.1,
          30.1,
          22.6,
          6.9,
          27.5,
          10.4,
          21.2,
          26.6,
          17.1,
          14.8,
          51.5,
          19.2,
          11.1
         ],
         "zmax": 90.9,
         "zmin": 0
        },
        {
         "colorscale": [
          [
           0,
           "#30123b"
          ],
          [
           0.07142857142857142,
           "#4145ab"
          ],
          [
           0.14285714285714285,
           "#4675ed"
          ],
          [
           0.21428571428571427,
           "#39a2fc"
          ],
          [
           0.2857142857142857,
           "#1bcfd4"
          ],
          [
           0.35714285714285715,
           "#24eca6"
          ],
          [
           0.42857142857142855,
           "#61fc6c"
          ],
          [
           0.5,
           "#a4fc3b"
          ],
          [
           0.5714285714285714,
           "#d1e834"
          ],
          [
           0.6428571428571429,
           "#f3c63a"
          ],
          [
           0.7142857142857143,
           "#fe9b2d"
          ],
          [
           0.7857142857142857,
           "#f36315"
          ],
          [
           0.8571428571428571,
           "#d93806"
          ],
          [
           0.9285714285714286,
           "#b11901"
          ],
          [
           1,
           "#7a0402"
          ]
         ],
         "hoverinfo": "location+z+text",
         "hovertext": [
          "AL",
          "AK",
          "AZ",
          "AR",
          "CA",
          "CO",
          "CT",
          "DE",
          "FL",
          "GA",
          "HI",
          "ID",
          "IL",
          "IN",
          "IA",
          "KS",
          "KY",
          "LA",
          "ME",
          "MD",
          "MA",
          "MI",
          "MN",
          "MS",
          "MO",
          "MT",
          "NE",
          "NV",
          "NH",
          "NJ",
          "NM",
          "NY",
          "NC",
          "ND",
          "OH",
          "OK",
          "OR",
          "PA",
          "RI",
          "SC",
          "SD",
          "TN",
          "TX",
          "UT",
          "VT",
          "VA",
          "WA",
          "WV",
          "WI",
          "WY"
         ],
         "locationmode": "USA-states",
         "locations": [
          "AL",
          "AK",
          "AZ",
          "AR",
          "CA",
          "CO",
          "CT",
          "DE",
          "FL",
          "GA",
          "HI",
          "ID",
          "IL",
          "IN",
          "IA",
          "KS",
          "KY",
          "LA",
          "ME",
          "MD",
          "MA",
          "MI",
          "MN",
          "MS",
          "MO",
          "MT",
          "NE",
          "NV",
          "NH",
          "NJ",
          "NM",
          "NY",
          "NC",
          "ND",
          "OH",
          "OK",
          "OR",
          "PA",
          "RI",
          "SC",
          "SD",
          "TN",
          "TX",
          "UT",
          "VT",
          "VA",
          "WA",
          "WV",
          "WI",
          "WY"
         ],
         "name": "2019",
         "type": "choropleth",
         "visible": false,
         "z": [
          16.3,
          17.8,
          26.8,
          13.5,
          15,
          18,
          34.7,
          48,
          25.5,
          13.1,
          15.9,
          15.1,
          21.9,
          26.6,
          11.5,
          14.3,
          32.5,
          28.3,
          29.9,
          38.2,
          32.1,
          24.4,
          14.2,
          13.6,
          26.9,
          14.1,
          8.7,
          20.1,
          32,
          31.7,
          30.2,
          18.2,
          22.3,
          11.4,
          38.3,
          16.7,
          14,
          35.6,
          29.5,
          22.7,
          10.5,
          31.2,
          10.8,
          18.9,
          23.8,
          18.3,
          15.8,
          52.8,
          21.1,
          14.1
         ],
         "zmax": 90.9,
         "zmin": 0
        },
        {
         "colorscale": [
          [
           0,
           "#30123b"
          ],
          [
           0.07142857142857142,
           "#4145ab"
          ],
          [
           0.14285714285714285,
           "#4675ed"
          ],
          [
           0.21428571428571427,
           "#39a2fc"
          ],
          [
           0.2857142857142857,
           "#1bcfd4"
          ],
          [
           0.35714285714285715,
           "#24eca6"
          ],
          [
           0.42857142857142855,
           "#61fc6c"
          ],
          [
           0.5,
           "#a4fc3b"
          ],
          [
           0.5714285714285714,
           "#d1e834"
          ],
          [
           0.6428571428571429,
           "#f3c63a"
          ],
          [
           0.7142857142857143,
           "#fe9b2d"
          ],
          [
           0.7857142857142857,
           "#f36315"
          ],
          [
           0.8571428571428571,
           "#d93806"
          ],
          [
           0.9285714285714286,
           "#b11901"
          ],
          [
           1,
           "#7a0402"
          ]
         ],
         "hoverinfo": "location+z+text",
         "hovertext": [
          "AL",
          "AK",
          "AZ",
          "AR",
          "CA",
          "CO",
          "CT",
          "DE",
          "FL",
          "GA",
          "HI",
          "ID",
          "IL",
          "IN",
          "IA",
          "KS",
          "KY",
          "LA",
          "ME",
          "MD",
          "MA",
          "MI",
          "MN",
          "MS",
          "MO",
          "MT",
          "NE",
          "NV",
          "NH",
          "NJ",
          "NM",
          "NY",
          "NC",
          "ND",
          "OH",
          "OK",
          "OR",
          "PA",
          "RI",
          "SC",
          "SD",
          "TN",
          "TX",
          "UT",
          "VT",
          "VA",
          "WA",
          "WV",
          "WI",
          "WY"
         ],
         "locationmode": "USA-states",
         "locations": [
          "AL",
          "AK",
          "AZ",
          "AR",
          "CA",
          "CO",
          "CT",
          "DE",
          "FL",
          "GA",
          "HI",
          "ID",
          "IL",
          "IN",
          "IA",
          "KS",
          "KY",
          "LA",
          "ME",
          "MD",
          "MA",
          "MI",
          "MN",
          "MS",
          "MO",
          "MT",
          "NE",
          "NV",
          "NH",
          "NJ",
          "NM",
          "NY",
          "NC",
          "ND",
          "OH",
          "OK",
          "OR",
          "PA",
          "RI",
          "SC",
          "SD",
          "TN",
          "TX",
          "UT",
          "VT",
          "VA",
          "WA",
          "WV",
          "WI",
          "WY"
         ],
         "name": "2020",
         "type": "choropleth",
         "visible": false,
         "z": [
          22.3,
          22,
          35.8,
          19.1,
          21.8,
          24.9,
          39.1,
          47.3,
          35,
          18,
          18.3,
          15.9,
          28.1,
          36.7,
          14.3,
          17.4,
          49.2,
          42.7,
          39.7,
          44.6,
          33.9,
          28.6,
          19,
          21.1,
          32.1,
          15.6,
          11.3,
          26,
          30.3,
          32.1,
          39,
          25.4,
          30.9,
          15.6,
          47.2,
          19.4,
          18.7,
          42.4,
          38.2,
          34.9,
          10.3,
          45.6,
          14.1,
          20.5,
          32.9,
          26.6,
          22,
          81.4,
          27.7,
          17.4
         ],
         "zmax": 90.9,
         "zmin": 0
        },
        {
         "colorscale": [
          [
           0,
           "#30123b"
          ],
          [
           0.07142857142857142,
           "#4145ab"
          ],
          [
           0.14285714285714285,
           "#4675ed"
          ],
          [
           0.21428571428571427,
           "#39a2fc"
          ],
          [
           0.2857142857142857,
           "#1bcfd4"
          ],
          [
           0.35714285714285715,
           "#24eca6"
          ],
          [
           0.42857142857142855,
           "#61fc6c"
          ],
          [
           0.5,
           "#a4fc3b"
          ],
          [
           0.5714285714285714,
           "#d1e834"
          ],
          [
           0.6428571428571429,
           "#f3c63a"
          ],
          [
           0.7142857142857143,
           "#fe9b2d"
          ],
          [
           0.7857142857142857,
           "#f36315"
          ],
          [
           0.8571428571428571,
           "#d93806"
          ],
          [
           0.9285714285714286,
           "#b11901"
          ],
          [
           1,
           "#7a0402"
          ]
         ],
         "hoverinfo": "location+z+text",
         "hovertext": [
          "AL",
          "AK",
          "AZ",
          "AR",
          "CA",
          "CO",
          "CT",
          "DE",
          "FL",
          "GA",
          "HI",
          "ID",
          "IL",
          "IN",
          "IA",
          "KS",
          "KY",
          "LA",
          "ME",
          "MD",
          "MA",
          "MI",
          "MN",
          "MS",
          "MO",
          "MT",
          "NE",
          "NV",
          "NH",
          "NJ",
          "NM",
          "NY",
          "NC",
          "ND",
          "OH",
          "OK",
          "OR",
          "PA",
          "RI",
          "SC",
          "SD",
          "TN",
          "TX",
          "UT",
          "VT",
          "VA",
          "WA",
          "WV",
          "WI",
          "WY"
         ],
         "locationmode": "USA-states",
         "locations": [
          "AL",
          "AK",
          "AZ",
          "AR",
          "CA",
          "CO",
          "CT",
          "DE",
          "FL",
          "GA",
          "HI",
          "ID",
          "IL",
          "IN",
          "IA",
          "KS",
          "KY",
          "LA",
          "ME",
          "MD",
          "MA",
          "MI",
          "MN",
          "MS",
          "MO",
          "MT",
          "NE",
          "NV",
          "NH",
          "NJ",
          "NM",
          "NY",
          "NC",
          "ND",
          "OH",
          "OK",
          "OR",
          "PA",
          "RI",
          "SC",
          "SD",
          "TN",
          "TX",
          "UT",
          "VT",
          "VA",
          "WA",
          "WV",
          "WI",
          "WY"
         ],
         "name": "2021",
         "type": "choropleth",
         "visible": false,
         "z": [
          30.1,
          35.6,
          38.7,
          22.3,
          26.6,
          31.4,
          42.3,
          54,
          37.5,
          23.5,
          17.3,
          19,
          29,
          43,
          15.3,
          24.3,
          55.6,
          55.9,
          47.1,
          42.8,
          36.8,
          31.5,
          24.5,
          28.4,
          36.5,
          19.5,
          11.4,
          29.2,
          32.3,
          32.4,
          51.6,
          28.7,
          39.2,
          17.2,
          48.1,
          24.4,
          26.8,
          43.2,
          41.7,
          42.8,
          12.6,
          56.6,
          16.8,
          21.1,
          42.3,
          30.5,
          28.1,
          90.9,
          31.6,
          18.9
         ],
         "zmax": 90.9,
         "zmin": 0
        },
        {
         "colorscale": [
          [
           0,
           "#30123b"
          ],
          [
           0.07142857142857142,
           "#4145ab"
          ],
          [
           0.14285714285714285,
           "#4675ed"
          ],
          [
           0.21428571428571427,
           "#39a2fc"
          ],
          [
           0.2857142857142857,
           "#1bcfd4"
          ],
          [
           0.35714285714285715,
           "#24eca6"
          ],
          [
           0.42857142857142855,
           "#61fc6c"
          ],
          [
           0.5,
           "#a4fc3b"
          ],
          [
           0.5714285714285714,
           "#d1e834"
          ],
          [
           0.6428571428571429,
           "#f3c63a"
          ],
          [
           0.7142857142857143,
           "#fe9b2d"
          ],
          [
           0.7857142857142857,
           "#f36315"
          ],
          [
           0.8571428571428571,
           "#d93806"
          ],
          [
           0.9285714285714286,
           "#b11901"
          ],
          [
           1,
           "#7a0402"
          ]
         ],
         "hoverinfo": "location+z+text",
         "hovertext": [
          "AL",
          "AK",
          "AZ",
          "AR",
          "CA",
          "CO",
          "CT",
          "DE",
          "District of Columbia",
          "FL",
          "GA",
          "HI",
          "ID",
          "IL",
          "IN",
          "IA",
          "KS",
          "KY",
          "LA",
          "ME",
          "MD",
          "MA",
          "MI",
          "MN",
          "MS",
          "MO",
          "MT",
          "NE",
          "NV",
          "NH",
          "NJ",
          "NM",
          "NY",
          "NC",
          "ND",
          "OH",
          "OK",
          "OR",
          "PA",
          "RI",
          "SC",
          "SD",
          "TN",
          "TX",
          "UT",
          "VT",
          "VA",
          "WA",
          "WV",
          "WI",
          "WY"
         ],
         "locationmode": "USA-states",
         "locations": [
          "AL",
          "AK",
          "AZ",
          "AR",
          "CA",
          "CO",
          "CT",
          "DE",
          "District of Columbia",
          "FL",
          "GA",
          "HI",
          "ID",
          "IL",
          "IN",
          "IA",
          "KS",
          "KY",
          "LA",
          "ME",
          "MD",
          "MA",
          "MI",
          "MN",
          "MS",
          "MO",
          "MT",
          "NE",
          "NV",
          "NH",
          "NJ",
          "NM",
          "NY",
          "NC",
          "ND",
          "OH",
          "OK",
          "OR",
          "PA",
          "RI",
          "SC",
          "SD",
          "TN",
          "TX",
          "UT",
          "VT",
          "VA",
          "WA",
          "WV",
          "WI",
          "WY"
         ],
         "name": "2022",
         "type": "choropleth",
         "visible": false,
         "z": [
          31.5,
          34.3,
          37.2,
          21.7,
          26.9,
          29.8,
          40.3,
          55.3,
          64.3,
          35.2,
          24.9,
          18.6,
          20.7,
          30,
          41,
          15.3,
          26.5,
          53.2,
          54.5,
          54.3,
          40.3,
          37.4,
          30.7,
          24.8,
          27.6,
          36.9,
          19.4,
          11.8,
          30.3,
          36,
          31.6,
          50.3,
          31.4,
          41.8,
          19.8,
          45.6,
          30.7,
          31.1,
          40.9,
          38.1,
          44.7,
          11.3,
          56,
          18.2,
          19.8,
          45.9,
          28.8,
          33.7,
          80.9,
          31.8,
          21.9
         ],
         "zmax": 90.9,
         "zmin": 0
        }
       ],
       "layout": {
        "geo": {
         "lakecolor": "rgb(255, 255, 255)",
         "projection": {
          "type": "albers usa"
         },
         "scope": "usa",
         "showlakes": true,
         "subunitcolor": "rgb(255, 255, 255)"
        },
        "height": 800,
        "margin": {
         "b": 50,
         "l": 50,
         "r": 50,
         "t": 50
        },
        "sliders": [
         {
          "active": 0,
          "pad": {
           "t": 50
          },
          "steps": [
           {
            "args": [
             {
              "visible": [
               true,
               false,
               false,
               false,
               false,
               false,
               false,
               false,
               false,
               false,
               false
              ]
             },
             {
              "title": "US Data for 1999 - Death Rate"
             }
            ],
            "label": "1999",
            "method": "update"
           },
           {
            "args": [
             {
              "visible": [
               false,
               true,
               false,
               false,
               false,
               false,
               false,
               false,
               false,
               false,
               false
              ]
             },
             {
              "title": "US Data for 2005 - Death Rate"
             }
            ],
            "label": "2005",
            "method": "update"
           },
           {
            "args": [
             {
              "visible": [
               false,
               false,
               true,
               false,
               false,
               false,
               false,
               false,
               false,
               false,
               false
              ]
             },
             {
              "title": "US Data for 2014 - Death Rate"
             }
            ],
            "label": "2014",
            "method": "update"
           },
           {
            "args": [
             {
              "visible": [
               false,
               false,
               false,
               true,
               false,
               false,
               false,
               false,
               false,
               false,
               false
              ]
             },
             {
              "title": "US Data for 2015 - Death Rate"
             }
            ],
            "label": "2015",
            "method": "update"
           },
           {
            "args": [
             {
              "visible": [
               false,
               false,
               false,
               false,
               true,
               false,
               false,
               false,
               false,
               false,
               false
              ]
             },
             {
              "title": "US Data for 2016 - Death Rate"
             }
            ],
            "label": "2016",
            "method": "update"
           },
           {
            "args": [
             {
              "visible": [
               false,
               false,
               false,
               false,
               false,
               true,
               false,
               false,
               false,
               false,
               false
              ]
             },
             {
              "title": "US Data for 2017 - Death Rate"
             }
            ],
            "label": "2017",
            "method": "update"
           },
           {
            "args": [
             {
              "visible": [
               false,
               false,
               false,
               false,
               false,
               false,
               true,
               false,
               false,
               false,
               false
              ]
             },
             {
              "title": "US Data for 2018 - Death Rate"
             }
            ],
            "label": "2018",
            "method": "update"
           },
           {
            "args": [
             {
              "visible": [
               false,
               false,
               false,
               false,
               false,
               false,
               false,
               true,
               false,
               false,
               false
              ]
             },
             {
              "title": "US Data for 2019 - Death Rate"
             }
            ],
            "label": "2019",
            "method": "update"
           },
           {
            "args": [
             {
              "visible": [
               false,
               false,
               false,
               false,
               false,
               false,
               false,
               false,
               true,
               false,
               false
              ]
             },
             {
              "title": "US Data for 2020 - Death Rate"
             }
            ],
            "label": "2020",
            "method": "update"
           },
           {
            "args": [
             {
              "visible": [
               false,
               false,
               false,
               false,
               false,
               false,
               false,
               false,
               false,
               true,
               false
              ]
             },
             {
              "title": "US Data for 2021 - Death Rate"
             }
            ],
            "label": "2021",
            "method": "update"
           },
           {
            "args": [
             {
              "visible": [
               false,
               false,
               false,
               false,
               false,
               false,
               false,
               false,
               false,
               false,
               true
              ]
             },
             {
              "title": "US Data for 2022 - Death Rate"
             }
            ],
            "label": "2022",
            "method": "update"
           }
          ],
          "x": 0.02,
          "xanchor": "left",
          "y": 0,
          "yanchor": "top"
         }
        ],
        "template": {
         "data": {
          "bar": [
           {
            "error_x": {
             "color": "#2a3f5f"
            },
            "error_y": {
             "color": "#2a3f5f"
            },
            "marker": {
             "line": {
              "color": "#E5ECF6",
              "width": 0.5
             },
             "pattern": {
              "fillmode": "overlay",
              "size": 10,
              "solidity": 0.2
             }
            },
            "type": "bar"
           }
          ],
          "barpolar": [
           {
            "marker": {
             "line": {
              "color": "#E5ECF6",
              "width": 0.5
             },
             "pattern": {
              "fillmode": "overlay",
              "size": 10,
              "solidity": 0.2
             }
            },
            "type": "barpolar"
           }
          ],
          "carpet": [
           {
            "aaxis": {
             "endlinecolor": "#2a3f5f",
             "gridcolor": "white",
             "linecolor": "white",
             "minorgridcolor": "white",
             "startlinecolor": "#2a3f5f"
            },
            "baxis": {
             "endlinecolor": "#2a3f5f",
             "gridcolor": "white",
             "linecolor": "white",
             "minorgridcolor": "white",
             "startlinecolor": "#2a3f5f"
            },
            "type": "carpet"
           }
          ],
          "choropleth": [
           {
            "colorbar": {
             "outlinewidth": 0,
             "ticks": ""
            },
            "type": "choropleth"
           }
          ],
          "contour": [
           {
            "colorbar": {
             "outlinewidth": 0,
             "ticks": ""
            },
            "colorscale": [
             [
              0,
              "#0d0887"
             ],
             [
              0.1111111111111111,
              "#46039f"
             ],
             [
              0.2222222222222222,
              "#7201a8"
             ],
             [
              0.3333333333333333,
              "#9c179e"
             ],
             [
              0.4444444444444444,
              "#bd3786"
             ],
             [
              0.5555555555555556,
              "#d8576b"
             ],
             [
              0.6666666666666666,
              "#ed7953"
             ],
             [
              0.7777777777777778,
              "#fb9f3a"
             ],
             [
              0.8888888888888888,
              "#fdca26"
             ],
             [
              1,
              "#f0f921"
             ]
            ],
            "type": "contour"
           }
          ],
          "contourcarpet": [
           {
            "colorbar": {
             "outlinewidth": 0,
             "ticks": ""
            },
            "type": "contourcarpet"
           }
          ],
          "heatmap": [
           {
            "colorbar": {
             "outlinewidth": 0,
             "ticks": ""
            },
            "colorscale": [
             [
              0,
              "#0d0887"
             ],
             [
              0.1111111111111111,
              "#46039f"
             ],
             [
              0.2222222222222222,
              "#7201a8"
             ],
             [
              0.3333333333333333,
              "#9c179e"
             ],
             [
              0.4444444444444444,
              "#bd3786"
             ],
             [
              0.5555555555555556,
              "#d8576b"
             ],
             [
              0.6666666666666666,
              "#ed7953"
             ],
             [
              0.7777777777777778,
              "#fb9f3a"
             ],
             [
              0.8888888888888888,
              "#fdca26"
             ],
             [
              1,
              "#f0f921"
             ]
            ],
            "type": "heatmap"
           }
          ],
          "heatmapgl": [
           {
            "colorbar": {
             "outlinewidth": 0,
             "ticks": ""
            },
            "colorscale": [
             [
              0,
              "#0d0887"
             ],
             [
              0.1111111111111111,
              "#46039f"
             ],
             [
              0.2222222222222222,
              "#7201a8"
             ],
             [
              0.3333333333333333,
              "#9c179e"
             ],
             [
              0.4444444444444444,
              "#bd3786"
             ],
             [
              0.5555555555555556,
              "#d8576b"
             ],
             [
              0.6666666666666666,
              "#ed7953"
             ],
             [
              0.7777777777777778,
              "#fb9f3a"
             ],
             [
              0.8888888888888888,
              "#fdca26"
             ],
             [
              1,
              "#f0f921"
             ]
            ],
            "type": "heatmapgl"
           }
          ],
          "histogram": [
           {
            "marker": {
             "pattern": {
              "fillmode": "overlay",
              "size": 10,
              "solidity": 0.2
             }
            },
            "type": "histogram"
           }
          ],
          "histogram2d": [
           {
            "colorbar": {
             "outlinewidth": 0,
             "ticks": ""
            },
            "colorscale": [
             [
              0,
              "#0d0887"
             ],
             [
              0.1111111111111111,
              "#46039f"
             ],
             [
              0.2222222222222222,
              "#7201a8"
             ],
             [
              0.3333333333333333,
              "#9c179e"
             ],
             [
              0.4444444444444444,
              "#bd3786"
             ],
             [
              0.5555555555555556,
              "#d8576b"
             ],
             [
              0.6666666666666666,
              "#ed7953"
             ],
             [
              0.7777777777777778,
              "#fb9f3a"
             ],
             [
              0.8888888888888888,
              "#fdca26"
             ],
             [
              1,
              "#f0f921"
             ]
            ],
            "type": "histogram2d"
           }
          ],
          "histogram2dcontour": [
           {
            "colorbar": {
             "outlinewidth": 0,
             "ticks": ""
            },
            "colorscale": [
             [
              0,
              "#0d0887"
             ],
             [
              0.1111111111111111,
              "#46039f"
             ],
             [
              0.2222222222222222,
              "#7201a8"
             ],
             [
              0.3333333333333333,
              "#9c179e"
             ],
             [
              0.4444444444444444,
              "#bd3786"
             ],
             [
              0.5555555555555556,
              "#d8576b"
             ],
             [
              0.6666666666666666,
              "#ed7953"
             ],
             [
              0.7777777777777778,
              "#fb9f3a"
             ],
             [
              0.8888888888888888,
              "#fdca26"
             ],
             [
              1,
              "#f0f921"
             ]
            ],
            "type": "histogram2dcontour"
           }
          ],
          "mesh3d": [
           {
            "colorbar": {
             "outlinewidth": 0,
             "ticks": ""
            },
            "type": "mesh3d"
           }
          ],
          "parcoords": [
           {
            "line": {
             "colorbar": {
              "outlinewidth": 0,
              "ticks": ""
             }
            },
            "type": "parcoords"
           }
          ],
          "pie": [
           {
            "automargin": true,
            "type": "pie"
           }
          ],
          "scatter": [
           {
            "fillpattern": {
             "fillmode": "overlay",
             "size": 10,
             "solidity": 0.2
            },
            "type": "scatter"
           }
          ],
          "scatter3d": [
           {
            "line": {
             "colorbar": {
              "outlinewidth": 0,
              "ticks": ""
             }
            },
            "marker": {
             "colorbar": {
              "outlinewidth": 0,
              "ticks": ""
             }
            },
            "type": "scatter3d"
           }
          ],
          "scattercarpet": [
           {
            "marker": {
             "colorbar": {
              "outlinewidth": 0,
              "ticks": ""
             }
            },
            "type": "scattercarpet"
           }
          ],
          "scattergeo": [
           {
            "marker": {
             "colorbar": {
              "outlinewidth": 0,
              "ticks": ""
             }
            },
            "type": "scattergeo"
           }
          ],
          "scattergl": [
           {
            "marker": {
             "colorbar": {
              "outlinewidth": 0,
              "ticks": ""
             }
            },
            "type": "scattergl"
           }
          ],
          "scattermapbox": [
           {
            "marker": {
             "colorbar": {
              "outlinewidth": 0,
              "ticks": ""
             }
            },
            "type": "scattermapbox"
           }
          ],
          "scatterpolar": [
           {
            "marker": {
             "colorbar": {
              "outlinewidth": 0,
              "ticks": ""
             }
            },
            "type": "scatterpolar"
           }
          ],
          "scatterpolargl": [
           {
            "marker": {
             "colorbar": {
              "outlinewidth": 0,
              "ticks": ""
             }
            },
            "type": "scatterpolargl"
           }
          ],
          "scatterternary": [
           {
            "marker": {
             "colorbar": {
              "outlinewidth": 0,
              "ticks": ""
             }
            },
            "type": "scatterternary"
           }
          ],
          "surface": [
           {
            "colorbar": {
             "outlinewidth": 0,
             "ticks": ""
            },
            "colorscale": [
             [
              0,
              "#0d0887"
             ],
             [
              0.1111111111111111,
              "#46039f"
             ],
             [
              0.2222222222222222,
              "#7201a8"
             ],
             [
              0.3333333333333333,
              "#9c179e"
             ],
             [
              0.4444444444444444,
              "#bd3786"
             ],
             [
              0.5555555555555556,
              "#d8576b"
             ],
             [
              0.6666666666666666,
              "#ed7953"
             ],
             [
              0.7777777777777778,
              "#fb9f3a"
             ],
             [
              0.8888888888888888,
              "#fdca26"
             ],
             [
              1,
              "#f0f921"
             ]
            ],
            "type": "surface"
           }
          ],
          "table": [
           {
            "cells": {
             "fill": {
              "color": "#EBF0F8"
             },
             "line": {
              "color": "white"
             }
            },
            "header": {
             "fill": {
              "color": "#C8D4E3"
             },
             "line": {
              "color": "white"
             }
            },
            "type": "table"
           }
          ]
         },
         "layout": {
          "annotationdefaults": {
           "arrowcolor": "#2a3f5f",
           "arrowhead": 0,
           "arrowwidth": 1
          },
          "autotypenumbers": "strict",
          "coloraxis": {
           "colorbar": {
            "outlinewidth": 0,
            "ticks": ""
           }
          },
          "colorscale": {
           "diverging": [
            [
             0,
             "#8e0152"
            ],
            [
             0.1,
             "#c51b7d"
            ],
            [
             0.2,
             "#de77ae"
            ],
            [
             0.3,
             "#f1b6da"
            ],
            [
             0.4,
             "#fde0ef"
            ],
            [
             0.5,
             "#f7f7f7"
            ],
            [
             0.6,
             "#e6f5d0"
            ],
            [
             0.7,
             "#b8e186"
            ],
            [
             0.8,
             "#7fbc41"
            ],
            [
             0.9,
             "#4d9221"
            ],
            [
             1,
             "#276419"
            ]
           ],
           "sequential": [
            [
             0,
             "#0d0887"
            ],
            [
             0.1111111111111111,
             "#46039f"
            ],
            [
             0.2222222222222222,
             "#7201a8"
            ],
            [
             0.3333333333333333,
             "#9c179e"
            ],
            [
             0.4444444444444444,
             "#bd3786"
            ],
            [
             0.5555555555555556,
             "#d8576b"
            ],
            [
             0.6666666666666666,
             "#ed7953"
            ],
            [
             0.7777777777777778,
             "#fb9f3a"
            ],
            [
             0.8888888888888888,
             "#fdca26"
            ],
            [
             1,
             "#f0f921"
            ]
           ],
           "sequentialminus": [
            [
             0,
             "#0d0887"
            ],
            [
             0.1111111111111111,
             "#46039f"
            ],
            [
             0.2222222222222222,
             "#7201a8"
            ],
            [
             0.3333333333333333,
             "#9c179e"
            ],
            [
             0.4444444444444444,
             "#bd3786"
            ],
            [
             0.5555555555555556,
             "#d8576b"
            ],
            [
             0.6666666666666666,
             "#ed7953"
            ],
            [
             0.7777777777777778,
             "#fb9f3a"
            ],
            [
             0.8888888888888888,
             "#fdca26"
            ],
            [
             1,
             "#f0f921"
            ]
           ]
          },
          "colorway": [
           "#636efa",
           "#EF553B",
           "#00cc96",
           "#ab63fa",
           "#FFA15A",
           "#19d3f3",
           "#FF6692",
           "#B6E880",
           "#FF97FF",
           "#FECB52"
          ],
          "font": {
           "color": "#2a3f5f"
          },
          "geo": {
           "bgcolor": "white",
           "lakecolor": "white",
           "landcolor": "#E5ECF6",
           "showlakes": true,
           "showland": true,
           "subunitcolor": "white"
          },
          "hoverlabel": {
           "align": "left"
          },
          "hovermode": "closest",
          "mapbox": {
           "style": "light"
          },
          "paper_bgcolor": "white",
          "plot_bgcolor": "#E5ECF6",
          "polar": {
           "angularaxis": {
            "gridcolor": "white",
            "linecolor": "white",
            "ticks": ""
           },
           "bgcolor": "#E5ECF6",
           "radialaxis": {
            "gridcolor": "white",
            "linecolor": "white",
            "ticks": ""
           }
          },
          "scene": {
           "xaxis": {
            "backgroundcolor": "#E5ECF6",
            "gridcolor": "white",
            "gridwidth": 2,
            "linecolor": "white",
            "showbackground": true,
            "ticks": "",
            "zerolinecolor": "white"
           },
           "yaxis": {
            "backgroundcolor": "#E5ECF6",
            "gridcolor": "white",
            "gridwidth": 2,
            "linecolor": "white",
            "showbackground": true,
            "ticks": "",
            "zerolinecolor": "white"
           },
           "zaxis": {
            "backgroundcolor": "#E5ECF6",
            "gridcolor": "white",
            "gridwidth": 2,
            "linecolor": "white",
            "showbackground": true,
            "ticks": "",
            "zerolinecolor": "white"
           }
          },
          "shapedefaults": {
           "line": {
            "color": "#2a3f5f"
           }
          },
          "ternary": {
           "aaxis": {
            "gridcolor": "white",
            "linecolor": "white",
            "ticks": ""
           },
           "baxis": {
            "gridcolor": "white",
            "linecolor": "white",
            "ticks": ""
           },
           "bgcolor": "#E5ECF6",
           "caxis": {
            "gridcolor": "white",
            "linecolor": "white",
            "ticks": ""
           }
          },
          "title": {
           "x": 0.05
          },
          "xaxis": {
           "automargin": true,
           "gridcolor": "white",
           "linecolor": "white",
           "ticks": "",
           "title": {
            "standoff": 15
           },
           "zerolinecolor": "white",
           "zerolinewidth": 2
          },
          "yaxis": {
           "automargin": true,
           "gridcolor": "white",
           "linecolor": "white",
           "ticks": "",
           "title": {
            "standoff": 15
           },
           "zerolinecolor": "white",
           "zerolinewidth": 2
          }
         }
        },
        "title": {
         "text": "US Data for 1999 - Death Rate"
        }
       }
      }
     },
     "metadata": {},
     "output_type": "display_data"
    }
   ],
   "source": [
    "import pandas as pd\n",
    "from pandas import *\n",
    "import matplotlib.pyplot as plt\n",
    "import seaborn as sns\n",
    "import dash\n",
    "from dash import dcc, html\n",
    "from dash.dependencies import Input, Output\n",
    "import plotly.express as px\n",
    "\n",
    "df = pd.read_csv(\"statesdata.csv\")\n",
    "\n",
    "df.columns = df.columns.str.strip()\n",
    "\n",
    "# # Initialize the Dash app\n",
    "# app2 = dash.Dash(__name__)\n",
    "\n",
    "# # Calculate min and max values for RATE and DEATHS to set fixed color scale\n",
    "# min_rate = df['RATE'].min()\n",
    "# max_rate = df['RATE'].max()\n",
    "# min_deaths = df['DEATHS'].min()\n",
    "# max_deaths = df['DEATHS'].max()\n",
    "\n",
    "# app2.layout = html.Div([\n",
    "#     html.H1(\"Interactive US Map with Data Per State\"),\n",
    "#     html.Label(\"Select Year:\"),\n",
    "#     dcc.Dropdown(\n",
    "#         id='year-dropdown',\n",
    "#         options=[{'label': year, 'value': year} for year in df['YEAR'].unique()],\n",
    "#         value=df['YEAR'].min()\n",
    "#     ),\n",
    "#     dcc.Graph(id='us-map')\n",
    "# ])\n",
    "\n",
    "# @app2.callback(\n",
    "#     Output('us-map', 'figure'),\n",
    "#     [Input('year-dropdown', 'value')]\n",
    "# )\n",
    "# def update_map(selected_year):\n",
    "    # Filter data based on the selected year\n",
    "#     filtered_df = df[df['YEAR'] == selected_year]\n",
    "\n",
    "#     # Create the choropleth map\n",
    "#     fig = px.choropleth(\n",
    "#         filtered_df,\n",
    "#         locations='STATE',\n",
    "#         locationmode='USA-states',\n",
    "#         color='RATE',\n",
    "#         scope='usa',\n",
    "#         color_continuous_scale='Turbo',\n",
    "#         range_color=(min_rate, max_rate),\n",
    "#         labels={'RATE': 'Death Rate'},\n",
    "#         hover_name='STATE',  # Show state abbreviation on hover\n",
    "#         hover_data={'RATE': True, 'DEATHS': True},  # Additional data to display on hover\n",
    "#         template='plotly'  # Use the plotly template for hover labels\n",
    "#     )\n",
    "\n",
    "#     fig.update_layout(\n",
    "#         title_text=f'US Data for {selected_year} - Death Rate',\n",
    "#         geo=dict(\n",
    "#             lakecolor='rgb(255, 255, 255)',\n",
    "#         )\n",
    "#     )\n",
    "\n",
    "#     return fig\n",
    "\n",
    "# if __name__ == '__main__':\n",
    "#     app2.run_server(debug=True)df.columns = df.columns.str.strip()\n",
    "\n",
    "# Check for 'YEAR' column\n",
    "if 'YEAR' not in df.columns:\n",
    "    raise KeyError(\"The 'YEAR' column is missing or misspelled in the DataFrame.\")\n",
    "\n",
    "# Calculate min and max values for RATE to set fixed color scale\n",
    "min_rate = df['RATE'].min()\n",
    "max_rate = df['RATE'].max()\n",
    "\n",
    "# Sort years to ensure the slider goes from earliest to latest year\n",
    "years = sorted(df['YEAR'].unique())\n",
    "\n",
    "# Initialize the figure\n",
    "fig = go.Figure()\n",
    "\n",
    "# Create a choropleth map for each year and add it to the figure\n",
    "for year in years:\n",
    "    filtered_df = df[df['YEAR'] == year]\n",
    "    fig.add_trace(\n",
    "        go.Choropleth(\n",
    "            locations=filtered_df['STATE'],\n",
    "            z=filtered_df['RATE'],\n",
    "            locationmode='USA-states',\n",
    "            colorscale='Turbo',\n",
    "            zmin=min_rate,\n",
    "            zmax=max_rate,\n",
    "            hovertext=filtered_df['STATE'],\n",
    "            hoverinfo='location+z+text',\n",
    "            visible=False,\n",
    "            name=str(year)\n",
    "        )\n",
    "    )\n",
    "\n",
    "# Make the first trace visible\n",
    "fig.data[0].visible = True\n",
    "\n",
    "# Create sliders\n",
    "steps = []\n",
    "for i, year in enumerate(years):\n",
    "    step = dict(\n",
    "        method='update',\n",
    "        args=[{'visible': [j == i for j in range(len(fig.data))]},\n",
    "              {'title': f'US Data for {year} - Death Rate'}],\n",
    "        label=str(year)\n",
    "    )\n",
    "    steps.append(step)\n",
    "\n",
    "sliders = [dict(\n",
    "    active=0,\n",
    "    steps=steps,\n",
    "    x=0.02,  # Move the slider more to the left\n",
    "    xanchor='left',\n",
    "    y=0,\n",
    "    yanchor='top',\n",
    "    pad=dict(t=50)\n",
    ")]\n",
    "\n",
    "# Add the sliders to the figure\n",
    "fig.update_layout(\n",
    "    title_text=f'US Data for {years[0]} - Death Rate',\n",
    "    geo=dict(\n",
    "        scope='usa',\n",
    "        lakecolor='rgb(255, 255, 255)',\n",
    "        projection=dict(type='albers usa'),\n",
    "        showlakes=True,\n",
    "        subunitcolor=\"rgb(255, 255, 255)\",\n",
    "    ),\n",
    "    margin=dict(l=50, r=50, t=50, b=50),\n",
    "    sliders=sliders,\n",
    "    height=800,  # Adjust the height as needed\n",
    ")\n",
    "\n",
    "# Show the interactive map\n",
    "fig.show()\n",
    "\n",
    "\n"
   ]
  },
  {
   "cell_type": "markdown",
   "id": "bc631fb9-0c6e-4390-bf04-d63626593510",
   "metadata": {},
   "source": [
    "### Third argument: Impact on youth\n",
    "#### Argument: Legalization normalizes drug use and increases accessibility, particularly among young people.\n",
    "DRAFT\n",
    "<br>\n",
    "Possible supporting Data: Correlation between drug legalization and drug use rates among youth."
   ]
  },
  {
   "cell_type": "markdown",
   "id": "21aec711-f65d-49ec-929d-b2db2900ad54",
   "metadata": {},
   "source": [
    "# Reflection"
   ]
  },
  {
   "cell_type": "markdown",
   "id": "68b1cc4e-71ba-450e-aeff-d09f9d18e1d5",
   "metadata": {},
   "source": [
    "# Work Distribution"
   ]
  },
  {
   "cell_type": "markdown",
   "id": "a3dacc32-dbdd-4ee7-9214-81d372e0fb63",
   "metadata": {},
   "source": [
    "# References"
   ]
  },
  {
   "cell_type": "code",
   "execution_count": null,
   "id": "625c8e2a-6a89-4492-8dc2-7f0975f042ba",
   "metadata": {},
   "outputs": [],
   "source": []
  }
 ],
 "metadata": {
  "kernelspec": {
   "display_name": "Python 3 (ipykernel)",
   "language": "python",
   "name": "python3"
  },
  "language_info": {
   "codemirror_mode": {
    "name": "ipython",
    "version": 3
   },
   "file_extension": ".py",
   "mimetype": "text/x-python",
   "name": "python",
   "nbconvert_exporter": "python",
   "pygments_lexer": "ipython3",
   "version": "3.8.8"
  }
 },
 "nbformat": 4,
 "nbformat_minor": 5
}
