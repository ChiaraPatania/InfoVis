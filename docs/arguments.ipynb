{
 "cells": [
  {
   "cell_type": "markdown",
   "metadata": {},
   "source": [
    "# Decriminalization of drugs\n",
    "Portugal and Oregon stand out as two regions that have implemented distinct decriminalization policies. Portugal's journey began in 2001 with the decriminalization of all drugs, a pioneering move aimed at reframing drug use as a public health issue rather than a criminal one. This policy was driven by a severe public health crisis characterized by high rates of drug-related deaths and HIV infections among drug users (Ashton, 2019). Under this policy, individuals caught with small quantities of drugs are not prosecuted but referred to \"dissuasion commissions,\" which assess their needs and recommend treatment, fines, or social services. This approach focuses more on rehabilitation and harm reduction rather than punishment (Félix et al., 2017).\n",
    "<br>\n",
    "<br>\n",
    "In contrast with Portugal, Oregon’s policy, implemented in 2021, only decriminalizes the possession of small amounts of certain drugs, including heroin, cocaine, and methamphetamine. Rather than facing arrest and jail time, individuals in Oregon caught with these substances receive a civil citation and a fine, which can be waived if they seek an assessment for substance use disorder. Oregon's approach is more focused on reducing incarceration rates and reallocating funds from law enforcement to addiction treatment and harm reduction services (Gerstner, 2021).\n",
    "<br>\n",
    "<br>\n",
    "To understand the impact of these policies, we analyzed a range of data from both regions, including drug-related deaths, drug-related crime statistics, and public health expenditures. By comparing these metrics before and after decriminalization, we draw insights into the efficacy and challenges of each approach.\n",
    "\n",
    "## Perspective 1 - Drugs should be decriminalized to stop drug criminalization\n",
    "\n",
    "### Decriminalization reduces drug-related crime"
   ]
  },
  {
   "cell_type": "code",
   "execution_count": 41,
   "metadata": {
    "tags": [
     "hide-input"
    ]
   },
   "outputs": [],
   "source": [
    "# ! pip3 install dash\n",
    "# ! pip install dash\n",
    "\n",
    "# import pandas as pd\n",
    "# import numpy as np\n",
    "# import dash\n",
    "# from dash import dcc, html\n",
    "# from dash.dependencies import Input, Output\n",
    "# import plotly.graph_objs as go\n",
    "# import plotly.express as px\n",
    "\n",
    "# # makeing a dataframe with the data of two separate datasets of the amount of crimes per country, per year. \n",
    "# # Most values align, but some are missing in one dataset and not in the other\n",
    "# # To make the dataframe as complete as possible, we'll combine the two datasets\n",
    "\n",
    "# crimes_1 = pd.read_csv(\"DLOs_europe_1.csv\")\n",
    "# crimes_2 = pd.read_csv(\"DLOs_europe_2.csv\")\n",
    "\n",
    "# crimes_df1 = pd.DataFrame(crimes_1)\n",
    "# crimes_df2 = pd.DataFrame(crimes_2)\n",
    "\n",
    "# years = ['2022','2021','2020','2019','2018','2017','2016','2015','2014','2013','2012','2011','2010','2009','2008','2007']\n",
    "\n",
    "# # Function to compare values from the two dataframes and return a combined value\n",
    "# def compare_values(self_value, other_value):\n",
    "\n",
    "#     # if both are Nan, keep Nan in the dataset\n",
    "#     if pd.isna(self_value) and pd.isna(other_value):\n",
    "#         return np.nan\n",
    "\n",
    "#     # if one value is NaN, keep the value of the other dataset\n",
    "#     elif pd.isna(self_value):\n",
    "#         return other_value\n",
    "#     elif pd.isna(other_value):\n",
    "#         return self_value\n",
    "    \n",
    "#     # if values are the same\n",
    "#     elif self_value == other_value:\n",
    "#         return self_value\n",
    "\n",
    "#     # if values are different, keep the mean\n",
    "#     else:\n",
    "#         return (self_value + other_value) / 2\n",
    "\n",
    "# # Create a new dictionary to store the combined data from the two dataframes\n",
    "# combined_crimes = {'Country': crimes_df1['Country']}\n",
    "\n",
    "# # Loop through each year to process the data for that year\n",
    "# for year in years:\n",
    "\n",
    "#     # Check if the year exists in both dataframes\n",
    "#     if year in crimes_df1.columns and year in crimes_df2.columns:\n",
    "        \n",
    "#         # For each row, apply a the compare_values() function to compare and combine the values from both dataframes\n",
    "#         combined_crimes[year] = crimes_df1.apply(\n",
    "#             lambda row: compare_values(\n",
    "\n",
    "#                 # Value from the first dataframe\n",
    "#                 row[year], \n",
    "\n",
    "#                 # Corresponding value from the second dataframe\n",
    "#                 crimes_df2.loc[crimes_df2['Country'] == row['Country'], year].values[0]\n",
    "\n",
    "#                 # Use np.nan if the country is not in the second dataframe\n",
    "#                 if row['Country'] in crimes_df2['Country'].values else np.nan \n",
    "\n",
    "#             ), axis=1\n",
    "#         )\n",
    "        \n",
    "#     # If the year exists only in the first dataframe, use those values\n",
    "#     elif year in crimes_df1.columns:\n",
    "#         combined_crimes[year] = crimes_df1[year]\n",
    "\n",
    "#     # Same for the second dataframe\n",
    "#     elif year in crimes_df2.columns:\n",
    "#         combined_crimes[year] = crimes_df2[year]\n",
    "\n",
    "#     # If the year exists in neither dataframe, use np.nan\n",
    "#     else:\n",
    "#         combined_crimes[year] = np.nan\n",
    "\n",
    "# # Convert the dictionary to a DataFrame\n",
    "# crimes_combined_df = pd.DataFrame(combined_crimes)\n",
    "\n",
    "\n",
    "# # Making a dataframe for amount of crimes per 1000 inhabitants\n",
    "\n",
    "# inhabitants = pd.read_csv(\"Population_europe.csv\")\n",
    "# inhabitants_df = inhabitants[['Country Name'] + years].copy()\n",
    "# inhabitants_df.rename(columns={'Country Name': 'Country'}, inplace=True)\n",
    "\n",
    "# # Function to calculate the number of crimes per 1000 inhabitants\n",
    "# def calc_per_100_inhabitants(row, year):\n",
    "#     if pd.isna(row[f'{year}']):\n",
    "#         return np.nan\n",
    "#     else:\n",
    "#         return round(row[f'{year}'] / (inhabitants_df.at[row.name, f'{year}'] / 1000), 3)\n",
    "\n",
    "# # Create a new DataFrame with the crime data per 1000 inhabitants\n",
    "# per_inhabitants_df = crimes_combined_df.copy()\n",
    "\n",
    "# for year in years:\n",
    "#     if year in crimes_combined_df.columns and year in inhabitants_df.columns:\n",
    "#         per_inhabitants_df[year] = crimes_combined_df.apply(lambda row: calc_per_100_inhabitants(row, year), axis=1)\n",
    "\n",
    "# per_inhabitants_df.reset_index(drop=True, inplace=True)\n",
    "\n",
    "# # make interactive barplot\n",
    "\n",
    "# app = dash.Dash(__name__)\n",
    "\n",
    "# # html layout of the Dash application\n",
    "# app.layout = html.Div([\n",
    "#     html.H1(\"Comparison of the amount of drug crimes per year in portugal and other countries\"),\n",
    "\n",
    "#     html.Label(\"Select countries (Portugal is always included):\"),\n",
    "#     dcc.Dropdown(\n",
    "#         id='country-selector',\n",
    "#         options=[{'label': i, 'value': i} for i in crimes_combined_df['Country'].unique() if i != 'Portugal'],\n",
    "#         value=['France', 'Spain'], \n",
    "#         multi=True\n",
    "#     ),\n",
    "\n",
    "#     html.Label(\"Selecteer Jaren:\"),\n",
    "#     dcc.Dropdown(\n",
    "#         id='year-selector',\n",
    "#         options=[{'label': i, 'value': i} for i in crimes_combined_df.columns if i != 'Country'],\n",
    "#         value=['2021', '2017','2012', '2007'], \n",
    "#         multi=True\n",
    "#     ),\n",
    "#     html.Label(\"Select Scale:\"),\n",
    "#     dcc.Dropdown(\n",
    "#         id='scale-selector',\n",
    "#         options=[\n",
    "#             {'label': 'Linear', 'value': 'linear'},\n",
    "#             {'label': 'Logarithmic', 'value': 'log'}\n",
    "#         ],\n",
    "#         value='log', \n",
    "#     ),\n",
    "#     html.Label(\"Select unit:\"),\n",
    "#     dcc.Dropdown(\n",
    "#         id='data-selector',\n",
    "#         options=[\n",
    "#             {'label': 'Totaal amount of cases', 'value': 'total'},\n",
    "#             {'label': 'cases/1000 inhabitants', 'value': 'per_inhabitants'}\n",
    "#         ],\n",
    "#         value='total', \n",
    "#     ),\n",
    "#     dcc.Graph(id='bar-plot'),\n",
    "#     html.Div(id='missing-data-warning', style={'color': 'red', 'margin-top': '20px'})\n",
    "# ], style={'backgroundColor': 'lightgrey', 'padding': '20px'})\n",
    "\n",
    "# # Define the callback to update the graph and warning text\n",
    "# @app.callback(\n",
    "#     [Output('bar-plot', 'figure'), Output('missing-data-warning', 'children')],\n",
    "#     [Input('country-selector', 'value'),\n",
    "#      Input('year-selector', 'value'),\n",
    "#      Input('scale-selector', 'value'),\n",
    "#      Input('data-selector', 'value')]\n",
    "# )\n",
    "\n",
    "# def update_graph(selected_countries, selected_years, selected_scale, selected_data):\n",
    "#     selected_countries.append('Portugal') \n",
    "\n",
    "#     # Choose the correct dataset based on the selected data type\n",
    "#     filtered_df = per_inhabitants_df if selected_data == 'per_inhabitants' else crimes_combined_df\n",
    "\n",
    "#     # Filter the dataframe based on the selected countries and years\n",
    "#     selected_countries_df = filtered_df[filtered_df['Country'].isin(selected_countries)].copy()\n",
    "#     final_df = selected_countries_df.melt(id_vars=['Country'], value_vars=selected_years, var_name='Year', value_name='Cases')\n",
    "    \n",
    "#     # make sure Portugal is always the first country in the plots\n",
    "#     country_order = ['Portugal'] + sorted([c for c in selected_countries if c != 'Portugal'])\n",
    "    \n",
    "#     bars = []\n",
    "#     missing_data_info = []\n",
    "#     warning_text = \"\"\n",
    "\n",
    "#     # Loop through each country to create bar plots and track missing data\n",
    "#     for country in country_order:\n",
    "#         country_data = final_df[final_df['Country'] == country]\n",
    "#         bars.append(go.Bar(\n",
    "#             x=country_data[pd.notna(country_data['Cases'])]['Year'],\n",
    "#             y=country_data[pd.notna(country_data['Cases'])]['Cases'],\n",
    "#             name=country\n",
    "#         ))\n",
    "\n",
    "#         nan_data = country_data[pd.isna(country_data['Cases'])]\n",
    "#         if not nan_data.empty:\n",
    "#             missing_data_info.append(f\"{country} ({', '.join(nan_data['Year'])})\")\n",
    "    \n",
    "#     fig = go.Figure(data=bars)\n",
    "#     fig.update_layout(\n",
    "#         paper_bgcolor='lightgrey',\n",
    "#         plot_bgcolor='white', \n",
    "#         font=dict(color='black'),  \n",
    "#         yaxis_type=selected_scale,\n",
    "#         title= \"Amount of drug crimes per year for the selected years and countries\",\n",
    "#         xaxis_title=\"Year\", \n",
    "#         yaxis_title= \"Number of Crimes\" if selected_data == 'total' else \"Crimes per 1000 Inhabitants\"\n",
    "#     )\n",
    "\n",
    "#     # Generate the warning text for missing data\n",
    "#     warning_text = \"\"\n",
    "#     if missing_data_info:\n",
    "#         warning_text = \"Please note that the following countries/years contain missing data: \" + \"; \".join(missing_data_info)\n",
    "    \n",
    "#     return fig, warning_text\n",
    "\n",
    "# # Run the Dash application\n",
    "# if __name__ == '__main__':\n",
    "#     app.run_server(debug=True , port=8058)\n",
    "\n",
    "# ! pip install plotly pandas ipywidgets\n",
    "# ! pip3 install plotly pandas ipywidgets\n",
    "\n",
    "\n",
    "# import pandas as pd\n",
    "# import numpy as np\n",
    "# import plotly.graph_objects as go\n",
    "# import ipywidgets as widgets\n",
    "# from IPython.display import display\n",
    "\n",
    "# # Load datasets\n",
    "# crimes_df1 = pd.read_csv(\"DLOs_europe_1.csv\")\n",
    "# crimes_df2 = pd.read_csv(\"DLOs_europe_2.csv\")\n",
    "# inhabitants = pd.read_csv(\"Population_europe.csv\")\n",
    "\n",
    "# # Select relevant years\n",
    "# years = ['2022','2021','2020','2019','2018','2017','2016','2015','2014','2013','2012','2011','2010','2009','2008','2007']\n",
    "\n",
    "# # Function to compare and combine values from two dataframes\n",
    "# def compare_values(self_value, other_value):\n",
    "#     if pd.isna(self_value) and pd.isna(other_value):\n",
    "#         return np.nan\n",
    "#     elif pd.isna(self_value):\n",
    "#         return other_value\n",
    "#     elif pd.isna(other_value):\n",
    "#         return self_value\n",
    "#     elif self_value == other_value:\n",
    "#         return self_value\n",
    "#     else:\n",
    "#         return (self_value + other_value) / 2\n",
    "\n",
    "# # Create combined dataframe for crimes\n",
    "# combined_crimes = {'Country': crimes_df1['Country']}\n",
    "# for year in years:\n",
    "#     if year in crimes_df1.columns and year in crimes_df2.columns:\n",
    "#         combined_crimes[year] = crimes_df1.apply(\n",
    "#             lambda row: compare_values(\n",
    "#                 row[year],\n",
    "#                 crimes_df2.loc[crimes_df2['Country'] == row['Country'], year].values[0]\n",
    "#                 if row['Country'] in crimes_df2['Country'].values else np.nan\n",
    "#             ), axis=1\n",
    "#         )\n",
    "#     elif year in crimes_df1.columns:\n",
    "#         combined_crimes[year] = crimes_df1[year]\n",
    "#     elif year in crimes_df2.columns:\n",
    "#         combined_crimes[year] = crimes_df2[year]\n",
    "#     else:\n",
    "#         combined_crimes[year] = np.nan\n",
    "\n",
    "# crimes_combined_df = pd.DataFrame(combined_crimes)\n",
    "\n",
    "# # Function to calculate crimes per 1000 inhabitants\n",
    "# inhabitants_df = inhabitants[['Country Name'] + years].copy()\n",
    "# inhabitants_df.rename(columns={'Country Name': 'Country'}, inplace=True)\n",
    "\n",
    "# def calc_per_100_inhabitants(row, year):\n",
    "#     if pd.isna(row[f'{year}']):\n",
    "#         return np.nan\n",
    "#     else:\n",
    "#         return round(row[f'{year}'] / (inhabitants_df.at[row.name, f'{year}'] / 1000), 3)\n",
    "\n",
    "# per_inhabitants_df = crimes_combined_df.copy()\n",
    "# for year in years:\n",
    "#     if year in crimes_combined_df.columns and year in inhabitants_df.columns:\n",
    "#         per_inhabitants_df[year] = crimes_combined_df.apply(lambda row: calc_per_100_inhabitants(row, year), axis=1)\n",
    "\n",
    "# per_inhabitants_df.reset_index(drop=True, inplace=True)\n",
    "\n",
    "# # Dropdown widgets for country selection, year selection, scale selection, and data selection\n",
    "# country_dropdown = widgets.SelectMultiple(\n",
    "#     options=crimes_combined_df['Country'].unique().tolist(),\n",
    "#     value=['France', 'Spain'], \n",
    "#     description='Select countries (Portugal included):',\n",
    "#     disabled=False,\n",
    "# )\n",
    "\n",
    "# year_dropdown = widgets.SelectMultiple(\n",
    "#     options=years,\n",
    "#     value=['2021', '2017', '2012', '2007'],\n",
    "#     description='Select years:',\n",
    "#     disabled=False,\n",
    "# )\n",
    "\n",
    "# scale_dropdown = widgets.Dropdown(\n",
    "#     options=['linear', 'log'],\n",
    "#     value='log',\n",
    "#     description='Select Scale:',\n",
    "#     disabled=False,\n",
    "# )\n",
    "\n",
    "# data_dropdown = widgets.Dropdown(\n",
    "#     options=['total', 'per_inhabitants'],\n",
    "#     value='total',\n",
    "#     description='Select unit:',\n",
    "#     disabled=False,\n",
    "# )\n",
    "\n",
    "# # Create initial empty figure\n",
    "# fig = go.FigureWidget()\n",
    "\n",
    "# # Update function to handle widget changes\n",
    "# def update_graph(change):\n",
    "#     fig.data = []  # Clear existing traces\n",
    "    \n",
    "#     selected_countries = country_dropdown.value\n",
    "#     selected_years = year_dropdown.value\n",
    "#     selected_scale = scale_dropdown.value\n",
    "#     selected_data = data_dropdown.value\n",
    "\n",
    "#     selected_countries = list(selected_countries) + ['Portugal']\n",
    "\n",
    "#     # Choose the correct dataset based on the selected data type\n",
    "#     filtered_df = per_inhabitants_df if selected_data == 'per_inhabitants' else crimes_combined_df\n",
    "\n",
    "#     # Filter the dataframe based on the selected countries and years\n",
    "#     selected_countries_df = filtered_df[filtered_df['Country'].isin(selected_countries)].copy()\n",
    "#     final_df = selected_countries_df.melt(id_vars=['Country'], value_vars=selected_years, var_name='Year', value_name='Cases')\n",
    "    \n",
    "#     # Make sure Portugal is always the first country in the plots\n",
    "#     country_order = ['Portugal'] + sorted([c for c in selected_countries if c != 'Portugal'])\n",
    "\n",
    "#     # Loop through each country to create bar plots and track missing data\n",
    "#     for country in country_order:\n",
    "#         country_data = final_df[final_df['Country'] == country]\n",
    "#         fig.add_trace(go.Bar(\n",
    "#             x=country_data[pd.notna(country_data['Cases'])]['Year'],\n",
    "#             y=country_data[pd.notna(country_data['Cases'])]['Cases'],\n",
    "#             name=country\n",
    "#         ))\n",
    "\n",
    "#     fig.update_layout(\n",
    "#         paper_bgcolor='lightgrey',\n",
    "#         plot_bgcolor='white', \n",
    "#         font=dict(color='black'),  \n",
    "#         yaxis_type=selected_scale,\n",
    "#         title= f\"Amount of drug crimes per year for the selected years and countries ({selected_data})\",\n",
    "#         xaxis_title=\"Year\", \n",
    "#         yaxis_title=\"Number of Crimes\" if selected_data == 'total' else \"Crimes per 1000 Inhabitants\"\n",
    "#     )\n",
    "\n",
    "# # Register update function with widgets\n",
    "# country_dropdown.observe(update_graph, names='value')\n",
    "# year_dropdown.observe(update_graph, names='value')\n",
    "# scale_dropdown.observe(update_graph, names='value')\n",
    "# data_dropdown.observe(update_graph, names='value')\n",
    "\n",
    "# # Display the initial plot and widgets\n",
    "# update_graph(None)  # Initialize plot with default values\n",
    "# widgets.VBox([fig, country_dropdown, year_dropdown, scale_dropdown, data_dropdown])\n"
   ]
  },
  {
   "cell_type": "code",
   "execution_count": 61,
   "metadata": {
    "tags": [
     "hide-input"
    ]
   },
   "outputs": [
    {
     "data": {
      "image/png": "[encoded data removed]",
      "text/plain": [
       "<Figure size 1800x720 with 1 Axes>"
      ]
     },
     "metadata": {
      "needs_background": "light"
     },
     "output_type": "display_data"
    }
   ],
   "source": [
    "import pandas as pd\n",
    "import matplotlib.pyplot as plt\n",
    "\n",
    "# Read the CSV file\n",
    "df = pd.read_csv(\"9_Misdaden.csv\")\n",
    "\n",
    "# Filter for Europe\n",
    "europe_df = df[df['Region'] == 'Europe']\n",
    "\n",
    "# Group by Country/Territory and Year, and sum the Total crimes\n",
    "grouped_df = europe_df.groupby(['Country/Territory', 'Year']).agg({'Total': 'sum'}).reset_index()\n",
    "\n",
    "# Filter for Portugal\n",
    "portugal_df = grouped_df[grouped_df['Country/Territory'] == 'Portugal']\n",
    "\n",
    "# Calculate the mean for Europe (excluding Portugal)\n",
    "europe_mean_df = grouped_df[grouped_df['Country/Territory'] != 'Portugal'].groupby('Year').agg({'Total': 'mean'}).reset_index()\n",
    "europe_mean_df.rename(columns={'Total': 'Mean of Europe'}, inplace=True)\n",
    "\n",
    "# Merge Portugal data with Europe mean data\n",
    "merged_df = pd.merge(portugal_df, europe_mean_df, on='Year', how='left')\n",
    "\n",
    "# Plotting\n",
    "fig, ax = plt.subplots(figsize=(25, 10))\n",
    "\n",
    "\n",
    "# Remove axes spines (borders)\n",
    "for spine in ax.spines.values():\n",
    "    spine.set_visible(False)  # Hide all spines (borders)\n",
    "\n",
    "\n",
    "ax.plot(merged_df['Year'].values, merged_df['Total'].values, label='Portugal', marker='o', color='#66c2a5')  # Pastel green\n",
    "ax.plot(merged_df['Year'].values, merged_df['Mean of Europe'].values, label='Mean of Europe', marker='o', linestyle='--', color='#8da0cb')  # Pastel blue\n",
    "\n",
    "ax.set_xlabel('Year', fontsize=18)\n",
    "ax.set_ylabel('Total Drug-Related Crimes', fontsize=18)\n",
    "ax.set_title('Drug-Related Crimes in Portugal vs. Mean of Europe', fontsize=24)\n",
    "\n",
    "# Customize tick parameters\n",
    "plt.xticks(fontsize=16)\n",
    "plt.yticks(fontsize=16)\n",
    "\n",
    "\n",
    "# Set the legend\n",
    "ax.legend(fontsize=13)\n",
    "\n",
    "# Enable the grid\n",
    "ax.grid(True)\n",
    "\n",
    "# Show the plot\n",
    "plt.show()"
   ]
  },
  {
   "cell_type": "markdown",
   "metadata": {},
   "source": [
    "*Figure 2: Drug-Related crimes in Portugal vs. Mean of Europe, from 2014 until 2020*\n",
    "<br>\n",
    "*Data: United Nations Office on Drugs and Crime, World Drug Report 2022*"
   ]
  },
  {
   "cell_type": "markdown",
   "metadata": {},
   "source": [
    "### Decriminalization alleviates the burden on the criminal justice system and redirects resources to public health.\n",
    "Another argument for the decriminalization of drugs is that decriminalization alleviates the burden on the criminal justice system and redirects resources to public health. To understand how decriminalization impacts the criminal justice system, we used data from the Council of Europe SPACE project (Annual Reports 2001-2023) to visualize the percentage of prisoners convicted of drug-related crimes per year. This variable is crucial as the existing drug legislation could have a direct impact on this variable and the criminal justice system. "
   ]
  },
  {
   "cell_type": "code",
   "execution_count": 60,
   "metadata": {
    "tags": [
     "hide-input"
    ]
   },
   "outputs": [
    {
     "data": {
      "image/png": "[encoded data removed]",
      "text/plain": [
       "<Figure size 1800x720 with 1 Axes>"
      ]
     },
     "metadata": {
      "needs_background": "light"
     },
     "output_type": "display_data"
    }
   ],
   "source": [
    "import matplotlib.pyplot as plt\n",
    "from matplotlib.ticker import PercentFormatter\n",
    "import pandas as pd\n",
    "\n",
    "# Read the CSV file\n",
    "drug_offences_df = pd.read_csv('drug_offences.csv')\n",
    "\n",
    "# Interpolate missing values\n",
    "drug_offences_df = drug_offences_df.interpolate()\n",
    "\n",
    "# Plotting\n",
    "plt.figure(figsize=(25, 10))\n",
    "plt.plot(drug_offences_df['Year'].values, drug_offences_df['Percentage of prisoners sentenced for drug offences in Portugal'].values, label='Portugal', marker='o', color='#66c2a5')  # Pastel green\n",
    "plt.plot(drug_offences_df['Year'].values, drug_offences_df['Mean Europe'].values, label='Mean of Europe', marker='o', linestyle='--', color='#8da0cb')  # Pastel blue\n",
    "\n",
    "\n",
    "# Customize title and axis labels\n",
    "plt.title('Percentage of prisoners convicted for drug-related crimes', fontsize=24)\n",
    "plt.xlabel('Year', fontsize=18)\n",
    "plt.ylabel('Percentage', fontsize=18)\n",
    "\n",
    "# Customize tick parameters\n",
    "plt.xticks(fontsize=16)\n",
    "plt.yticks(fontsize=16)\n",
    "\n",
    "plt.gca().yaxis.set_major_formatter(PercentFormatter())\n",
    "plt.legend(fontsize=16)\n",
    "\n",
    "# Remove axis lines (spines)\n",
    "plt.gca().spines['top'].set_visible(False)\n",
    "plt.gca().spines['right'].set_visible(False)\n",
    "plt.gca().spines['bottom'].set_visible(False)\n",
    "plt.gca().spines['left'].set_visible(False)\n",
    "\n",
    "# Hide ticks\n",
    "plt.tick_params(axis='both', which='both', bottom=False, top=False, left=False, right=False)\n",
    "\n",
    "# Show the plot\n",
    "plt.grid(True)\n",
    "plt.show()"
   ]
  },
  {
   "cell_type": "markdown",
   "metadata": {},
   "source": [
    "*Figure 3: Percentage of prisoners convicted for drug-related crimes in Portugal vs. Mean of Europe, from 2001 until 2023*\n",
    "<br>\n",
    "*Data: Council of Europe SPACE project, Annual Reports 2001-2023*\n"
   ]
  },
  {
   "cell_type": "markdown",
   "metadata": {},
   "source": [
    "In 2001, the year the new drug decriminalization legislation came into effect, more than 40% of the Portuguese prisoners were incarcerated for drug-related crimes, which is considerably above the European mean. The data visualization shows that whilst the European mean has gradually risen from 17 to 19% over the years, there is a substantial decline in the percentage of prisoners convicted of drug-related crimes in Portugal after decriminalization in 2001. ‘In the 1990s, drug-related offenses accounted for a significant portion of the prison population. After 2001, these figures dropped sharply, illustrating that decriminalization effectively reduces the burden on the criminal justice system, allowing resources to be reallocated towards public health initiatives and support services for individuals with substance use disorders."
   ]
  },
  {
   "cell_type": "markdown",
   "metadata": {},
   "source": [
    "## Second Perspective - Drugs should not be decriminalized because of the potential for increased addiction and health issues\n",
    "### Increased deathrates "
   ]
  },
  {
   "cell_type": "code",
   "execution_count": 59,
   "metadata": {
    "tags": [
     "hide-input"
    ]
   },
   "outputs": [
    {
     "data": {
      "image/png": "[encoded data removed]",
      "text/plain": [
       "<Figure size 1440x720 with 1 Axes>"
      ]
     },
     "metadata": {
      "needs_background": "light"
     },
     "output_type": "display_data"
    }
   ],
   "source": [
    "import pandas as pd\n",
    "import matplotlib.pyplot as plt\n",
    "import seaborn as sns\n",
    "\n",
    "# Load the data\n",
    "statesdata = pd.read_csv(\"statesdata.csv\")\n",
    "statesdata = statesdata[[\"YEAR\", \"STATE\", \"RATE\"]]\n",
    "\n",
    "# Filter the data for the desired states\n",
    "desired_states = ['OR', 'CO', 'GA', 'KS', 'MN', 'MT', 'WA']\n",
    "statesdata = statesdata[statesdata['STATE'].isin(desired_states)]\n",
    "\n",
    "# Set the figure size to make the plot larger\n",
    "plt.figure(figsize=(20, 10))\n",
    "\n",
    "# Plot all states\n",
    "sns.lineplot(data=statesdata, x='YEAR', y='RATE', hue='STATE', palette='tab10', marker='o', linewidth=2)\n",
    "\n",
    "# Highlight Oregon with a distinct color and larger line width\n",
    "sns.lineplot(data=statesdata[statesdata['STATE'] == 'OR'], x='YEAR', y='RATE', color='black', marker='o', linewidth=4, label='Oregon')\n",
    "\n",
    "# Add a vertical line for the year 2021\n",
    "plt.axvline(x=2021, color='red', linestyle='--', label='2021')\n",
    "\n",
    "# Customize the title and axis labels\n",
    "plt.title('Deathrate over the years per state', fontsize=24)\n",
    "plt.xlabel('Year', fontsize=18)\n",
    "plt.ylabel('Death rate', fontsize=18)\n",
    "\n",
    "# Customize the tick parameters\n",
    "plt.xticks(fontsize=14)\n",
    "plt.yticks(fontsize=14)\n",
    "\n",
    "# Customize the legend\n",
    "plt.legend(fontsize=14, bbox_to_anchor=(1, 1))\n",
    "\n",
    "# Add a grid for better readability\n",
    "plt.grid(True)\n",
    "\n",
    "# Show the plot\n",
    "plt.show()\n"
   ]
  },
  {
   "cell_type": "markdown",
   "metadata": {},
   "source": [
    "*Figure 4: Deathrate of drug overdose mortality for the states Colorado, Georgia, Kansas, Minnesota, Montana, Oregon and Washington*\n",
    "<br>\n",
    "*Data: MOET NOG!!! Linde, welke data was dit?*"
   ]
  },
  {
   "cell_type": "code",
   "execution_count": 19,
   "metadata": {
    "tags": [
     "hide-input"
    ]
   },
   "outputs": [
    {
     "data": {
      "application/vnd.plotly.v1+json": {
       "config": {
        "plotlyServerURL": "https://plot.ly"
       },
       "data": [
        {
         "colorscale": [
          [
           0,
           "#30123b"
          ],
          [
           0.07142857142857142,
           "#4145ab"
          ],
          [
           0.14285714285714285,
           "#4675ed"
          ],
          [
           0.21428571428571427,
           "#39a2fc"
          ],
          [
           0.2857142857142857,
           "#1bcfd4"
          ],
          [
           0.35714285714285715,
           "#24eca6"
          ],
          [
           0.42857142857142855,
           "#61fc6c"
          ],
          [
           0.5,
           "#a4fc3b"
          ],
          [
           0.5714285714285714,
           "#d1e834"
          ],
          [
           0.6428571428571429,
           "#f3c63a"
          ],
          [
           0.7142857142857143,
           "#fe9b2d"
          ],
          [
           0.7857142857142857,
           "#f36315"
          ],
          [
           0.8571428571428571,
           "#d93806"
          ],
          [
           0.9285714285714286,
           "#b11901"
          ],
          [
           1,
           "#7a0402"
          ]
         ],
         "hoverinfo": "location+z+text",
         "hovertext": [
          "AL",
          "AK",
          "AZ",
          "AR",
          "CA",
          "CO",
          "CT",
          "DE",
          "FL",
          "GA",
          "HI",
          "ID",
          "IL",
          "IN",
          "IA",
          "KS",
          "KY",
          "LA",
          "ME",
          "MD",
          "MA",
          "MI",
          "MN",
          "MS",
          "MO",
          "MT",
          "NE",
          "NV",
          "NH",
          "NJ",
          "NM",
          "NY",
          "NC",
          "ND",
          "OH",
          "OK",
          "OR",
          "PA",
          "RI",
          "SC",
          "SD",
          "TN",
          "TX",
          "UT",
          "VT",
          "VA",
          "WA",
          "WV",
          "WI",
          "WY"
         ],
         "locationmode": "USA-states",
         "locations": [
          "AL",
          "AK",
          "AZ",
          "AR",
          "CA",
          "CO",
          "CT",
          "DE",
          "FL",
          "GA",
          "HI",
          "ID",
          "IL",
          "IN",
          "IA",
          "KS",
          "KY",
          "LA",
          "ME",
          "MD",
          "MA",
          "MI",
          "MN",
          "MS",
          "MO",
          "MT",
          "NE",
          "NV",
          "NH",
          "NJ",
          "NM",
          "NY",
          "NC",
          "ND",
          "OH",
          "OK",
          "OR",
          "PA",
          "RI",
          "SC",
          "SD",
          "TN",
          "TX",
          "UT",
          "VT",
          "VA",
          "WA",
          "WV",
          "WI",
          "WY"
         ],
         "name": "1999",
         "type": "choropleth",
         "visible": true,
         "z": [
          3.9,
          7.5,
          10.6,
          4.4,
          8.1,
          8,
          9,
          6.4,
          6.4,
          3.5,
          6.5,
          5.3,
          6.7,
          3.2,
          1.9,
          3.4,
          4.9,
          4.3,
          5.3,
          11.4,
          7.5,
          4.6,
          2.8,
          3.2,
          5,
          4.6,
          2.3,
          11.5,
          4.3,
          6.5,
          15,
          5,
          4.6,
          0,
          4.2,
          5.4,
          6.1,
          8.1,
          5.5,
          3.7,
          0,
          6.1,
          5.4,
          10.6,
          4.7,
          5,
          9.3,
          4.1,
          4,
          4.1
         ],
         "zmax": 90.9,
         "zmin": 0
        },
        {
         "colorscale": [
          [
           0,
           "#30123b"
          ],
          [
           0.07142857142857142,
           "#4145ab"
          ],
          [
           0.14285714285714285,
           "#4675ed"
          ],
          [
           0.21428571428571427,
           "#39a2fc"
          ],
          [
           0.2857142857142857,
           "#1bcfd4"
          ],
          [
           0.35714285714285715,
           "#24eca6"
          ],
          [
           0.42857142857142855,
           "#61fc6c"
          ],
          [
           0.5,
           "#a4fc3b"
          ],
          [
           0.5714285714285714,
           "#d1e834"
          ],
          [
           0.6428571428571429,
           "#f3c63a"
          ],
          [
           0.7142857142857143,
           "#fe9b2d"
          ],
          [
           0.7857142857142857,
           "#f36315"
          ],
          [
           0.8571428571428571,
           "#d93806"
          ],
          [
           0.9285714285714286,
           "#b11901"
          ],
          [
           1,
           "#7a0402"
          ]
         ],
         "hoverinfo": "location+z+text",
         "hovertext": [
          "AL",
          "AK",
          "AZ",
          "AR",
          "CA",
          "CO",
          "CT",
          "DE",
          "FL",
          "GA",
          "HI",
          "ID",
          "IL",
          "IN",
          "IA",
          "KS",
          "KY",
          "LA",
          "ME",
          "MD",
          "MA",
          "MI",
          "MN",
          "MS",
          "MO",
          "MT",
          "NE",
          "NV",
          "NH",
          "NJ",
          "NM",
          "NY",
          "NC",
          "ND",
          "OH",
          "OK",
          "OR",
          "PA",
          "RI",
          "SC",
          "SD",
          "TN",
          "TX",
          "UT",
          "VT",
          "VA",
          "WA",
          "WV",
          "WI",
          "WY"
         ],
         "locationmode": "USA-states",
         "locations": [
          "AL",
          "AK",
          "AZ",
          "AR",
          "CA",
          "CO",
          "CT",
          "DE",
          "FL",
          "GA",
          "HI",
          "ID",
          "IL",
          "IN",
          "IA",
          "KS",
          "KY",
          "LA",
          "ME",
          "MD",
          "MA",
          "MI",
          "MN",
          "MS",
          "MO",
          "MT",
          "NE",
          "NV",
          "NH",
          "NJ",
          "NM",
          "NY",
          "NC",
          "ND",
          "OH",
          "OK",
          "OR",
          "PA",
          "RI",
          "SC",
          "SD",
          "TN",
          "TX",
          "UT",
          "VT",
          "VA",
          "WA",
          "WV",
          "WI",
          "WY"
         ],
         "name": "2005",
         "type": "choropleth",
         "visible": false,
         "z": [
          6.3,
          11.4,
          14.1,
          10.1,
          9,
          12.7,
          8.5,
          7.5,
          13.5,
          8.2,
          9.4,
          8.1,
          8.4,
          9.8,
          4.8,
          9.1,
          15.3,
          14.7,
          12.4,
          11.4,
          12,
          9.8,
          5.4,
          8.8,
          10.7,
          10.1,
          5,
          18.7,
          10.7,
          9.4,
          20.1,
          4.8,
          11.4,
          0,
          10.9,
          13.8,
          10.4,
          13.2,
          14.3,
          9.9,
          5.5,
          14.5,
          8.5,
          19.3,
          8.5,
          7.5,
          13,
          10.5,
          9.3,
          4.9
         ],
         "zmax": 90.9,
         "zmin": 0
        },
        {
         "colorscale": [
          [
           0,
           "#30123b"
          ],
          [
           0.07142857142857142,
           "#4145ab"
          ],
          [
           0.14285714285714285,
           "#4675ed"
          ],
          [
           0.21428571428571427,
           "#39a2fc"
          ],
          [
           0.2857142857142857,
           "#1bcfd4"
          ],
          [
           0.35714285714285715,
           "#24eca6"
          ],
          [
           0.42857142857142855,
           "#61fc6c"
          ],
          [
           0.5,
           "#a4fc3b"
          ],
          [
           0.5714285714285714,
           "#d1e834"
          ],
          [
           0.6428571428571429,
           "#f3c63a"
          ],
          [
           0.7142857142857143,
           "#fe9b2d"
          ],
          [
           0.7857142857142857,
           "#f36315"
          ],
          [
           0.8571428571428571,
           "#d93806"
          ],
          [
           0.9285714285714286,
           "#b11901"
          ],
          [
           1,
           "#7a0402"
          ]
         ],
         "hoverinfo": "location+z+text",
         "hovertext": [
          "AL",
          "AK",
          "AZ",
          "AR",
          "CA",
          "CO",
          "CT",
          "DE",
          "FL",
          "GA",
          "HI",
          "ID",
          "IL",
          "IN",
          "IA",
          "KS",
          "KY",
          "LA",
          "ME",
          "MD",
          "MA",
          "MI",
          "MN",
          "MS",
          "MO",
          "MT",
          "NE",
          "NV",
          "NH",
          "NJ",
          "NM",
          "NY",
          "NC",
          "ND",
          "OH",
          "OK",
          "OR",
          "PA",
          "RI",
          "SC",
          "SD",
          "TN",
          "TX",
          "UT",
          "VT",
          "VA",
          "WA",
          "WV",
          "WI",
          "WY"
         ],
         "locationmode": "USA-states",
         "locations": [
          "AL",
          "AK",
          "AZ",
          "AR",
          "CA",
          "CO",
          "CT",
          "DE",
          "FL",
          "GA",
          "HI",
          "ID",
          "IL",
          "IN",
          "IA",
          "KS",
          "KY",
          "LA",
          "ME",
          "MD",
          "MA",
          "MI",
          "MN",
          "MS",
          "MO",
          "MT",
          "NE",
          "NV",
          "NH",
          "NJ",
          "NM",
          "NY",
          "NC",
          "ND",
          "OH",
          "OK",
          "OR",
          "PA",
          "RI",
          "SC",
          "SD",
          "TN",
          "TX",
          "UT",
          "VT",
          "VA",
          "WA",
          "WV",
          "WI",
          "WY"
         ],
         "name": "2014",
         "type": "choropleth",
         "visible": false,
         "z": [
          15.2,
          16.8,
          12.6,
          18.2,
          11.1,
          16.3,
          17.6,
          20.9,
          13.2,
          11.9,
          10.9,
          13.7,
          13.1,
          18.2,
          8.8,
          11.7,
          24.7,
          16.9,
          16.8,
          17.4,
          19,
          18,
          9.6,
          11.6,
          18.2,
          12.4,
          7.2,
          18.4,
          26.2,
          14,
          27.3,
          11.3,
          13.8,
          6.3,
          24.6,
          20.3,
          12.8,
          21.9,
          23.4,
          14.4,
          7.8,
          19.5,
          9.7,
          22.4,
          13.9,
          11.7,
          13.3,
          35.5,
          15.1,
          19.4
         ],
         "zmax": 90.9,
         "zmin": 0
        },
        {
         "colorscale": [
          [
           0,
           "#30123b"
          ],
          [
           0.07142857142857142,
           "#4145ab"
          ],
          [
           0.14285714285714285,
           "#4675ed"
          ],
          [
           0.21428571428571427,
           "#39a2fc"
          ],
          [
           0.2857142857142857,
           "#1bcfd4"
          ],
          [
           0.35714285714285715,
           "#24eca6"
          ],
          [
           0.42857142857142855,
           "#61fc6c"
          ],
          [
           0.5,
           "#a4fc3b"
          ],
          [
           0.5714285714285714,
           "#d1e834"
          ],
          [
           0.6428571428571429,
           "#f3c63a"
          ],
          [
           0.7142857142857143,
           "#fe9b2d"
          ],
          [
           0.7857142857142857,
           "#f36315"
          ],
          [
           0.8571428571428571,
           "#d93806"
          ],
          [
           0.9285714285714286,
           "#b11901"
          ],
          [
           1,
           "#7a0402"
          ]
         ],
         "hoverinfo": "location+z+text",
         "hovertext": [
          "AL",
          "AK",
          "AZ",
          "AR",
          "CA",
          "CO",
          "CT",
          "DE",
          "FL",
          "GA",
          "HI",
          "ID",
          "IL",
          "IN",
          "IA",
          "KS",
          "KY",
          "LA",
          "ME",
          "MD",
          "MA",
          "MI",
          "MN",
          "MS",
          "MO",
          "MT",
          "NE",
          "NV",
          "NH",
          "NJ",
          "NM",
          "NY",
          "NC",
          "ND",
          "OH",
          "OK",
          "OR",
          "PA",
          "RI",
          "SC",
          "SD",
          "TN",
          "TX",
          "UT",
          "VT",
          "VA",
          "WA",
          "WV",
          "WI",
          "WY"
         ],
         "locationmode": "USA-states",
         "locations": [
          "AL",
          "AK",
          "AZ",
          "AR",
          "CA",
          "CO",
          "CT",
          "DE",
          "FL",
          "GA",
          "HI",
          "ID",
          "IL",
          "IN",
          "IA",
          "KS",
          "KY",
          "LA",
          "ME",
          "MD",
          "MA",
          "MI",
          "MN",
          "MS",
          "MO",
          "MT",
          "NE",
          "NV",
          "NH",
          "NJ",
          "NM",
          "NY",
          "NC",
          "ND",
          "OH",
          "OK",
          "OR",
          "PA",
          "RI",
          "SC",
          "SD",
          "TN",
          "TX",
          "UT",
          "VT",
          "VA",
          "WA",
          "WV",
          "WI",
          "WY"
         ],
         "name": "2015",
         "type": "choropleth",
         "visible": false,
         "z": [
          15.7,
          16,
          19,
          13.8,
          11.3,
          15.4,
          22.1,
          22,
          16.2,
          12.7,
          11.3,
          14.2,
          14.1,
          19.5,
          10.3,
          11.8,
          29.9,
          19,
          21.2,
          20.9,
          25.7,
          20.4,
          10.6,
          12.3,
          17.9,
          13.8,
          6.9,
          20.4,
          34.3,
          16.3,
          25.3,
          13.6,
          15.8,
          8.6,
          29.9,
          19,
          12,
          26.3,
          28.2,
          15.7,
          8.4,
          22.2,
          9.4,
          23.4,
          16.7,
          12.4,
          14.7,
          41.5,
          15.5,
          16.4
         ],
         "zmax": 90.9,
         "zmin": 0
        },
        {
         "colorscale": [
          [
           0,
           "#30123b"
          ],
          [
           0.07142857142857142,
           "#4145ab"
          ],
          [
           0.14285714285714285,
           "#4675ed"
          ],
          [
           0.21428571428571427,
           "#39a2fc"
          ],
          [
           0.2857142857142857,
           "#1bcfd4"
          ],
          [
           0.35714285714285715,
           "#24eca6"
          ],
          [
           0.42857142857142855,
           "#61fc6c"
          ],
          [
           0.5,
           "#a4fc3b"
          ],
          [
           0.5714285714285714,
           "#d1e834"
          ],
          [
           0.6428571428571429,
           "#f3c63a"
          ],
          [
           0.7142857142857143,
           "#fe9b2d"
          ],
          [
           0.7857142857142857,
           "#f36315"
          ],
          [
           0.8571428571428571,
           "#d93806"
          ],
          [
           0.9285714285714286,
           "#b11901"
          ],
          [
           1,
           "#7a0402"
          ]
         ],
         "hoverinfo": "location+z+text",
         "hovertext": [
          "AL",
          "AK",
          "AZ",
          "AR",
          "CA",
          "CO",
          "CT",
          "DE",
          "FL",
          "GA",
          "HI",
          "ID",
          "IL",
          "IN",
          "IA",
          "KS",
          "KY",
          "LA",
          "ME",
          "MD",
          "MA",
          "MI",
          "MN",
          "MS",
          "MO",
          "MT",
          "NE",
          "NV",
          "NH",
          "NJ",
          "NM",
          "NY",
          "NC",
          "ND",
          "OH",
          "OK",
          "OR",
          "PA",
          "RI",
          "SC",
          "SD",
          "TN",
          "TX",
          "UT",
          "VT",
          "VA",
          "WA",
          "WV",
          "WI",
          "WY"
         ],
         "locationmode": "USA-states",
         "locations": [
          "AL",
          "AK",
          "AZ",
          "AR",
          "CA",
          "CO",
          "CT",
          "DE",
          "FL",
          "GA",
          "HI",
          "ID",
          "IL",
          "IN",
          "IA",
          "KS",
          "KY",
          "LA",
          "ME",
          "MD",
          "MA",
          "MI",
          "MN",
          "MS",
          "MO",
          "MT",
          "NE",
          "NV",
          "NH",
          "NJ",
          "NM",
          "NY",
          "NC",
          "ND",
          "OH",
          "OK",
          "OR",
          "PA",
          "RI",
          "SC",
          "SD",
          "TN",
          "TX",
          "UT",
          "VT",
          "VA",
          "WA",
          "WV",
          "WI",
          "WY"
         ],
         "name": "2016",
         "type": "choropleth",
         "visible": false,
         "z": [
          16.2,
          16.8,
          20.3,
          14,
          11.2,
          16.6,
          27.4,
          30.8,
          23.7,
          13.3,
          12.8,
          15.2,
          18.9,
          24,
          10.6,
          11.1,
          33.5,
          21.8,
          28.7,
          33.2,
          33,
          24.4,
          12.5,
          12.1,
          23.6,
          11.7,
          6.4,
          21.7,
          39,
          23.2,
          25.2,
          18,
          19.7,
          10.6,
          39.1,
          21.5,
          11.9,
          37.9,
          30.8,
          18.1,
          8.4,
          24.5,
          10.1,
          22.4,
          22.2,
          16.7,
          14.5,
          52,
          19.3,
          17.6
         ],
         "zmax": 90.9,
         "zmin": 0
        },
        {
         "colorscale": [
          [
           0,
           "#30123b"
          ],
          [
           0.07142857142857142,
           "#4145ab"
          ],
          [
           0.14285714285714285,
           "#4675ed"
          ],
          [
           0.21428571428571427,
           "#39a2fc"
          ],
          [
           0.2857142857142857,
           "#1bcfd4"
          ],
          [
           0.35714285714285715,
           "#24eca6"
          ],
          [
           0.42857142857142855,
           "#61fc6c"
          ],
          [
           0.5,
           "#a4fc3b"
          ],
          [
           0.5714285714285714,
           "#d1e834"
          ],
          [
           0.6428571428571429,
           "#f3c63a"
          ],
          [
           0.7142857142857143,
           "#fe9b2d"
          ],
          [
           0.7857142857142857,
           "#f36315"
          ],
          [
           0.8571428571428571,
           "#d93806"
          ],
          [
           0.9285714285714286,
           "#b11901"
          ],
          [
           1,
           "#7a0402"
          ]
         ],
         "hoverinfo": "location+z+text",
         "hovertext": [
          "AL",
          "AK",
          "AZ",
          "AR",
          "CA",
          "CO",
          "CT",
          "DE",
          "FL",
          "GA",
          "HI",
          "ID",
          "IL",
          "IN",
          "IA",
          "KS",
          "KY",
          "LA",
          "ME",
          "MD",
          "MA",
          "MI",
          "MN",
          "MS",
          "MO",
          "MT",
          "NE",
          "NV",
          "NH",
          "NJ",
          "NM",
          "NY",
          "NC",
          "ND",
          "OH",
          "OK",
          "OR",
          "PA",
          "RI",
          "SC",
          "SD",
          "TN",
          "TX",
          "UT",
          "VT",
          "VA",
          "WA",
          "WV",
          "WI",
          "WY"
         ],
         "locationmode": "USA-states",
         "locations": [
          "AL",
          "AK",
          "AZ",
          "AR",
          "CA",
          "CO",
          "CT",
          "DE",
          "FL",
          "GA",
          "HI",
          "ID",
          "IL",
          "IN",
          "IA",
          "KS",
          "KY",
          "LA",
          "ME",
          "MD",
          "MA",
          "MI",
          "MN",
          "MS",
          "MO",
          "MT",
          "NE",
          "NV",
          "NH",
          "NJ",
          "NM",
          "NY",
          "NC",
          "ND",
          "OH",
          "OK",
          "OR",
          "PA",
          "RI",
          "SC",
          "SD",
          "TN",
          "TX",
          "UT",
          "VT",
          "VA",
          "WA",
          "WV",
          "WI",
          "WY"
         ],
         "name": "2017",
         "type": "choropleth",
         "visible": false,
         "z": [
          18,
          20.2,
          22.2,
          15.5,
          11.7,
          17.6,
          30.9,
          37,
          25.1,
          14.7,
          13.8,
          14.4,
          21.6,
          29.4,
          11.5,
          11.8,
          37.2,
          24.5,
          34.4,
          36.3,
          31.8,
          27.8,
          13.3,
          12.2,
          23.4,
          11.7,
          8.1,
          21.6,
          37,
          30,
          24.8,
          19.4,
          24.1,
          9.2,
          46.3,
          20.1,
          12.4,
          44.3,
          31,
          20.5,
          8.5,
          26.6,
          10.5,
          22.3,
          23.2,
          17.9,
          15.2,
          57.8,
          21.2,
          12.2
         ],
         "zmax": 90.9,
         "zmin": 0
        },
        {
         "colorscale": [
          [
           0,
           "#30123b"
          ],
          [
           0.07142857142857142,
           "#4145ab"
          ],
          [
           0.14285714285714285,
           "#4675ed"
          ],
          [
           0.21428571428571427,
           "#39a2fc"
          ],
          [
           0.2857142857142857,
           "#1bcfd4"
          ],
          [
           0.35714285714285715,
           "#24eca6"
          ],
          [
           0.42857142857142855,
           "#61fc6c"
          ],
          [
           0.5,
           "#a4fc3b"
          ],
          [
           0.5714285714285714,
           "#d1e834"
          ],
          [
           0.6428571428571429,
           "#f3c63a"
          ],
          [
           0.7142857142857143,
           "#fe9b2d"
          ],
          [
           0.7857142857142857,
           "#f36315"
          ],
          [
           0.8571428571428571,
           "#d93806"
          ],
          [
           0.9285714285714286,
           "#b11901"
          ],
          [
           1,
           "#7a0402"
          ]
         ],
         "hoverinfo": "location+z+text",
         "hovertext": [
          "AL",
          "AK",
          "AZ",
          "AR",
          "CA",
          "CO",
          "CT",
          "DE",
          "FL",
          "GA",
          "HI",
          "ID",
          "IL",
          "IN",
          "IA",
          "KS",
          "KY",
          "LA",
          "ME",
          "MD",
          "MA",
          "MI",
          "MN",
          "MS",
          "MO",
          "MT",
          "NE",
          "NV",
          "NH",
          "NJ",
          "NM",
          "NY",
          "NC",
          "ND",
          "OH",
          "OK",
          "OR",
          "PA",
          "RI",
          "SC",
          "SD",
          "TN",
          "TX",
          "UT",
          "VT",
          "VA",
          "WA",
          "WV",
          "WI",
          "WY"
         ],
         "locationmode": "USA-states",
         "locations": [
          "AL",
          "AK",
          "AZ",
          "AR",
          "CA",
          "CO",
          "CT",
          "DE",
          "FL",
          "GA",
          "HI",
          "ID",
          "IL",
          "IN",
          "IA",
          "KS",
          "KY",
          "LA",
          "ME",
          "MD",
          "MA",
          "MI",
          "MN",
          "MS",
          "MO",
          "MT",
          "NE",
          "NV",
          "NH",
          "NJ",
          "NM",
          "NY",
          "NC",
          "ND",
          "OH",
          "OK",
          "OR",
          "PA",
          "RI",
          "SC",
          "SD",
          "TN",
          "TX",
          "UT",
          "VT",
          "VA",
          "WA",
          "WV",
          "WI",
          "WY"
         ],
         "name": "2018",
         "type": "choropleth",
         "visible": false,
         "z": [
          16.6,
          14.6,
          23.8,
          15.7,
          12.8,
          16.8,
          30.7,
          43.8,
          22.8,
          13.2,
          14.3,
          14.6,
          21.3,
          25.6,
          9.6,
          12.4,
          30.9,
          25.4,
          27.9,
          37.2,
          32.8,
          26.6,
          11.5,
          10.8,
          27.5,
          12.2,
          7.4,
          21.2,
          35.8,
          33.1,
          26.7,
          18.4,
          22.4,
          10.2,
          35.9,
          18.4,
          12.6,
          36.1,
          30.1,
          22.6,
          6.9,
          27.5,
          10.4,
          21.2,
          26.6,
          17.1,
          14.8,
          51.5,
          19.2,
          11.1
         ],
         "zmax": 90.9,
         "zmin": 0
        },
        {
         "colorscale": [
          [
           0,
           "#30123b"
          ],
          [
           0.07142857142857142,
           "#4145ab"
          ],
          [
           0.14285714285714285,
           "#4675ed"
          ],
          [
           0.21428571428571427,
           "#39a2fc"
          ],
          [
           0.2857142857142857,
           "#1bcfd4"
          ],
          [
           0.35714285714285715,
           "#24eca6"
          ],
          [
           0.42857142857142855,
           "#61fc6c"
          ],
          [
           0.5,
           "#a4fc3b"
          ],
          [
           0.5714285714285714,
           "#d1e834"
          ],
          [
           0.6428571428571429,
           "#f3c63a"
          ],
          [
           0.7142857142857143,
           "#fe9b2d"
          ],
          [
           0.7857142857142857,
           "#f36315"
          ],
          [
           0.8571428571428571,
           "#d93806"
          ],
          [
           0.9285714285714286,
           "#b11901"
          ],
          [
           1,
           "#7a0402"
          ]
         ],
         "hoverinfo": "location+z+text",
         "hovertext": [
          "AL",
          "AK",
          "AZ",
          "AR",
          "CA",
          "CO",
          "CT",
          "DE",
          "FL",
          "GA",
          "HI",
          "ID",
          "IL",
          "IN",
          "IA",
          "KS",
          "KY",
          "LA",
          "ME",
          "MD",
          "MA",
          "MI",
          "MN",
          "MS",
          "MO",
          "MT",
          "NE",
          "NV",
          "NH",
          "NJ",
          "NM",
          "NY",
          "NC",
          "ND",
          "OH",
          "OK",
          "OR",
          "PA",
          "RI",
          "SC",
          "SD",
          "TN",
          "TX",
          "UT",
          "VT",
          "VA",
          "WA",
          "WV",
          "WI",
          "WY"
         ],
         "locationmode": "USA-states",
         "locations": [
          "AL",
          "AK",
          "AZ",
          "AR",
          "CA",
          "CO",
          "CT",
          "DE",
          "FL",
          "GA",
          "HI",
          "ID",
          "IL",
          "IN",
          "IA",
          "KS",
          "KY",
          "LA",
          "ME",
          "MD",
          "MA",
          "MI",
          "MN",
          "MS",
          "MO",
          "MT",
          "NE",
          "NV",
          "NH",
          "NJ",
          "NM",
          "NY",
          "NC",
          "ND",
          "OH",
          "OK",
          "OR",
          "PA",
          "RI",
          "SC",
          "SD",
          "TN",
          "TX",
          "UT",
          "VT",
          "VA",
          "WA",
          "WV",
          "WI",
          "WY"
         ],
         "name": "2019",
         "type": "choropleth",
         "visible": false,
         "z": [
          16.3,
          17.8,
          26.8,
          13.5,
          15,
          18,
          34.7,
          48,
          25.5,
          13.1,
          15.9,
          15.1,
          21.9,
          26.6,
          11.5,
          14.3,
          32.5,
          28.3,
          29.9,
          38.2,
          32.1,
          24.4,
          14.2,
          13.6,
          26.9,
          14.1,
          8.7,
          20.1,
          32,
          31.7,
          30.2,
          18.2,
          22.3,
          11.4,
          38.3,
          16.7,
          14,
          35.6,
          29.5,
          22.7,
          10.5,
          31.2,
          10.8,
          18.9,
          23.8,
          18.3,
          15.8,
          52.8,
          21.1,
          14.1
         ],
         "zmax": 90.9,
         "zmin": 0
        },
        {
         "colorscale": [
          [
           0,
           "#30123b"
          ],
          [
           0.07142857142857142,
           "#4145ab"
          ],
          [
           0.14285714285714285,
           "#4675ed"
          ],
          [
           0.21428571428571427,
           "#39a2fc"
          ],
          [
           0.2857142857142857,
           "#1bcfd4"
          ],
          [
           0.35714285714285715,
           "#24eca6"
          ],
          [
           0.42857142857142855,
           "#61fc6c"
          ],
          [
           0.5,
           "#a4fc3b"
          ],
          [
           0.5714285714285714,
           "#d1e834"
          ],
          [
           0.6428571428571429,
           "#f3c63a"
          ],
          [
           0.7142857142857143,
           "#fe9b2d"
          ],
          [
           0.7857142857142857,
           "#f36315"
          ],
          [
           0.8571428571428571,
           "#d93806"
          ],
          [
           0.9285714285714286,
           "#b11901"
          ],
          [
           1,
           "#7a0402"
          ]
         ],
         "hoverinfo": "location+z+text",
         "hovertext": [
          "AL",
          "AK",
          "AZ",
          "AR",
          "CA",
          "CO",
          "CT",
          "DE",
          "FL",
          "GA",
          "HI",
          "ID",
          "IL",
          "IN",
          "IA",
          "KS",
          "KY",
          "LA",
          "ME",
          "MD",
          "MA",
          "MI",
          "MN",
          "MS",
          "MO",
          "MT",
          "NE",
          "NV",
          "NH",
          "NJ",
          "NM",
          "NY",
          "NC",
          "ND",
          "OH",
          "OK",
          "OR",
          "PA",
          "RI",
          "SC",
          "SD",
          "TN",
          "TX",
          "UT",
          "VT",
          "VA",
          "WA",
          "WV",
          "WI",
          "WY"
         ],
         "locationmode": "USA-states",
         "locations": [
          "AL",
          "AK",
          "AZ",
          "AR",
          "CA",
          "CO",
          "CT",
          "DE",
          "FL",
          "GA",
          "HI",
          "ID",
          "IL",
          "IN",
          "IA",
          "KS",
          "KY",
          "LA",
          "ME",
          "MD",
          "MA",
          "MI",
          "MN",
          "MS",
          "MO",
          "MT",
          "NE",
          "NV",
          "NH",
          "NJ",
          "NM",
          "NY",
          "NC",
          "ND",
          "OH",
          "OK",
          "OR",
          "PA",
          "RI",
          "SC",
          "SD",
          "TN",
          "TX",
          "UT",
          "VT",
          "VA",
          "WA",
          "WV",
          "WI",
          "WY"
         ],
         "name": "2020",
         "type": "choropleth",
         "visible": false,
         "z": [
          22.3,
          22,
          35.8,
          19.1,
          21.8,
          24.9,
          39.1,
          47.3,
          35,
          18,
          18.3,
          15.9,
          28.1,
          36.7,
          14.3,
          17.4,
          49.2,
          42.7,
          39.7,
          44.6,
          33.9,
          28.6,
          19,
          21.1,
          32.1,
          15.6,
          11.3,
          26,
          30.3,
          32.1,
          39,
          25.4,
          30.9,
          15.6,
          47.2,
          19.4,
          18.7,
          42.4,
          38.2,
          34.9,
          10.3,
          45.6,
          14.1,
          20.5,
          32.9,
          26.6,
          22,
          81.4,
          27.7,
          17.4
         ],
         "zmax": 90.9,
         "zmin": 0
        },
        {
         "colorscale": [
          [
           0,
           "#30123b"
          ],
          [
           0.07142857142857142,
           "#4145ab"
          ],
          [
           0.14285714285714285,
           "#4675ed"
          ],
          [
           0.21428571428571427,
           "#39a2fc"
          ],
          [
           0.2857142857142857,
           "#1bcfd4"
          ],
          [
           0.35714285714285715,
           "#24eca6"
          ],
          [
           0.42857142857142855,
           "#61fc6c"
          ],
          [
           0.5,
           "#a4fc3b"
          ],
          [
           0.5714285714285714,
           "#d1e834"
          ],
          [
           0.6428571428571429,
           "#f3c63a"
          ],
          [
           0.7142857142857143,
           "#fe9b2d"
          ],
          [
           0.7857142857142857,
           "#f36315"
          ],
          [
           0.8571428571428571,
           "#d93806"
          ],
          [
           0.9285714285714286,
           "#b11901"
          ],
          [
           1,
           "#7a0402"
          ]
         ],
         "hoverinfo": "location+z+text",
         "hovertext": [
          "AL",
          "AK",
          "AZ",
          "AR",
          "CA",
          "CO",
          "CT",
          "DE",
          "FL",
          "GA",
          "HI",
          "ID",
          "IL",
          "IN",
          "IA",
          "KS",
          "KY",
          "LA",
          "ME",
          "MD",
          "MA",
          "MI",
          "MN",
          "MS",
          "MO",
          "MT",
          "NE",
          "NV",
          "NH",
          "NJ",
          "NM",
          "NY",
          "NC",
          "ND",
          "OH",
          "OK",
          "OR",
          "PA",
          "RI",
          "SC",
          "SD",
          "TN",
          "TX",
          "UT",
          "VT",
          "VA",
          "WA",
          "WV",
          "WI",
          "WY"
         ],
         "locationmode": "USA-states",
         "locations": [
          "AL",
          "AK",
          "AZ",
          "AR",
          "CA",
          "CO",
          "CT",
          "DE",
          "FL",
          "GA",
          "HI",
          "ID",
          "IL",
          "IN",
          "IA",
          "KS",
          "KY",
          "LA",
          "ME",
          "MD",
          "MA",
          "MI",
          "MN",
          "MS",
          "MO",
          "MT",
          "NE",
          "NV",
          "NH",
          "NJ",
          "NM",
          "NY",
          "NC",
          "ND",
          "OH",
          "OK",
          "OR",
          "PA",
          "RI",
          "SC",
          "SD",
          "TN",
          "TX",
          "UT",
          "VT",
          "VA",
          "WA",
          "WV",
          "WI",
          "WY"
         ],
         "name": "2021",
         "type": "choropleth",
         "visible": false,
         "z": [
          30.1,
          35.6,
          38.7,
          22.3,
          26.6,
          31.4,
          42.3,
          54,
          37.5,
          23.5,
          17.3,
          19,
          29,
          43,
          15.3,
          24.3,
          55.6,
          55.9,
          47.1,
          42.8,
          36.8,
          31.5,
          24.5,
          28.4,
          36.5,
          19.5,
          11.4,
          29.2,
          32.3,
          32.4,
          51.6,
          28.7,
          39.2,
          17.2,
          48.1,
          24.4,
          26.8,
          43.2,
          41.7,
          42.8,
          12.6,
          56.6,
          16.8,
          21.1,
          42.3,
          30.5,
          28.1,
          90.9,
          31.6,
          18.9
         ],
         "zmax": 90.9,
         "zmin": 0
        },
        {
         "colorscale": [
          [
           0,
           "#30123b"
          ],
          [
           0.07142857142857142,
           "#4145ab"
          ],
          [
           0.14285714285714285,
           "#4675ed"
          ],
          [
           0.21428571428571427,
           "#39a2fc"
          ],
          [
           0.2857142857142857,
           "#1bcfd4"
          ],
          [
           0.35714285714285715,
           "#24eca6"
          ],
          [
           0.42857142857142855,
           "#61fc6c"
          ],
          [
           0.5,
           "#a4fc3b"
          ],
          [
           0.5714285714285714,
           "#d1e834"
          ],
          [
           0.6428571428571429,
           "#f3c63a"
          ],
          [
           0.7142857142857143,
           "#fe9b2d"
          ],
          [
           0.7857142857142857,
           "#f36315"
          ],
          [
           0.8571428571428571,
           "#d93806"
          ],
          [
           0.9285714285714286,
           "#b11901"
          ],
          [
           1,
           "#7a0402"
          ]
         ],
         "hoverinfo": "location+z+text",
         "hovertext": [
          "AL",
          "AK",
          "AZ",
          "AR",
          "CA",
          "CO",
          "CT",
          "DE",
          "District of Columbia",
          "FL",
          "GA",
          "HI",
          "ID",
          "IL",
          "IN",
          "IA",
          "KS",
          "KY",
          "LA",
          "ME",
          "MD",
          "MA",
          "MI",
          "MN",
          "MS",
          "MO",
          "MT",
          "NE",
          "NV",
          "NH",
          "NJ",
          "NM",
          "NY",
          "NC",
          "ND",
          "OH",
          "OK",
          "OR",
          "PA",
          "RI",
          "SC",
          "SD",
          "TN",
          "TX",
          "UT",
          "VT",
          "VA",
          "WA",
          "WV",
          "WI",
          "WY"
         ],
         "locationmode": "USA-states",
         "locations": [
          "AL",
          "AK",
          "AZ",
          "AR",
          "CA",
          "CO",
          "CT",
          "DE",
          "District of Columbia",
          "FL",
          "GA",
          "HI",
          "ID",
          "IL",
          "IN",
          "IA",
          "KS",
          "KY",
          "LA",
          "ME",
          "MD",
          "MA",
          "MI",
          "MN",
          "MS",
          "MO",
          "MT",
          "NE",
          "NV",
          "NH",
          "NJ",
          "NM",
          "NY",
          "NC",
          "ND",
          "OH",
          "OK",
          "OR",
          "PA",
          "RI",
          "SC",
          "SD",
          "TN",
          "TX",
          "UT",
          "VT",
          "VA",
          "WA",
          "WV",
          "WI",
          "WY"
         ],
         "name": "2022",
         "type": "choropleth",
         "visible": false,
         "z": [
          31.5,
          34.3,
          37.2,
          21.7,
          26.9,
          29.8,
          40.3,
          55.3,
          64.3,
          35.2,
          24.9,
          18.6,
          20.7,
          30,
          41,
          15.3,
          26.5,
          53.2,
          54.5,
          54.3,
          40.3,
          37.4,
          30.7,
          24.8,
          27.6,
          36.9,
          19.4,
          11.8,
          30.3,
          36,
          31.6,
          50.3,
          31.4,
          41.8,
          19.8,
          45.6,
          30.7,
          31.1,
          40.9,
          38.1,
          44.7,
          11.3,
          56,
          18.2,
          19.8,
          45.9,
          28.8,
          33.7,
          80.9,
          31.8,
          21.9
         ],
         "zmax": 90.9,
         "zmin": 0
        }
       ],
       "layout": {
        "geo": {
         "lakecolor": "rgb(255, 255, 255)",
         "projection": {
          "type": "albers usa"
         },
         "scope": "usa",
         "showlakes": true,
         "subunitcolor": "rgb(255, 255, 255)"
        },
        "height": 800,
        "margin": {
         "b": 50,
         "l": 50,
         "r": 50,
         "t": 50
        },
        "sliders": [
         {
          "active": 0,
          "pad": {
           "t": 50
          },
          "steps": [
           {
            "args": [
             {
              "visible": [
               true,
               false,
               false,
               false,
               false,
               false,
               false,
               false,
               false,
               false,
               false
              ]
             },
             {
              "title": "US Data for 1999 - Death Rate"
             }
            ],
            "label": "1999",
            "method": "update"
           },
           {
            "args": [
             {
              "visible": [
               false,
               true,
               false,
               false,
               false,
               false,
               false,
               false,
               false,
               false,
               false
              ]
             },
             {
              "title": "US Data for 2005 - Death Rate"
             }
            ],
            "label": "2005",
            "method": "update"
           },
           {
            "args": [
             {
              "visible": [
               false,
               false,
               true,
               false,
               false,
               false,
               false,
               false,
               false,
               false,
               false
              ]
             },
             {
              "title": "US Data for 2014 - Death Rate"
             }
            ],
            "label": "2014",
            "method": "update"
           },
           {
            "args": [
             {
              "visible": [
               false,
               false,
               false,
               true,
               false,
               false,
               false,
               false,
               false,
               false,
               false
              ]
             },
             {
              "title": "US Data for 2015 - Death Rate"
             }
            ],
            "label": "2015",
            "method": "update"
           },
           {
            "args": [
             {
              "visible": [
               false,
               false,
               false,
               false,
               true,
               false,
               false,
               false,
               false,
               false,
               false
              ]
             },
             {
              "title": "US Data for 2016 - Death Rate"
             }
            ],
            "label": "2016",
            "method": "update"
           },
           {
            "args": [
             {
              "visible": [
               false,
               false,
               false,
               false,
               false,
               true,
               false,
               false,
               false,
               false,
               false
              ]
             },
             {
              "title": "US Data for 2017 - Death Rate"
             }
            ],
            "label": "2017",
            "method": "update"
           },
           {
            "args": [
             {
              "visible": [
               false,
               false,
               false,
               false,
               false,
               false,
               true,
               false,
               false,
               false,
               false
              ]
             },
             {
              "title": "US Data for 2018 - Death Rate"
             }
            ],
            "label": "2018",
            "method": "update"
           },
           {
            "args": [
             {
              "visible": [
               false,
               false,
               false,
               false,
               false,
               false,
               false,
               true,
               false,
               false,
               false
              ]
             },
             {
              "title": "US Data for 2019 - Death Rate"
             }
            ],
            "label": "2019",
            "method": "update"
           },
           {
            "args": [
             {
              "visible": [
               false,
               false,
               false,
               false,
               false,
               false,
               false,
               false,
               true,
               false,
               false
              ]
             },
             {
              "title": "US Data for 2020 - Death Rate"
             }
            ],
            "label": "2020",
            "method": "update"
           },
           {
            "args": [
             {
              "visible": [
               false,
               false,
               false,
               false,
               false,
               false,
               false,
               false,
               false,
               true,
               false
              ]
             },
             {
              "title": "US Data for 2021 - Death Rate"
             }
            ],
            "label": "2021",
            "method": "update"
           },
           {
            "args": [
             {
              "visible": [
               false,
               false,
               false,
               false,
               false,
               false,
               false,
               false,
               false,
               false,
               true
              ]
             },
             {
              "title": "US Data for 2022 - Death Rate"
             }
            ],
            "label": "2022",
            "method": "update"
           }
          ],
          "x": 0.02,
          "xanchor": "left",
          "y": 0,
          "yanchor": "top"
         }
        ],
        "template": {
         "data": {
          "bar": [
           {
            "error_x": {
             "color": "#2a3f5f"
            },
            "error_y": {
             "color": "#2a3f5f"
            },
            "marker": {
             "line": {
              "color": "#E5ECF6",
              "width": 0.5
             },
             "pattern": {
              "fillmode": "overlay",
              "size": 10,
              "solidity": 0.2
             }
            },
            "type": "bar"
           }
          ],
          "barpolar": [
           {
            "marker": {
             "line": {
              "color": "#E5ECF6",
              "width": 0.5
             },
             "pattern": {
              "fillmode": "overlay",
              "size": 10,
              "solidity": 0.2
             }
            },
            "type": "barpolar"
           }
          ],
          "carpet": [
           {
            "aaxis": {
             "endlinecolor": "#2a3f5f",
             "gridcolor": "white",
             "linecolor": "white",
             "minorgridcolor": "white",
             "startlinecolor": "#2a3f5f"
            },
            "baxis": {
             "endlinecolor": "#2a3f5f",
             "gridcolor": "white",
             "linecolor": "white",
             "minorgridcolor": "white",
             "startlinecolor": "#2a3f5f"
            },
            "type": "carpet"
           }
          ],
          "choropleth": [
           {
            "colorbar": {
             "outlinewidth": 0,
             "ticks": ""
            },
            "type": "choropleth"
           }
          ],
          "contour": [
           {
            "colorbar": {
             "outlinewidth": 0,
             "ticks": ""
            },
            "colorscale": [
             [
              0,
              "#0d0887"
             ],
             [
              0.1111111111111111,
              "#46039f"
             ],
             [
              0.2222222222222222,
              "#7201a8"
             ],
             [
              0.3333333333333333,
              "#9c179e"
             ],
             [
              0.4444444444444444,
              "#bd3786"
             ],
             [
              0.5555555555555556,
              "#d8576b"
             ],
             [
              0.6666666666666666,
              "#ed7953"
             ],
             [
              0.7777777777777778,
              "#fb9f3a"
             ],
             [
              0.8888888888888888,
              "#fdca26"
             ],
             [
              1,
              "#f0f921"
             ]
            ],
            "type": "contour"
           }
          ],
          "contourcarpet": [
           {
            "colorbar": {
             "outlinewidth": 0,
             "ticks": ""
            },
            "type": "contourcarpet"
           }
          ],
          "heatmap": [
           {
            "colorbar": {
             "outlinewidth": 0,
             "ticks": ""
            },
            "colorscale": [
             [
              0,
              "#0d0887"
             ],
             [
              0.1111111111111111,
              "#46039f"
             ],
             [
              0.2222222222222222,
              "#7201a8"
             ],
             [
              0.3333333333333333,
              "#9c179e"
             ],
             [
              0.4444444444444444,
              "#bd3786"
             ],
             [
              0.5555555555555556,
              "#d8576b"
             ],
             [
              0.6666666666666666,
              "#ed7953"
             ],
             [
              0.7777777777777778,
              "#fb9f3a"
             ],
             [
              0.8888888888888888,
              "#fdca26"
             ],
             [
              1,
              "#f0f921"
             ]
            ],
            "type": "heatmap"
           }
          ],
          "heatmapgl": [
           {
            "colorbar": {
             "outlinewidth": 0,
             "ticks": ""
            },
            "colorscale": [
             [
              0,
              "#0d0887"
             ],
             [
              0.1111111111111111,
              "#46039f"
             ],
             [
              0.2222222222222222,
              "#7201a8"
             ],
             [
              0.3333333333333333,
              "#9c179e"
             ],
             [
              0.4444444444444444,
              "#bd3786"
             ],
             [
              0.5555555555555556,
              "#d8576b"
             ],
             [
              0.6666666666666666,
              "#ed7953"
             ],
             [
              0.7777777777777778,
              "#fb9f3a"
             ],
             [
              0.8888888888888888,
              "#fdca26"
             ],
             [
              1,
              "#f0f921"
             ]
            ],
            "type": "heatmapgl"
           }
          ],
          "histogram": [
           {
            "marker": {
             "pattern": {
              "fillmode": "overlay",
              "size": 10,
              "solidity": 0.2
             }
            },
            "type": "histogram"
           }
          ],
          "histogram2d": [
           {
            "colorbar": {
             "outlinewidth": 0,
             "ticks": ""
            },
            "colorscale": [
             [
              0,
              "#0d0887"
             ],
             [
              0.1111111111111111,
              "#46039f"
             ],
             [
              0.2222222222222222,
              "#7201a8"
             ],
             [
              0.3333333333333333,
              "#9c179e"
             ],
             [
              0.4444444444444444,
              "#bd3786"
             ],
             [
              0.5555555555555556,
              "#d8576b"
             ],
             [
              0.6666666666666666,
              "#ed7953"
             ],
             [
              0.7777777777777778,
              "#fb9f3a"
             ],
             [
              0.8888888888888888,
              "#fdca26"
             ],
             [
              1,
              "#f0f921"
             ]
            ],
            "type": "histogram2d"
           }
          ],
          "histogram2dcontour": [
           {
            "colorbar": {
             "outlinewidth": 0,
             "ticks": ""
            },
            "colorscale": [
             [
              0,
              "#0d0887"
             ],
             [
              0.1111111111111111,
              "#46039f"
             ],
             [
              0.2222222222222222,
              "#7201a8"
             ],
             [
              0.3333333333333333,
              "#9c179e"
             ],
             [
              0.4444444444444444,
              "#bd3786"
             ],
             [
              0.5555555555555556,
              "#d8576b"
             ],
             [
              0.6666666666666666,
              "#ed7953"
             ],
             [
              0.7777777777777778,
              "#fb9f3a"
             ],
             [
              0.8888888888888888,
              "#fdca26"
             ],
             [
              1,
              "#f0f921"
             ]
            ],
            "type": "histogram2dcontour"
           }
          ],
          "mesh3d": [
           {
            "colorbar": {
             "outlinewidth": 0,
             "ticks": ""
            },
            "type": "mesh3d"
           }
          ],
          "parcoords": [
           {
            "line": {
             "colorbar": {
              "outlinewidth": 0,
              "ticks": ""
             }
            },
            "type": "parcoords"
           }
          ],
          "pie": [
           {
            "automargin": true,
            "type": "pie"
           }
          ],
          "scatter": [
           {
            "fillpattern": {
             "fillmode": "overlay",
             "size": 10,
             "solidity": 0.2
            },
            "type": "scatter"
           }
          ],
          "scatter3d": [
           {
            "line": {
             "colorbar": {
              "outlinewidth": 0,
              "ticks": ""
             }
            },
            "marker": {
             "colorbar": {
              "outlinewidth": 0,
              "ticks": ""
             }
            },
            "type": "scatter3d"
           }
          ],
          "scattercarpet": [
           {
            "marker": {
             "colorbar": {
              "outlinewidth": 0,
              "ticks": ""
             }
            },
            "type": "scattercarpet"
           }
          ],
          "scattergeo": [
           {
            "marker": {
             "colorbar": {
              "outlinewidth": 0,
              "ticks": ""
             }
            },
            "type": "scattergeo"
           }
          ],
          "scattergl": [
           {
            "marker": {
             "colorbar": {
              "outlinewidth": 0,
              "ticks": ""
             }
            },
            "type": "scattergl"
           }
          ],
          "scattermapbox": [
           {
            "marker": {
             "colorbar": {
              "outlinewidth": 0,
              "ticks": ""
             }
            },
            "type": "scattermapbox"
           }
          ],
          "scatterpolar": [
           {
            "marker": {
             "colorbar": {
              "outlinewidth": 0,
              "ticks": ""
             }
            },
            "type": "scatterpolar"
           }
          ],
          "scatterpolargl": [
           {
            "marker": {
             "colorbar": {
              "outlinewidth": 0,
              "ticks": ""
             }
            },
            "type": "scatterpolargl"
           }
          ],
          "scatterternary": [
           {
            "marker": {
             "colorbar": {
              "outlinewidth": 0,
              "ticks": ""
             }
            },
            "type": "scatterternary"
           }
          ],
          "surface": [
           {
            "colorbar": {
             "outlinewidth": 0,
             "ticks": ""
            },
            "colorscale": [
             [
              0,
              "#0d0887"
             ],
             [
              0.1111111111111111,
              "#46039f"
             ],
             [
              0.2222222222222222,
              "#7201a8"
             ],
             [
              0.3333333333333333,
              "#9c179e"
             ],
             [
              0.4444444444444444,
              "#bd3786"
             ],
             [
              0.5555555555555556,
              "#d8576b"
             ],
             [
              0.6666666666666666,
              "#ed7953"
             ],
             [
              0.7777777777777778,
              "#fb9f3a"
             ],
             [
              0.8888888888888888,
              "#fdca26"
             ],
             [
              1,
              "#f0f921"
             ]
            ],
            "type": "surface"
           }
          ],
          "table": [
           {
            "cells": {
             "fill": {
              "color": "#EBF0F8"
             },
             "line": {
              "color": "white"
             }
            },
            "header": {
             "fill": {
              "color": "#C8D4E3"
             },
             "line": {
              "color": "white"
             }
            },
            "type": "table"
           }
          ]
         },
         "layout": {
          "annotationdefaults": {
           "arrowcolor": "#2a3f5f",
           "arrowhead": 0,
           "arrowwidth": 1
          },
          "autotypenumbers": "strict",
          "coloraxis": {
           "colorbar": {
            "outlinewidth": 0,
            "ticks": ""
           }
          },
          "colorscale": {
           "diverging": [
            [
             0,
             "#8e0152"
            ],
            [
             0.1,
             "#c51b7d"
            ],
            [
             0.2,
             "#de77ae"
            ],
            [
             0.3,
             "#f1b6da"
            ],
            [
             0.4,
             "#fde0ef"
            ],
            [
             0.5,
             "#f7f7f7"
            ],
            [
             0.6,
             "#e6f5d0"
            ],
            [
             0.7,
             "#b8e186"
            ],
            [
             0.8,
             "#7fbc41"
            ],
            [
             0.9,
             "#4d9221"
            ],
            [
             1,
             "#276419"
            ]
           ],
           "sequential": [
            [
             0,
             "#0d0887"
            ],
            [
             0.1111111111111111,
             "#46039f"
            ],
            [
             0.2222222222222222,
             "#7201a8"
            ],
            [
             0.3333333333333333,
             "#9c179e"
            ],
            [
             0.4444444444444444,
             "#bd3786"
            ],
            [
             0.5555555555555556,
             "#d8576b"
            ],
            [
             0.6666666666666666,
             "#ed7953"
            ],
            [
             0.7777777777777778,
             "#fb9f3a"
            ],
            [
             0.8888888888888888,
             "#fdca26"
            ],
            [
             1,
             "#f0f921"
            ]
           ],
           "sequentialminus": [
            [
             0,
             "#0d0887"
            ],
            [
             0.1111111111111111,
             "#46039f"
            ],
            [
             0.2222222222222222,
             "#7201a8"
            ],
            [
             0.3333333333333333,
             "#9c179e"
            ],
            [
             0.4444444444444444,
             "#bd3786"
            ],
            [
             0.5555555555555556,
             "#d8576b"
            ],
            [
             0.6666666666666666,
             "#ed7953"
            ],
            [
             0.7777777777777778,
             "#fb9f3a"
            ],
            [
             0.8888888888888888,
             "#fdca26"
            ],
            [
             1,
             "#f0f921"
            ]
           ]
          },
          "colorway": [
           "#636efa",
           "#EF553B",
           "#00cc96",
           "#ab63fa",
           "#FFA15A",
           "#19d3f3",
           "#FF6692",
           "#B6E880",
           "#FF97FF",
           "#FECB52"
          ],
          "font": {
           "color": "#2a3f5f"
          },
          "geo": {
           "bgcolor": "white",
           "lakecolor": "white",
           "landcolor": "#E5ECF6",
           "showlakes": true,
           "showland": true,
           "subunitcolor": "white"
          },
          "hoverlabel": {
           "align": "left"
          },
          "hovermode": "closest",
          "mapbox": {
           "style": "light"
          },
          "paper_bgcolor": "white",
          "plot_bgcolor": "#E5ECF6",
          "polar": {
           "angularaxis": {
            "gridcolor": "white",
            "linecolor": "white",
            "ticks": ""
           },
           "bgcolor": "#E5ECF6",
           "radialaxis": {
            "gridcolor": "white",
            "linecolor": "white",
            "ticks": ""
           }
          },
          "scene": {
           "xaxis": {
            "backgroundcolor": "#E5ECF6",
            "gridcolor": "white",
            "gridwidth": 2,
            "linecolor": "white",
            "showbackground": true,
            "ticks": "",
            "zerolinecolor": "white"
           },
           "yaxis": {
            "backgroundcolor": "#E5ECF6",
            "gridcolor": "white",
            "gridwidth": 2,
            "linecolor": "white",
            "showbackground": true,
            "ticks": "",
            "zerolinecolor": "white"
           },
           "zaxis": {
            "backgroundcolor": "#E5ECF6",
            "gridcolor": "white",
            "gridwidth": 2,
            "linecolor": "white",
            "showbackground": true,
            "ticks": "",
            "zerolinecolor": "white"
           }
          },
          "shapedefaults": {
           "line": {
            "color": "#2a3f5f"
           }
          },
          "ternary": {
           "aaxis": {
            "gridcolor": "white",
            "linecolor": "white",
            "ticks": ""
           },
           "baxis": {
            "gridcolor": "white",
            "linecolor": "white",
            "ticks": ""
           },
           "bgcolor": "#E5ECF6",
           "caxis": {
            "gridcolor": "white",
            "linecolor": "white",
            "ticks": ""
           }
          },
          "title": {
           "x": 0.05
          },
          "xaxis": {
           "automargin": true,
           "gridcolor": "white",
           "linecolor": "white",
           "ticks": "",
           "title": {
            "standoff": 15
           },
           "zerolinecolor": "white",
           "zerolinewidth": 2
          },
          "yaxis": {
           "automargin": true,
           "gridcolor": "white",
           "linecolor": "white",
           "ticks": "",
           "title": {
            "standoff": 15
           },
           "zerolinecolor": "white",
           "zerolinewidth": 2
          }
         }
        },
        "title": {
         "text": "US Data for 1999 - Death Rate"
        }
       }
      }
     },
     "metadata": {},
     "output_type": "display_data"
    }
   ],
   "source": [
    "import pandas as pd\n",
    "from pandas import *\n",
    "import plotly.graph_objs as go\n",
    "\n",
    "df = pd.read_csv(\"statesdata.csv\")\n",
    "df.columns = df.columns.str.strip()\n",
    "\n",
    "# Check for 'YEAR' column\n",
    "if 'YEAR' not in df.columns:\n",
    "    raise KeyError(\"The 'YEAR' column is missing or misspelled in the DataFrame.\")\n",
    "\n",
    "# Calculate min and max values for RATE to set fixed color scale\n",
    "min_rate = df['RATE'].min()\n",
    "max_rate = df['RATE'].max()\n",
    "\n",
    "# Sort years to ensure the slider goes from earliest to latest year\n",
    "years = sorted(df['YEAR'].unique())\n",
    "\n",
    "# Initialize the figure\n",
    "fig = go.Figure()\n",
    "\n",
    "# Create a choropleth map for each year and add it to the figure\n",
    "for year in years:\n",
    "    filtered_df = df[df['YEAR'] == year]\n",
    "    fig.add_trace(\n",
    "        go.Choropleth(\n",
    "            locations=filtered_df['STATE'],\n",
    "            z=filtered_df['RATE'],\n",
    "            locationmode='USA-states',\n",
    "            colorscale='Turbo',\n",
    "            zmin=min_rate,\n",
    "            zmax=max_rate,\n",
    "            hovertext=filtered_df['STATE'],\n",
    "            hoverinfo='location+z+text',\n",
    "            visible=False,\n",
    "            name=str(year)\n",
    "        )\n",
    "    )\n",
    "\n",
    "# Make the first trace visible\n",
    "fig.data[0].visible = True\n",
    "\n",
    "# Create sliders\n",
    "steps = []\n",
    "for i, year in enumerate(years):\n",
    "    step = dict(\n",
    "        method='update',\n",
    "        args=[{'visible': [j == i for j in range(len(fig.data))]},\n",
    "              {'title': f'US Data for {year} - Death Rate'}],\n",
    "        label=str(year)\n",
    "    )\n",
    "    steps.append(step)\n",
    "\n",
    "sliders = [dict(\n",
    "    active=0,\n",
    "    steps=steps,\n",
    "    x=0.02,  # Move the slider more to the left\n",
    "    xanchor='left',\n",
    "    y=0,\n",
    "    yanchor='top',\n",
    "    pad=dict(t=50)\n",
    ")]\n",
    "\n",
    "# Add the sliders to the figure\n",
    "fig.update_layout(\n",
    "    title_text=f'US Data for {years[0]} - Death Rate',\n",
    "    geo=dict(\n",
    "        scope='usa',\n",
    "        lakecolor='rgb(255, 255, 255)',\n",
    "        projection=dict(type='albers usa'),\n",
    "        showlakes=True,\n",
    "        subunitcolor=\"rgb(255, 255, 255)\",\n",
    "    ),\n",
    "    margin=dict(l=50, r=50, t=50, b=50),\n",
    "    sliders=sliders,\n",
    "    height=800,  # Adjust the height as needed\n",
    ")\n",
    "\n",
    "# Show the interactive map\n",
    "fig.show()"
   ]
  },
  {
   "cell_type": "markdown",
   "metadata": {},
   "source": [
    "*Figure 5: Deathrate of drug overdose mortality in all States in different years (interactive)*\n",
    "<br>\n",
    "*Data: MOET NOG!!! Linde, welke data was dit?*"
   ]
  },
  {
   "cell_type": "code",
   "execution_count": 40,
   "metadata": {
    "tags": [
     "hide-input"
    ]
   },
   "outputs": [
    {
     "data": {
      "application/vnd.plotly.v1+json": {
       "config": {
        "plotlyServerURL": "https://plot.ly"
       },
       "data": [
        {
         "fill": "tozeroy",
         "name": "5-14 years",
         "type": "scatter",
         "x": [
          1990,
          1991,
          1992,
          1993,
          1994,
          1995,
          1996,
          1997,
          1998,
          1999,
          2000,
          2001,
          2002,
          2003,
          2004,
          2005,
          2006,
          2007,
          2008,
          2009,
          2010,
          2011,
          2012,
          2013,
          2014,
          2015,
          2016,
          2017,
          2018,
          2019
         ],
         "y": [
          0.0006188785,
          0.0005889676,
          0.00051157735,
          0.0004522745,
          0.0004310756,
          0.00040359722,
          0.00037321515,
          0.00038346788,
          0.00036469247,
          0.00030456463,
          0.0002880862,
          0.00030305353,
          0.00031062943,
          0.00027550303,
          0.00025381774,
          0.00024809336,
          0.00023301985,
          0.00021050674,
          0.0001954151,
          0.0001819212,
          0.00017482766,
          0.00016337202,
          0.00015583467,
          0.00013864023,
          0.0001249514,
          0.00011209393,
          0.00011061303,
          0.00010476366,
          0.00011141919,
          0.000112154696
         ]
        },
        {
         "fill": "tonexty",
         "name": "15-49 years",
         "type": "scatter",
         "x": [
          1990,
          1991,
          1992,
          1993,
          1994,
          1995,
          1996,
          1997,
          1998,
          1999,
          2000,
          2001,
          2002,
          2003,
          2004,
          2005,
          2006,
          2007,
          2008,
          2009,
          2010,
          2011,
          2012,
          2013,
          2014,
          2015,
          2016,
          2017,
          2018,
          2019
         ],
         "y": [
          189.22745887850002,
          223.3815089676,
          268.37539157735,
          302.4007822745,
          356.1376710756,
          431.96976359722,
          486.92981321515,
          462.57688346788,
          457.95269469247,
          469.68664456463,
          441.1219580862,
          418.15893305353,
          377.96329062943,
          351.11062550303,
          318.37397381773997,
          314.22699809336,
          287.58293301985,
          276.08899050674,
          255.7211254151,
          238.3914819212,
          224.01074482766,
          203.21196337202002,
          183.20698583467,
          168.04371864023,
          151.03230495140002,
          157.63037209393,
          152.72263061303,
          148.95677476366,
          149.62847141919,
          144.347162154696
         ]
        },
        {
         "fill": "tonexty",
         "name": "50-69 years",
         "type": "scatter",
         "x": [
          1990,
          1991,
          1992,
          1993,
          1994,
          1995,
          1996,
          1997,
          1998,
          1999,
          2000,
          2001,
          2002,
          2003,
          2004,
          2005,
          2006,
          2007,
          2008,
          2009,
          2010,
          2011,
          2012,
          2013,
          2014,
          2015,
          2016,
          2017,
          2018,
          2019
         ],
         "y": [
          404.5898988785,
          445.0891389676,
          493.34556157735,
          529.6466822745,
          578.5408410755999,
          657.9062435972199,
          717.10512321515,
          687.41701346788,
          677.72889469247,
          693.17826456463,
          662.0275380861999,
          640.17130305353,
          600.25922062943,
          571.32984550303,
          534.6392638177399,
          533.66777809336,
          507.75348301984997,
          503.30649050674003,
          487.6057854151,
          475.56334192120005,
          466.53100482766,
          450.47296337202,
          432.66673583467,
          422.14419864023,
          403.6223649514,
          413.11767209392997,
          416.69837061302997,
          415.45582476366,
          407.86657141919,
          398.484402154696
         ]
        },
        {
         "fill": "tonexty",
         "name": "70+ years",
         "type": "scatter",
         "x": [
          1990,
          1991,
          1992,
          1993,
          1994,
          1995,
          1996,
          1997,
          1998,
          1999,
          2000,
          2001,
          2002,
          2003,
          2004,
          2005,
          2006,
          2007,
          2008,
          2009,
          2010,
          2011,
          2012,
          2013,
          2014,
          2015,
          2016,
          2017,
          2018,
          2019
         ],
         "y": [
          452.30025687849997,
          497.4322589676,
          549.51655157735,
          590.6618222745,
          643.2769010755999,
          728.4872985972199,
          793.38168321515,
          767.84486346788,
          762.91159469247,
          783.54915956463,
          754.8882330861999,
          737.56607805353,
          700.0997666294301,
          676.11963550303,
          642.3672988177399,
          643.84828209336,
          622.95716301985,
          626.5915555067401,
          618.0460454151,
          613.1856119212,
          611.4477248276601,
          600.57816337202,
          588.83680583467,
          584.85418864023,
          572.0898349514,
          589.01882209393,
          601.08925061303,
          604.0046347636601,
          602.57803141919,
          600.264062154696
         ]
        }
       ],
       "layout": {
        "legend": {
         "title": {
          "text": "Age Group"
         }
        },
        "template": {
         "data": {
          "bar": [
           {
            "error_x": {
             "color": "#2a3f5f"
            },
            "error_y": {
             "color": "#2a3f5f"
            },
            "marker": {
             "line": {
              "color": "#E5ECF6",
              "width": 0.5
             },
             "pattern": {
              "fillmode": "overlay",
              "size": 10,
              "solidity": 0.2
             }
            },
            "type": "bar"
           }
          ],
          "barpolar": [
           {
            "marker": {
             "line": {
              "color": "#E5ECF6",
              "width": 0.5
             },
             "pattern": {
              "fillmode": "overlay",
              "size": 10,
              "solidity": 0.2
             }
            },
            "type": "barpolar"
           }
          ],
          "carpet": [
           {
            "aaxis": {
             "endlinecolor": "#2a3f5f",
             "gridcolor": "white",
             "linecolor": "white",
             "minorgridcolor": "white",
             "startlinecolor": "#2a3f5f"
            },
            "baxis": {
             "endlinecolor": "#2a3f5f",
             "gridcolor": "white",
             "linecolor": "white",
             "minorgridcolor": "white",
             "startlinecolor": "#2a3f5f"
            },
            "type": "carpet"
           }
          ],
          "choropleth": [
           {
            "colorbar": {
             "outlinewidth": 0,
             "ticks": ""
            },
            "type": "choropleth"
           }
          ],
          "contour": [
           {
            "colorbar": {
             "outlinewidth": 0,
             "ticks": ""
            },
            "colorscale": [
             [
              0,
              "#0d0887"
             ],
             [
              0.1111111111111111,
              "#46039f"
             ],
             [
              0.2222222222222222,
              "#7201a8"
             ],
             [
              0.3333333333333333,
              "#9c179e"
             ],
             [
              0.4444444444444444,
              "#bd3786"
             ],
             [
              0.5555555555555556,
              "#d8576b"
             ],
             [
              0.6666666666666666,
              "#ed7953"
             ],
             [
              0.7777777777777778,
              "#fb9f3a"
             ],
             [
              0.8888888888888888,
              "#fdca26"
             ],
             [
              1,
              "#f0f921"
             ]
            ],
            "type": "contour"
           }
          ],
          "contourcarpet": [
           {
            "colorbar": {
             "outlinewidth": 0,
             "ticks": ""
            },
            "type": "contourcarpet"
           }
          ],
          "heatmap": [
           {
            "colorbar": {
             "outlinewidth": 0,
             "ticks": ""
            },
            "colorscale": [
             [
              0,
              "#0d0887"
             ],
             [
              0.1111111111111111,
              "#46039f"
             ],
             [
              0.2222222222222222,
              "#7201a8"
             ],
             [
              0.3333333333333333,
              "#9c179e"
             ],
             [
              0.4444444444444444,
              "#bd3786"
             ],
             [
              0.5555555555555556,
              "#d8576b"
             ],
             [
              0.6666666666666666,
              "#ed7953"
             ],
             [
              0.7777777777777778,
              "#fb9f3a"
             ],
             [
              0.8888888888888888,
              "#fdca26"
             ],
             [
              1,
              "#f0f921"
             ]
            ],
            "type": "heatmap"
           }
          ],
          "heatmapgl": [
           {
            "colorbar": {
             "outlinewidth": 0,
             "ticks": ""
            },
            "colorscale": [
             [
              0,
              "#0d0887"
             ],
             [
              0.1111111111111111,
              "#46039f"
             ],
             [
              0.2222222222222222,
              "#7201a8"
             ],
             [
              0.3333333333333333,
              "#9c179e"
             ],
             [
              0.4444444444444444,
              "#bd3786"
             ],
             [
              0.5555555555555556,
              "#d8576b"
             ],
             [
              0.6666666666666666,
              "#ed7953"
             ],
             [
              0.7777777777777778,
              "#fb9f3a"
             ],
             [
              0.8888888888888888,
              "#fdca26"
             ],
             [
              1,
              "#f0f921"
             ]
            ],
            "type": "heatmapgl"
           }
          ],
          "histogram": [
           {
            "marker": {
             "pattern": {
              "fillmode": "overlay",
              "size": 10,
              "solidity": 0.2
             }
            },
            "type": "histogram"
           }
          ],
          "histogram2d": [
           {
            "colorbar": {
             "outlinewidth": 0,
             "ticks": ""
            },
            "colorscale": [
             [
              0,
              "#0d0887"
             ],
             [
              0.1111111111111111,
              "#46039f"
             ],
             [
              0.2222222222222222,
              "#7201a8"
             ],
             [
              0.3333333333333333,
              "#9c179e"
             ],
             [
              0.4444444444444444,
              "#bd3786"
             ],
             [
              0.5555555555555556,
              "#d8576b"
             ],
             [
              0.6666666666666666,
              "#ed7953"
             ],
             [
              0.7777777777777778,
              "#fb9f3a"
             ],
             [
              0.8888888888888888,
              "#fdca26"
             ],
             [
              1,
              "#f0f921"
             ]
            ],
            "type": "histogram2d"
           }
          ],
          "histogram2dcontour": [
           {
            "colorbar": {
             "outlinewidth": 0,
             "ticks": ""
            },
            "colorscale": [
             [
              0,
              "#0d0887"
             ],
             [
              0.1111111111111111,
              "#46039f"
             ],
             [
              0.2222222222222222,
              "#7201a8"
             ],
             [
              0.3333333333333333,
              "#9c179e"
             ],
             [
              0.4444444444444444,
              "#bd3786"
             ],
             [
              0.5555555555555556,
              "#d8576b"
             ],
             [
              0.6666666666666666,
              "#ed7953"
             ],
             [
              0.7777777777777778,
              "#fb9f3a"
             ],
             [
              0.8888888888888888,
              "#fdca26"
             ],
             [
              1,
              "#f0f921"
             ]
            ],
            "type": "histogram2dcontour"
           }
          ],
          "mesh3d": [
           {
            "colorbar": {
             "outlinewidth": 0,
             "ticks": ""
            },
            "type": "mesh3d"
           }
          ],
          "parcoords": [
           {
            "line": {
             "colorbar": {
              "outlinewidth": 0,
              "ticks": ""
             }
            },
            "type": "parcoords"
           }
          ],
          "pie": [
           {
            "automargin": true,
            "type": "pie"
           }
          ],
          "scatter": [
           {
            "fillpattern": {
             "fillmode": "overlay",
             "size": 10,
             "solidity": 0.2
            },
            "type": "scatter"
           }
          ],
          "scatter3d": [
           {
            "line": {
             "colorbar": {
              "outlinewidth": 0,
              "ticks": ""
             }
            },
            "marker": {
             "colorbar": {
              "outlinewidth": 0,
              "ticks": ""
             }
            },
            "type": "scatter3d"
           }
          ],
          "scattercarpet": [
           {
            "marker": {
             "colorbar": {
              "outlinewidth": 0,
              "ticks": ""
             }
            },
            "type": "scattercarpet"
           }
          ],
          "scattergeo": [
           {
            "marker": {
             "colorbar": {
              "outlinewidth": 0,
              "ticks": ""
             }
            },
            "type": "scattergeo"
           }
          ],
          "scattergl": [
           {
            "marker": {
             "colorbar": {
              "outlinewidth": 0,
              "ticks": ""
             }
            },
            "type": "scattergl"
           }
          ],
          "scattermapbox": [
           {
            "marker": {
             "colorbar": {
              "outlinewidth": 0,
              "ticks": ""
             }
            },
            "type": "scattermapbox"
           }
          ],
          "scatterpolar": [
           {
            "marker": {
             "colorbar": {
              "outlinewidth": 0,
              "ticks": ""
             }
            },
            "type": "scatterpolar"
           }
          ],
          "scatterpolargl": [
           {
            "marker": {
             "colorbar": {
              "outlinewidth": 0,
              "ticks": ""
             }
            },
            "type": "scatterpolargl"
           }
          ],
          "scatterternary": [
           {
            "marker": {
             "colorbar": {
              "outlinewidth": 0,
              "ticks": ""
             }
            },
            "type": "scatterternary"
           }
          ],
          "surface": [
           {
            "colorbar": {
             "outlinewidth": 0,
             "ticks": ""
            },
            "colorscale": [
             [
              0,
              "#0d0887"
             ],
             [
              0.1111111111111111,
              "#46039f"
             ],
             [
              0.2222222222222222,
              "#7201a8"
             ],
             [
              0.3333333333333333,
              "#9c179e"
             ],
             [
              0.4444444444444444,
              "#bd3786"
             ],
             [
              0.5555555555555556,
              "#d8576b"
             ],
             [
              0.6666666666666666,
              "#ed7953"
             ],
             [
              0.7777777777777778,
              "#fb9f3a"
             ],
             [
              0.8888888888888888,
              "#fdca26"
             ],
             [
              1,
              "#f0f921"
             ]
            ],
            "type": "surface"
           }
          ],
          "table": [
           {
            "cells": {
             "fill": {
              "color": "#EBF0F8"
             },
             "line": {
              "color": "white"
             }
            },
            "header": {
             "fill": {
              "color": "#C8D4E3"
             },
             "line": {
              "color": "white"
             }
            },
            "type": "table"
           }
          ]
         },
         "layout": {
          "annotationdefaults": {
           "arrowcolor": "#2a3f5f",
           "arrowhead": 0,
           "arrowwidth": 1
          },
          "autotypenumbers": "strict",
          "coloraxis": {
           "colorbar": {
            "outlinewidth": 0,
            "ticks": ""
           }
          },
          "colorscale": {
           "diverging": [
            [
             0,
             "#8e0152"
            ],
            [
             0.1,
             "#c51b7d"
            ],
            [
             0.2,
             "#de77ae"
            ],
            [
             0.3,
             "#f1b6da"
            ],
            [
             0.4,
             "#fde0ef"
            ],
            [
             0.5,
             "#f7f7f7"
            ],
            [
             0.6,
             "#e6f5d0"
            ],
            [
             0.7,
             "#b8e186"
            ],
            [
             0.8,
             "#7fbc41"
            ],
            [
             0.9,
             "#4d9221"
            ],
            [
             1,
             "#276419"
            ]
           ],
           "sequential": [
            [
             0,
             "#0d0887"
            ],
            [
             0.1111111111111111,
             "#46039f"
            ],
            [
             0.2222222222222222,
             "#7201a8"
            ],
            [
             0.3333333333333333,
             "#9c179e"
            ],
            [
             0.4444444444444444,
             "#bd3786"
            ],
            [
             0.5555555555555556,
             "#d8576b"
            ],
            [
             0.6666666666666666,
             "#ed7953"
            ],
            [
             0.7777777777777778,
             "#fb9f3a"
            ],
            [
             0.8888888888888888,
             "#fdca26"
            ],
            [
             1,
             "#f0f921"
            ]
           ],
           "sequentialminus": [
            [
             0,
             "#0d0887"
            ],
            [
             0.1111111111111111,
             "#46039f"
            ],
            [
             0.2222222222222222,
             "#7201a8"
            ],
            [
             0.3333333333333333,
             "#9c179e"
            ],
            [
             0.4444444444444444,
             "#bd3786"
            ],
            [
             0.5555555555555556,
             "#d8576b"
            ],
            [
             0.6666666666666666,
             "#ed7953"
            ],
            [
             0.7777777777777778,
             "#fb9f3a"
            ],
            [
             0.8888888888888888,
             "#fdca26"
            ],
            [
             1,
             "#f0f921"
            ]
           ]
          },
          "colorway": [
           "#636efa",
           "#EF553B",
           "#00cc96",
           "#ab63fa",
           "#FFA15A",
           "#19d3f3",
           "#FF6692",
           "#B6E880",
           "#FF97FF",
           "#FECB52"
          ],
          "font": {
           "color": "#2a3f5f"
          },
          "geo": {
           "bgcolor": "white",
           "lakecolor": "white",
           "landcolor": "#E5ECF6",
           "showlakes": true,
           "showland": true,
           "subunitcolor": "white"
          },
          "hoverlabel": {
           "align": "left"
          },
          "hovermode": "closest",
          "mapbox": {
           "style": "light"
          },
          "paper_bgcolor": "white",
          "plot_bgcolor": "#E5ECF6",
          "polar": {
           "angularaxis": {
            "gridcolor": "white",
            "linecolor": "white",
            "ticks": ""
           },
           "bgcolor": "#E5ECF6",
           "radialaxis": {
            "gridcolor": "white",
            "linecolor": "white",
            "ticks": ""
           }
          },
          "scene": {
           "xaxis": {
            "backgroundcolor": "#E5ECF6",
            "gridcolor": "white",
            "gridwidth": 2,
            "linecolor": "white",
            "showbackground": true,
            "ticks": "",
            "zerolinecolor": "white"
           },
           "yaxis": {
            "backgroundcolor": "#E5ECF6",
            "gridcolor": "white",
            "gridwidth": 2,
            "linecolor": "white",
            "showbackground": true,
            "ticks": "",
            "zerolinecolor": "white"
           },
           "zaxis": {
            "backgroundcolor": "#E5ECF6",
            "gridcolor": "white",
            "gridwidth": 2,
            "linecolor": "white",
            "showbackground": true,
            "ticks": "",
            "zerolinecolor": "white"
           }
          },
          "shapedefaults": {
           "line": {
            "color": "#2a3f5f"
           }
          },
          "ternary": {
           "aaxis": {
            "gridcolor": "white",
            "linecolor": "white",
            "ticks": ""
           },
           "baxis": {
            "gridcolor": "white",
            "linecolor": "white",
            "ticks": ""
           },
           "bgcolor": "#E5ECF6",
           "caxis": {
            "gridcolor": "white",
            "linecolor": "white",
            "ticks": ""
           }
          },
          "title": {
           "x": 0.05
          },
          "xaxis": {
           "automargin": true,
           "gridcolor": "white",
           "linecolor": "white",
           "ticks": "",
           "title": {
            "standoff": 15
           },
           "zerolinecolor": "white",
           "zerolinewidth": 2
          },
          "yaxis": {
           "automargin": true,
           "gridcolor": "white",
           "linecolor": "white",
           "ticks": "",
           "title": {
            "standoff": 15
           },
           "zerolinecolor": "white",
           "zerolinewidth": 2
          }
         }
        },
        "title": {
         "text": "Drug-Related Deaths in Portugal by Age Group"
        },
        "xaxis": {
         "title": {
          "text": "Year"
         }
        },
        "yaxis": {
         "title": {
          "text": "Cumulative Deaths"
         }
        }
       }
      }
     },
     "metadata": {},
     "output_type": "display_data"
    }
   ],
   "source": [
    "import pandas as pd\n",
    "import plotly.graph_objects as go\n",
    "\n",
    "# Load the dataset\n",
    "df = pd.read_csv(\"15_deaths-due-to-illicit-drug-use-by-age.csv\")\n",
    "\n",
    "# Filter data for a specific country (e.g., Portugal)\n",
    "selected_country = 'Portugal'\n",
    "country_df = df[df['Entity'] == selected_country].copy()\n",
    "\n",
    "# Calculate cumulative deaths for stacking\n",
    "country_df['Cumulative 15-49 years'] = country_df['Deaths that are from all causes attributed to drug use, in both sexes aged 5-14 years'] + country_df['Deaths that are from all causes attributed to drug use, in both sexes aged 15-49 years']\n",
    "country_df['Cumulative 50-69 years'] = country_df['Cumulative 15-49 years'] + country_df['Deaths that are from all causes attributed to drug use, in both sexes aged 50-69 years']\n",
    "country_df['Cumulative 70+ years'] = country_df['Cumulative 50-69 years'] + country_df['Deaths that are from all causes attributed to drug use, in both sexes aged 70+ years']\n",
    "\n",
    "# Initialize the figure\n",
    "fig = go.Figure()\n",
    "\n",
    "# Add traces for each age group, using cumulative values for stacking\n",
    "fig.add_trace(go.Scatter(x=country_df['Year'], y=country_df['Deaths that are from all causes attributed to drug use, in both sexes aged 5-14 years'], fill='tozeroy', name='5-14 years'))\n",
    "fig.add_trace(go.Scatter(x=country_df['Year'], y=country_df['Cumulative 15-49 years'], fill='tonexty', name='15-49 years'))\n",
    "fig.add_trace(go.Scatter(x=country_df['Year'], y=country_df['Cumulative 50-69 years'], fill='tonexty', name='50-69 years'))\n",
    "fig.add_trace(go.Scatter(x=country_df['Year'], y=country_df['Cumulative 70+ years'], fill='tonexty', name='70+ years'))\n",
    "\n",
    "# Update plot layout\n",
    "fig.update_layout(title=f'Drug-Related Deaths in {selected_country} by Age Group', xaxis_title='Year', yaxis_title='Cumulative Deaths', legend_title='Age Group')\n",
    "\n",
    "# Show the interactive plot within the Jupyter Notebook\n",
    "fig.show()"
   ]
  },
  {
   "cell_type": "markdown",
   "metadata": {},
   "source": [
    "*Figure 6: Estimated annual number of drug use-related deaths, categorized by age*\n",
    "<br>\n",
    "*Data: IHME, Global Burden of Disease (2019)*"
   ]
  },
  {
   "cell_type": "code",
   "execution_count": 42,
   "metadata": {
    "tags": [
     "hide-input"
    ]
   },
   "outputs": [],
   "source": [
    "# ! pip3 install dash\n",
    "# ! pip install dash\n",
    "\n",
    "# import dash\n",
    "# from dash import dcc, html\n",
    "# from dash.dependencies import Input, Output\n",
    "# import plotly.graph_objects as go\n",
    "# import pandas as pd\n",
    "# import numpy as np\n",
    "\n",
    "# years = ['2021','2020','2019','2018','2017','2016','2015','2014','2013']\n",
    "# # Laad de dataset\n",
    "# treatment_df = pd.read_csv(\"Treatment.csv\")\n",
    "# inhabitants = pd.read_csv(\"Population_europe.csv\")\n",
    "# inhabitants_df = inhabitants[['Country Name'] + years].copy()\n",
    "# inhabitants_df.rename(columns={'Country Name': 'Country'}, inplace=True)\n",
    "\n",
    "# # Functie om het aantal per 1000 inwoners te berekenen\n",
    "# def calc_per_100_inhabitants(row, year):\n",
    "#     if pd.isna(row[year]):\n",
    "#         return np.nan\n",
    "#     else:\n",
    "#         return round(row[year] / (inhabitants_df.at[row.name, year] / 1000), 3)\n",
    "\n",
    "# # Maak een echte kopie van het treatment_df voor berekeningen per 1000 inwoners\n",
    "# per_inhabitants_df = treatment_df.copy()\n",
    "\n",
    "# # Bereken het aantal per 1000 inwoners voor elk jaar\n",
    "# for year in years:\n",
    "#     if year in treatment_df.columns and year in inhabitants_df.columns:\n",
    "#         per_inhabitants_df[year] = treatment_df.apply(lambda row: calc_per_100_inhabitants(row, year), axis=1)\n",
    "\n",
    "# per_inhabitants_df.reset_index(drop=True, inplace=True)\n",
    "\n",
    "# app2 = dash.Dash(__name__)\n",
    "\n",
    "# app2.layout = html.Div([\n",
    "#     html.H1(\"Een hele mooie titel, die ga ik nog bedenken...\"),\n",
    "\n",
    "#     html.Label(\"Select countries (Portugal is always included):\"),\n",
    "#     dcc.Dropdown(\n",
    "#         id='country-selector',\n",
    "#         options=[{'label': i, 'value': i} for i in treatment_df['Country'].unique() if i != 'Portugal'],\n",
    "#         value=['France', 'Spain'], \n",
    "#         multi=True\n",
    "#     ),\n",
    "#     html.Label(\"Select Scale:\"),\n",
    "#     dcc.Dropdown(\n",
    "#         id='scale-selector',\n",
    "#         options=[\n",
    "#             {'label': 'Linear', 'value': 'linear'},\n",
    "#             {'label': 'Logarithmic', 'value': 'log'}\n",
    "#         ],\n",
    "#         value='linear', \n",
    "#     ),\n",
    "#     html.Label(\"Select Unit:\"),\n",
    "#     dcc.Dropdown(\n",
    "#         id='data-selector',\n",
    "#         options=[\n",
    "#             {'label': 'Total amount of cases', 'value': 'total'},\n",
    "#             {'label': 'Cases/1000 inhabitants', 'value': 'per_inhabitants'}\n",
    "#         ],\n",
    "#         value='total', \n",
    "#     ),\n",
    "#     dcc.Graph(id='line-chart'),\n",
    "#     html.Div(id='missing-data-warning', style={'color': 'red', 'margin-top': '20px'})\n",
    "# ], style={'backgroundColor': 'lightgrey', 'padding': '20px'})\n",
    "\n",
    "# @app2.callback(\n",
    "#     Output('line-chart', 'figure'),\n",
    "#     [Input('country-selector', 'value'),\n",
    "#      Input('scale-selector', 'value'),\n",
    "#      Input('data-selector', 'value')]\n",
    "# )\n",
    "# def update_chart(selected_countries, selected_scale, selected_data):\n",
    "#     selected_countries.append('Portugal')  # Zorg ervoor dat Portugal altijd wordt toegevoegd\n",
    "\n",
    "#     # Kies de juiste dataset op basis van het geselecteerde data type\n",
    "#     filtered_df = per_inhabitants_df if selected_data == 'per_inhabitants' else treatment_df\n",
    "\n",
    "#     # Filter de dataframe op basis van de geselecteerde landen\n",
    "#     selected_countries_df = filtered_df[filtered_df['Country'].isin(selected_countries)].copy()\n",
    "#     final_df = selected_countries_df.melt(id_vars=['Country'], value_vars=years, var_name='Year', value_name='Cases')\n",
    "\n",
    "#     country_order = ['Portugal'] + sorted([c for c in selected_countries if c != 'Portugal'])\n",
    "    \n",
    "#     # Maak de figuur\n",
    "#     fig = go.Figure()\n",
    "\n",
    "#     for country in country_order:\n",
    "#         country_data = final_df[final_df['Country'] == country]\n",
    "#         fig.add_trace(go.Scatter(\n",
    "#             x=country_data['Year'],\n",
    "#             y=country_data['Cases'],\n",
    "#             mode='lines+markers',\n",
    "#             name=country\n",
    "#         ))\n",
    "\n",
    "#     fig.update_layout(\n",
    "#         title=\"Drug treatment demand\",\n",
    "#         xaxis_title=\"Year\",\n",
    "#         yaxis_title=\"Number of Cases\" if selected_data == 'total' else \"Cases per 1000 Inhabitants\",\n",
    "#         yaxis_type=selected_scale\n",
    "#     )\n",
    "\n",
    "#     return fig\n",
    "\n",
    "# if __name__ == '__main__':\n",
    "#     app2.run_server(debug=True, port=8055)\n",
    "\n",
    "# ! pip install plotly pandas ipywidgets\n",
    "# ! pip3 install plotly pandas ipywidgets\n",
    "\n",
    "# import pandas as pd\n",
    "# import plotly.graph_objects as go\n",
    "# import ipywidgets as widgets\n",
    "# from IPython.display import display\n",
    "\n",
    "# # Load datasets\n",
    "# treatment_df = pd.read_csv(\"Treatment.csv\")\n",
    "# inhabitants = pd.read_csv(\"Population_europe.csv\")\n",
    "\n",
    "# # Select relevant years for inhabitants dataset\n",
    "# years = ['2013', '2014', '2015', '2016', '2017', '2018', '2019', '2020', '2021']\n",
    "# inhabitants_df = inhabitants[['Country Name'] + years].copy()\n",
    "# inhabitants_df.rename(columns={'Country Name': 'Country'}, inplace=True)\n",
    "\n",
    "# # Function to calculate cases per 1000 inhabitants\n",
    "# def calc_per_1000_inhabitants(row, year):\n",
    "#     country_population = inhabitants_df.loc[inhabitants_df['Country'] == row['Country'], year].values\n",
    "#     if len(country_population) == 0 or pd.isna(country_population[0]):\n",
    "#         return None\n",
    "#     else:\n",
    "#         return round(row[year] / (country_population[0] / 1000), 3)\n",
    "\n",
    "# # Apply the function to treatment_df\n",
    "# per_inhabitants_df = treatment_df.copy()\n",
    "# for year in years:\n",
    "#     per_inhabitants_df[year] = per_inhabitants_df.apply(lambda row: calc_per_1000_inhabitants(row, year), axis=1)\n",
    "\n",
    "# # Dropdown widgets for country selection, scale selection, and data selection\n",
    "# country_options = ['Portugal'] + treatment_df['Country'].unique().tolist()\n",
    "# country_dropdown = widgets.Dropdown(\n",
    "#     options=country_options,\n",
    "#     value='Portugal',  # Default value changed to 'Portugal'\n",
    "#     description='Select countries:',\n",
    "#     disabled=False,\n",
    "#     continuous_update=False,\n",
    "# )\n",
    "\n",
    "# scale_dropdown = widgets.Dropdown(\n",
    "#     options=['linear', 'log'],\n",
    "#     value='linear',\n",
    "#     description='Select Scale:',\n",
    "#     disabled=False,\n",
    "# )\n",
    "\n",
    "# data_dropdown = widgets.Dropdown(\n",
    "#     options=['total', 'per_inhabitants'],\n",
    "#     value='total',\n",
    "#     description='Select Unit:',\n",
    "#     disabled=False,\n",
    "# )\n",
    "\n",
    "# # Create initial empty figure\n",
    "# fig = go.Figure()\n",
    "\n",
    "# # Update function to handle widget changes\n",
    "# def update_plot(selected_countries, selected_scale, selected_data):\n",
    "#     fig.update_layout(\n",
    "#         title=f\"Drug treatment demand ({selected_data})\",\n",
    "#         xaxis_title=\"Year\",\n",
    "#         yaxis_title=\"Number of Cases\" if selected_data == 'total' else \"Cases per 1000 Inhabitants\",\n",
    "#         yaxis_type=selected_scale,\n",
    "#     )\n",
    "    \n",
    "#     fig.data = []  # Clear existing traces\n",
    "    \n",
    "#     if isinstance(selected_countries, str):\n",
    "#         selected_countries = [selected_countries]\n",
    "#     selected_countries.append('Portugal')\n",
    "#     filtered_df = per_inhabitants_df if selected_data == 'per_inhabitants' else treatment_df\n",
    "\n",
    "#     for country in selected_countries:\n",
    "#         country_data = filtered_df[filtered_df['Country'] == country].melt(id_vars=['Country'], value_vars=years, var_name='Year', value_name='Cases')\n",
    "#         fig.add_trace(go.Bar(\n",
    "#             x=country_data['Year'],\n",
    "#             y=country_data['Cases'],\n",
    "#             name=country\n",
    "#         ))\n",
    "\n",
    "# # Register update function with widgets\n",
    "# widgets.interactive(update_plot, selected_countries=country_dropdown, selected_scale=scale_dropdown, selected_data=data_dropdown)\n",
    "\n",
    "# # Display the initial plot\n",
    "# display(fig)\n",
    "\n",
    "# # Extra display of the widgets for interaction\n",
    "# display(widgets.VBox([country_dropdown, scale_dropdown, data_dropdown]))\n",
    "\n"
   ]
  },
  {
   "cell_type": "code",
   "execution_count": 43,
   "metadata": {
    "tags": [
     "hide-input"
    ]
   },
   "outputs": [],
   "source": [
    "# import pandas as pd\n",
    "# import plotly.graph_objects as go\n",
    "\n",
    "# # Load the dataset\n",
    "# df = pd.read_csv(\"15_deaths-due-to-illicit-drug-use-by-age.csv\")\n",
    "\n",
    "# # Function to update the plot based on the selected country\n",
    "# def create_country_plot(selected_country):\n",
    "#     country_df = df[df['Entity'] == selected_country].copy()\n",
    "    \n",
    "#     # Calculate cumulative deaths for stacking\n",
    "#     country_df.loc[:, 'Cumulative 15-49 years'] = country_df['Deaths that are from all causes attributed to drug use, in both sexes aged 5-14 years'] + country_df['Deaths that are from all causes attributed to drug use, in both sexes aged 15-49 years']\n",
    "#     country_df.loc[:, 'Cumulative 50-69 years'] = country_df['Cumulative 15-49 years'] + country_df['Deaths that are from all causes attributed to drug use, in both sexes aged 50-69 years']\n",
    "#     country_df.loc[:, 'Cumulative 70+ years'] = country_df['Cumulative 50-69 years'] + country_df['Deaths that are from all causes attributed to drug use, in both sexes aged 70+ years']\n",
    "    \n",
    "#     fig = go.Figure()\n",
    "    \n",
    "#     # Add traces for each age group, using cumulative values for stacking\n",
    "#     fig.add_trace(go.Scatter(x=country_df['Year'], y=country_df['Deaths that are from all causes attributed to drug use, in both sexes aged 5-14 years'], fill='tozeroy', name='5-14 years'))\n",
    "#     fig.add_trace(go.Scatter(x=country_df['Year'], y=country_df['Cumulative 15-49 years'], fill='tonexty', name='15-49 years'))\n",
    "#     fig.add_trace(go.Scatter(x=country_df['Year'], y=country_df['Cumulative 50-69 years'], fill='tonexty', name='50-69 years'))\n",
    "#     fig.add_trace(go.Scatter(x=country_df['Year'], y=country_df['Cumulative 70+ years'], fill='tonexty', name='70+ years'))\n",
    "    \n",
    "#     # Update plot layout\n",
    "#     fig.update_layout(title=f'Drug-Related Deaths in {selected_country} by Age Group', xaxis_title='Year', yaxis_title='Cumulative Deaths', legend_title='Age Group')\n",
    "    \n",
    "#     fig.show()\n",
    "\n",
    "# create_country_plot('Portugal')\n",
    "\n",
    "###\n",
    "\n"
   ]
  },
  {
   "cell_type": "markdown",
   "metadata": {},
   "source": [
    "## References\n",
    "\n",
    "Ashton, H. (2019). Drug Decriminalization in Portugal A Public Health Response, a Humanistic Approach. *Health For The Millions*, 45(1), 41–43. https://papers.ssrn.com/sol3/papers.cfm?abstract_id=3010673\n",
    "<br>\n",
    "<br>\n",
    "Félix, S., & Portugal, P. (2017). Drug decriminalization and the price of illicit drugs. *The International Journal Of Drug Policy/International Journal On Drug Policy*, 39, 121–129. https://doi.org/10.1016/j.drugpo.2016.10.014\n",
    "<br>\n",
    "<br>\n",
    "Félix, S., Portugal, P., & Tavares, A. S. (2017). Going after the Addiction, Not the Addicted: The Impact of Drug Decriminalization in Portugal. *Social Science Research Network*. https://doi.org/10.2139/ssrn.3010673\n",
    "<br>\n",
    "<br>\n",
    "Ferraiolo, K. (2014). Morality framing in U.S. drug control policy: An example from marijuana decriminalization. *World Medical & Health Policy*, 6(4), 347–374. https://doi.org/10.1002/wmh3.114\n",
    "<br>\n",
    "<br>\n",
    "Gerstner, B. (2021). Oregon Narcotics Decriminalization: Example or Outcast?. *Ohio State Legal Studies Research Paper*, (668).\n",
    "<br>\n",
    "<br>\n",
    "Greenwald, G. (2009). Drug Decriminalization in Portugal: Lessons for Creating Fair and Successful Drug Policies. *Social Science Research Network*. https://doi.org/10.2139/ssrn.1543991\n",
    "<br>\n",
    "<br>\n",
    "Jesseman, R., & Payer, D. (2018). Decriminalization: options and evidence. *Canadian Centre on Substance Use and Addiction*, 2018, 1-18.\n",
    "<br>\n",
    "<br>\n",
    "Miech, R. A., Johnston, L., O’Malley, P. M., Bachman, J. G., Schulenberg, J., & Patrick, M. E. (2015). Trends in use of marijuana and attitudes toward marijuana among youth before and after decriminalization: The case of California 2007–2013. *The International Journal Of Drug Policy/International Journal On Drug Policy*, 26(4), 336–344. https://doi.org/10.1016/j.drugpo.2015.01.009\n",
    "\n",
    "\n",
    "\n",
    "\n",
    "\n",
    "\n"
   ]
  }
 ],
 "metadata": {
  "kernelspec": {
   "display_name": "Python 3",
   "language": "python",
   "name": "python3"
  },
  "language_info": {
   "codemirror_mode": {
    "name": "ipython",
    "version": 3
   },
   "file_extension": ".py",
   "mimetype": "text/x-python",
   "name": "python",
   "nbconvert_exporter": "python",
   "pygments_lexer": "ipython3",
   "version": "3.8.8"
  }
 },
 "nbformat": 4,
 "nbformat_minor": 2
}
